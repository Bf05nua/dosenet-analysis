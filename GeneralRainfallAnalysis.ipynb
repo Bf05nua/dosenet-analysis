{
 "cells": [
  {
   "cell_type": "raw",
   "metadata": {
    "collapsed": false
   },
   "source": [
    "Can only use iloc instead of loc because of some difficulties. Will try to change in the future, but now now because it seems like too much of a time waste."
   ]
  },
  {
   "cell_type": "code",
   "execution_count": 0,
   "metadata": {
    "collapsed": false
   },
   "outputs": [
   ],
   "source": [
   ]
  },
  {
   "cell_type": "code",
   "execution_count": 1,
   "metadata": {
    "collapsed": false
   },
   "outputs": [
   ],
   "source": [
    "import plotly.graph_objects as go\n",
    "import plotly\n",
    "import plotly.express as px\n",
    "from plotly.subplots import make_subplots\n",
    "from scipy.optimize import curve_fit\n",
    "import pandas as pd\n",
    "import numpy as np\n",
    "import io\n",
    "import requests\n",
    "import matplotlib.pyplot as plt"
   ]
  },
  {
   "cell_type": "code",
   "execution_count": 2,
   "metadata": {
    "collapsed": false
   },
   "outputs": [
   ],
   "source": [
    "#INPUTS\n",
    "cpm_use_url = True    #Default for what I'm doing rn\n",
    "rain_use_url = False  #See above\n",
    "\n",
    "cpm_url = \"https://radwatch.berkeley.edu/test/tmp/dosenet/pinewood_os.csv\"          #If cpm_use_url = True, modify this one\n",
    "rain_url = \"\"         #If rain_use_url = True, modify this one\n",
    "cpm_name = \"\"         #If cpm_use_url = False, modify this one\n",
    "rain_name = \"PinewoodOSRainfallData1.csv\"        #If rain_use_url = False, modify this one\n",
    "\n",
    "use_cut = False\n",
    "cut_start = '2015-11-01 00:00:00-08:00'\n",
    "cut_end = '2017-05-31 00:00:00-08:00'"
   ]
  },
  {
   "cell_type": "code",
   "execution_count": 3,
   "metadata": {
    "collapsed": false
   },
   "outputs": [
   ],
   "source": [
    "if (cpm_use_url):\n",
    "    url = cpm_url\n",
    "\n",
    "    header = {\n",
    "      \"User-Agent\": \"Mozilla/5.0 (X11; Linux x86_64) AppleWebKit/537.36 (KHTML, like Gecko) Chrome/50.0.2661.75 Safari/537.36\",\n",
    "      \"X-Requested-With\": \"XMLHttpRequest\"\n",
    "    }\n",
    "    s=requests.get(url,headers=header).text\n",
    "\n",
    "    cpm_data = pd.read_csv(io.StringIO(s))\n",
    "else:\n",
    "    cpm_data = pd.read_csv(cpm_name)\n",
    "\n",
    "if (rain_use_url):\n",
    "    url = rain_url\n",
    "\n",
    "    header = {\n",
    "      \"User-Agent\": \"Mozilla/5.0 (X11; Linux x86_64) AppleWebKit/537.36 (KHTML, like Gecko) Chrome/50.0.2661.75 Safari/537.36\",\n",
    "      \"X-Requested-With\": \"XMLHttpRequest\"\n",
    "    }\n",
    "    s=requests.get(url,headers=header).text\n",
    "\n",
    "    data_rain = pd.read_csv(io.StringIO(s))\n",
    "else:\n",
    "    data_rain = pd.read_csv(rain_name)\n",
    "\n",
    "if (use_cut):\n",
    "    cpm_data = cpm_data[cpm_data['deviceTime_local']>cut_start]\n",
    "    cpm_data = cpm_data[cpm_data['deviceTime_local']<cut_end]\n",
    "\n",
    "daily_avg_data = []\n",
    "daily_sum = 0\n",
    "temp_array = []\n",
    "starting_unix_time = cpm_data.iloc[len(cpm_data) - 2, 2]\n",
    "ending_unix_time = cpm_data.iloc[0, 2]\n",
    "\n",
    "while (starting_unix_time <= ending_unix_time):\n",
    "    daily_cut_data = cpm_data[cpm_data[\"deviceTime_unix\"]>starting_unix_time]\n",
    "    daily_cut_data = daily_cut_data[daily_cut_data[\"deviceTime_unix\"]<starting_unix_time + 86400]\n",
    "    if (len(daily_cut_data) == 0):\n",
    "        starting_unix_time = starting_unix_time + 86400\n",
    "        continue\n",
    "    for i in range(len(daily_cut_data)):\n",
    "        #daily_sum = daily_sum + daily_cut_data.loc[i, \"cpm\"]\n",
    "        daily_sum = daily_sum + daily_cut_data.iloc[i, 3]\n",
    "    daily_avg = daily_sum / len(daily_cut_data)\n",
    "    daily_avg_data.append([daily_cut_data.iloc[0, 0], starting_unix_time,  daily_avg])\n",
    "    starting_unix_time = starting_unix_time + 86400\n",
    "    daily_sum = 0\n",
    "\n",
    "changable_avg_data = pd.DataFrame(daily_avg_data, columns = [\"deviceTime_local\", \"deviceTime_unix\",  \"cpm\"])\n",
    "\n",
    "\n"
   ]
  },
  {
   "cell_type": "code",
   "execution_count": 4,
   "metadata": {
    "collapsed": false
   },
   "outputs": [
   ],
   "source": [
    "def get_averaged_data_list(interval = 86400, data = cpm_data):\n",
    "    interval_avg_data = []\n",
    "    interval_sum = 0\n",
    "    temp_array = []\n",
    "    starting_unix_time = cpm_data.iloc[len(cpm_data) - 2, 2]\n",
    "    ending_unix_time = cpm_data.iloc[0, 2]\n",
    "\n",
    "    while (starting_unix_time <= ending_unix_time):\n",
    "        interval_cut_data = data[data[\"deviceTime_unix\"]>starting_unix_time]\n",
    "        interval_cut_data = interval_cut_data[interval_cut_data[\"deviceTime_unix\"]<starting_unix_time + interval]\n",
    "        if (len(interval_cut_data) == 0):\n",
    "            starting_unix_time = starting_unix_time + interval\n",
    "            continue\n",
    "        for i in range(len(interval_cut_data)):\n",
    "            interval_sum = interval_sum + interval_cut_data.iloc[i, 3]\n",
    "        interval_avg = interval_sum / len(interval_cut_data)\n",
    "        interval_avg_data.append([interval_cut_data.iloc[0, 1], interval_cut_data.iloc[0, 2],interval_avg])\n",
    "        starting_unix_time = starting_unix_time + interval\n",
    "        interval_sum = 0\n",
    "    return interval_avg_data"
   ]
  },
  {
   "cell_type": "code",
   "execution_count": 5,
   "metadata": {
    "collapsed": false
   },
   "outputs": [
   ],
   "source": [
    "def get_averaged_data_pandas(interval = 86400, data = cpm_data):\n",
    "    avg_data_list = get_averaged_data_list(interval, data)\n",
    "    avg_data = pd.DataFrame(avg_data_list, columns = [\"deviceTime_local\", \"deviceTime_unix\", \"cpm\"])\n",
    "    return avg_data"
   ]
  },
  {
   "cell_type": "code",
   "execution_count": 6,
   "metadata": {
    "collapsed": false
   },
   "outputs": [
   ],
   "source": [
    "def get_combined_data(x_cpm = changable_avg_data, y_rain = data_rain):\n",
    "    combined_data_list = []\n",
    "    for i in range(len(x_cpm)):\n",
    "        cpm_value = x_cpm.iloc[i, 2]\n",
    "        date_value = x_cpm.iloc[i, 0]\n",
    "        new_date = date_value[:10]\n",
    "        cut_rain_value = y_rain[y_rain[\"DATE\"]==new_date]\n",
    "        if (len(cut_rain_value) == 0):\n",
    "            continue\n",
    "        combined_data_list.append([cpm_value, cut_rain_value.iloc[0, 3]])\n",
    "    combined_data = pd.DataFrame(combined_data_list, columns = [\"cpm\", \"PRCP\"])\n",
    "    return combined_data"
   ]
  },
  {
   "cell_type": "code",
   "execution_count": 7,
   "metadata": {
    "collapsed": false
   },
   "outputs": [
   ],
   "source": [
    "def model_combined_data(x_model = changable_avg_data, y_model = data_rain):\n",
    "    \n",
    "    combined_data = get_combined_data(x_model, y_model)\n",
    "    x_list = []\n",
    "    y_list = []\n",
    "    for i in range(len(combined_data)):\n",
    "        x_list.append(combined_data.iloc[i, 1])\n",
    "        y_list.append(combined_data.iloc[i, 0])\n",
    "\n",
    "    fig = px.scatter(x=x_list, y=y_list)\n",
    "    fig.update_xaxes(title=\"PRCP (inches)\",titlefont=dict(color='black', size=20),\n",
    "                 linecolor='black',tickfont=dict(color='black',size=12))\n",
    "    fig.update_yaxes(title=\"CPM\",titlefont=dict(color='black', size=20),\n",
    "                 showgrid=False,tickcolor='black',\n",
    "                 tickfont=dict(color='black', size=16))\n",
    "    fig.update_layout(\n",
    "                 title_text=\"CPM vs Amount of Rainfall in Inches\")\n",
    "    fig.show()"
   ]
  },
  {
   "cell_type": "code",
   "execution_count": 8,
   "metadata": {
    "collapsed": false
   },
   "outputs": [
   ],
   "source": [
    "def graph_cpm_vs_rainfall():\n",
    "    fig = make_subplots(specs=[[{\"secondary_y\": True}]])\n",
    "\n",
    "    fig.add_trace(\n",
    "        go.Scatter(x = changable_avg_data['deviceTime_local'],\n",
    "                   y = changable_avg_data['cpm'], name=\"CPM\"),\n",
    "                   secondary_y=False,\n",
    "        )\n",
    "    fig.add_trace(\n",
    "        go.Scatter(x = data_rain['DATE'],\n",
    "                   y = data_rain['PRCP'],\n",
    "                   name=\"PRCP\"),\n",
    "                   secondary_y=True,\n",
    "        )\n",
    "    fig.update_layout(plot_bgcolor='light blue',width=1000, height=450)\n",
    "    fig.update_layout(\n",
    "        title_text=\"CPM with Rainfall\"\n",
    "    )\n",
    "    fig.update_xaxes(title=\"Time (local) \",titlefont=dict(color='black', size=20),\n",
    "                     linecolor='black',tickfont=dict(color='black',size=12))\n",
    "    fig.update_layout(legend_orientation=\"h\",\n",
    "                      legend=dict(x=0,y=-.2, font=dict(size=13)))\n",
    "\n",
    "    fig.update_yaxes(title=\"CPM\",titlefont=dict(color='black', size=20),\n",
    "                     showgrid=False,tickcolor='black',\n",
    "                     tickfont=dict(color='black', size=16), secondary_y=False)\n",
    "    fig.update_yaxes(title=\"PRCP\",titlefont=dict(color='black', size=20),\n",
    "                     showgrid=False,tickcolor='black',\n",
    "                     tickfont=dict(color='black', size=16), secondary_y=True)\n",
    "    fig.show()"
   ]
  },
  {
   "cell_type": "code",
   "execution_count": 9,
   "metadata": {
    "collapsed": false
   },
   "outputs": [
    {
     "data": {
      "text/html": [
       "<div>\n",
       "<style scoped>\n",
       "    .dataframe tbody tr th:only-of-type {\n",
       "        vertical-align: middle;\n",
       "    }\n",
       "\n",
       "    .dataframe tbody tr th {\n",
       "        vertical-align: top;\n",
       "    }\n",
       "\n",
       "    .dataframe thead th {\n",
       "        text-align: right;\n",
       "    }\n",
       "</style>\n",
       "<table border=\"1\" class=\"dataframe\">\n",
       "  <thead>\n",
       "    <tr style=\"text-align: right;\">\n",
       "      <th></th>\n",
       "      <th>deviceTime_utc</th>\n",
       "      <th>deviceTime_local</th>\n",
       "      <th>deviceTime_unix</th>\n",
       "      <th>cpm</th>\n",
       "      <th>cpmError</th>\n",
       "      <th>error_flag</th>\n",
       "    </tr>\n",
       "  </thead>\n",
       "  <tbody>\n",
       "    <tr>\n",
       "      <th>0</th>\n",
       "      <td>2019-04-15 06:55:42+00:00</td>\n",
       "      <td>2019-04-14 23:55:42-07:00</td>\n",
       "      <td>1555311342</td>\n",
       "      <td>3.2</td>\n",
       "      <td>0.800000</td>\n",
       "      <td>NaN</td>\n",
       "    </tr>\n",
       "    <tr>\n",
       "      <th>1</th>\n",
       "      <td>2019-04-15 06:50:42+00:00</td>\n",
       "      <td>2019-04-14 23:50:42-07:00</td>\n",
       "      <td>1555311042</td>\n",
       "      <td>1.8</td>\n",
       "      <td>0.600000</td>\n",
       "      <td>NaN</td>\n",
       "    </tr>\n",
       "    <tr>\n",
       "      <th>2</th>\n",
       "      <td>2019-04-15 06:45:42+00:00</td>\n",
       "      <td>2019-04-14 23:45:42-07:00</td>\n",
       "      <td>1555310742</td>\n",
       "      <td>1.6</td>\n",
       "      <td>0.565685</td>\n",
       "      <td>NaN</td>\n",
       "    </tr>\n",
       "    <tr>\n",
       "      <th>3</th>\n",
       "      <td>2019-04-15 06:40:42+00:00</td>\n",
       "      <td>2019-04-14 23:40:42-07:00</td>\n",
       "      <td>1555310442</td>\n",
       "      <td>2.2</td>\n",
       "      <td>0.663325</td>\n",
       "      <td>NaN</td>\n",
       "    </tr>\n",
       "    <tr>\n",
       "      <th>4</th>\n",
       "      <td>2019-04-15 06:35:42+00:00</td>\n",
       "      <td>2019-04-14 23:35:42-07:00</td>\n",
       "      <td>1555310142</td>\n",
       "      <td>2.4</td>\n",
       "      <td>0.692820</td>\n",
       "      <td>NaN</td>\n",
       "    </tr>\n",
       "    <tr>\n",
       "      <th>...</th>\n",
       "      <td>...</td>\n",
       "      <td>...</td>\n",
       "      <td>...</td>\n",
       "      <td>...</td>\n",
       "      <td>...</td>\n",
       "      <td>...</td>\n",
       "    </tr>\n",
       "    <tr>\n",
       "      <th>118707</th>\n",
       "      <td>2018-02-01 21:31:45+00:00</td>\n",
       "      <td>2018-02-01 13:31:45-08:00</td>\n",
       "      <td>1517520705</td>\n",
       "      <td>1.0</td>\n",
       "      <td>0.447214</td>\n",
       "      <td>NaN</td>\n",
       "    </tr>\n",
       "    <tr>\n",
       "      <th>118708</th>\n",
       "      <td>2018-02-01 21:26:46+00:00</td>\n",
       "      <td>2018-02-01 13:26:46-08:00</td>\n",
       "      <td>1517520406</td>\n",
       "      <td>1.8</td>\n",
       "      <td>0.600000</td>\n",
       "      <td>NaN</td>\n",
       "    </tr>\n",
       "    <tr>\n",
       "      <th>118709</th>\n",
       "      <td>2018-02-01 21:26:45+00:00</td>\n",
       "      <td>2018-02-01 13:26:45-08:00</td>\n",
       "      <td>1517520405</td>\n",
       "      <td>1.8</td>\n",
       "      <td>0.600000</td>\n",
       "      <td>NaN</td>\n",
       "    </tr>\n",
       "    <tr>\n",
       "      <th>118710</th>\n",
       "      <td>2018-02-01 21:21:47+00:00</td>\n",
       "      <td>2018-02-01 13:21:47-08:00</td>\n",
       "      <td>1517520107</td>\n",
       "      <td>2.0</td>\n",
       "      <td>0.632456</td>\n",
       "      <td>NaN</td>\n",
       "    </tr>\n",
       "    <tr>\n",
       "      <th>118711</th>\n",
       "      <td>2018-02-01 21:21:45+00:00</td>\n",
       "      <td>2018-02-01 13:21:45-08:00</td>\n",
       "      <td>1517520105</td>\n",
       "      <td>2.0</td>\n",
       "      <td>0.632456</td>\n",
       "      <td>NaN</td>\n",
       "    </tr>\n",
       "  </tbody>\n",
       "</table>\n",
       "<p>118712 rows × 6 columns</p>\n",
       "</div>"
      ],
      "text/plain": [
       "                   deviceTime_utc           deviceTime_local  deviceTime_unix  \\\n",
       "0       2019-04-15 06:55:42+00:00  2019-04-14 23:55:42-07:00       1555311342   \n",
       "1       2019-04-15 06:50:42+00:00  2019-04-14 23:50:42-07:00       1555311042   \n",
       "2       2019-04-15 06:45:42+00:00  2019-04-14 23:45:42-07:00       1555310742   \n",
       "3       2019-04-15 06:40:42+00:00  2019-04-14 23:40:42-07:00       1555310442   \n",
       "4       2019-04-15 06:35:42+00:00  2019-04-14 23:35:42-07:00       1555310142   \n",
       "...                           ...                        ...              ...   \n",
       "118707  2018-02-01 21:31:45+00:00  2018-02-01 13:31:45-08:00       1517520705   \n",
       "118708  2018-02-01 21:26:46+00:00  2018-02-01 13:26:46-08:00       1517520406   \n",
       "118709  2018-02-01 21:26:45+00:00  2018-02-01 13:26:45-08:00       1517520405   \n",
       "118710  2018-02-01 21:21:47+00:00  2018-02-01 13:21:47-08:00       1517520107   \n",
       "118711  2018-02-01 21:21:45+00:00  2018-02-01 13:21:45-08:00       1517520105   \n",
       "\n",
       "        cpm  cpmError  error_flag  \n",
       "0       3.2  0.800000         NaN  \n",
       "1       1.8  0.600000         NaN  \n",
       "2       1.6  0.565685         NaN  \n",
       "3       2.2  0.663325         NaN  \n",
       "4       2.4  0.692820         NaN  \n",
       "...     ...       ...         ...  \n",
       "118707  1.0  0.447214         NaN  \n",
       "118708  1.8  0.600000         NaN  \n",
       "118709  1.8  0.600000         NaN  \n",
       "118710  2.0  0.632456         NaN  \n",
       "118711  2.0  0.632456         NaN  \n",
       "\n",
       "[118712 rows x 6 columns]"
      ]
     },
     "execution_count": 9,
     "metadata": {
     },
     "output_type": "execute_result"
    }
   ],
   "source": [
    "cpm_data"
   ]
  },
  {
   "cell_type": "code",
   "execution_count": 10,
   "metadata": {
    "collapsed": false
   },
   "outputs": [
    {
     "data": {
      "text/html": [
       "<div>\n",
       "<style scoped>\n",
       "    .dataframe tbody tr th:only-of-type {\n",
       "        vertical-align: middle;\n",
       "    }\n",
       "\n",
       "    .dataframe tbody tr th {\n",
       "        vertical-align: top;\n",
       "    }\n",
       "\n",
       "    .dataframe thead th {\n",
       "        text-align: right;\n",
       "    }\n",
       "</style>\n",
       "<table border=\"1\" class=\"dataframe\">\n",
       "  <thead>\n",
       "    <tr style=\"text-align: right;\">\n",
       "      <th></th>\n",
       "      <th>STATION</th>\n",
       "      <th>NAME</th>\n",
       "      <th>DATE</th>\n",
       "      <th>PRCP</th>\n",
       "      <th>SNOW</th>\n",
       "    </tr>\n",
       "  </thead>\n",
       "  <tbody>\n",
       "    <tr>\n",
       "      <th>0</th>\n",
       "      <td>US1CASC0001</td>\n",
       "      <td>MOUNTAIN VIEW 1.2 S, CA US</td>\n",
       "      <td>2018-02-01</td>\n",
       "      <td>0.0</td>\n",
       "      <td>0.0</td>\n",
       "    </tr>\n",
       "    <tr>\n",
       "      <th>1</th>\n",
       "      <td>US1CASC0001</td>\n",
       "      <td>MOUNTAIN VIEW 1.2 S, CA US</td>\n",
       "      <td>2018-02-02</td>\n",
       "      <td>0.0</td>\n",
       "      <td>0.0</td>\n",
       "    </tr>\n",
       "    <tr>\n",
       "      <th>2</th>\n",
       "      <td>US1CASC0001</td>\n",
       "      <td>MOUNTAIN VIEW 1.2 S, CA US</td>\n",
       "      <td>2018-02-03</td>\n",
       "      <td>0.0</td>\n",
       "      <td>0.0</td>\n",
       "    </tr>\n",
       "    <tr>\n",
       "      <th>3</th>\n",
       "      <td>US1CASC0001</td>\n",
       "      <td>MOUNTAIN VIEW 1.2 S, CA US</td>\n",
       "      <td>2018-02-04</td>\n",
       "      <td>0.0</td>\n",
       "      <td>0.0</td>\n",
       "    </tr>\n",
       "    <tr>\n",
       "      <th>4</th>\n",
       "      <td>US1CASC0001</td>\n",
       "      <td>MOUNTAIN VIEW 1.2 S, CA US</td>\n",
       "      <td>2018-02-05</td>\n",
       "      <td>0.0</td>\n",
       "      <td>0.0</td>\n",
       "    </tr>\n",
       "    <tr>\n",
       "      <th>...</th>\n",
       "      <td>...</td>\n",
       "      <td>...</td>\n",
       "      <td>...</td>\n",
       "      <td>...</td>\n",
       "      <td>...</td>\n",
       "    </tr>\n",
       "    <tr>\n",
       "      <th>434</th>\n",
       "      <td>US1CASC0001</td>\n",
       "      <td>MOUNTAIN VIEW 1.2 S, CA US</td>\n",
       "      <td>2019-04-11</td>\n",
       "      <td>0.0</td>\n",
       "      <td>0.0</td>\n",
       "    </tr>\n",
       "    <tr>\n",
       "      <th>435</th>\n",
       "      <td>US1CASC0001</td>\n",
       "      <td>MOUNTAIN VIEW 1.2 S, CA US</td>\n",
       "      <td>2019-04-12</td>\n",
       "      <td>0.0</td>\n",
       "      <td>0.0</td>\n",
       "    </tr>\n",
       "    <tr>\n",
       "      <th>436</th>\n",
       "      <td>US1CASC0001</td>\n",
       "      <td>MOUNTAIN VIEW 1.2 S, CA US</td>\n",
       "      <td>2019-04-13</td>\n",
       "      <td>0.0</td>\n",
       "      <td>0.0</td>\n",
       "    </tr>\n",
       "    <tr>\n",
       "      <th>437</th>\n",
       "      <td>US1CASC0001</td>\n",
       "      <td>MOUNTAIN VIEW 1.2 S, CA US</td>\n",
       "      <td>2019-04-14</td>\n",
       "      <td>0.0</td>\n",
       "      <td>0.0</td>\n",
       "    </tr>\n",
       "    <tr>\n",
       "      <th>438</th>\n",
       "      <td>US1CASC0001</td>\n",
       "      <td>MOUNTAIN VIEW 1.2 S, CA US</td>\n",
       "      <td>2019-04-15</td>\n",
       "      <td>0.0</td>\n",
       "      <td>0.0</td>\n",
       "    </tr>\n",
       "  </tbody>\n",
       "</table>\n",
       "<p>439 rows × 5 columns</p>\n",
       "</div>"
      ],
      "text/plain": [
       "         STATION                        NAME        DATE  PRCP  SNOW\n",
       "0    US1CASC0001  MOUNTAIN VIEW 1.2 S, CA US  2018-02-01   0.0   0.0\n",
       "1    US1CASC0001  MOUNTAIN VIEW 1.2 S, CA US  2018-02-02   0.0   0.0\n",
       "2    US1CASC0001  MOUNTAIN VIEW 1.2 S, CA US  2018-02-03   0.0   0.0\n",
       "3    US1CASC0001  MOUNTAIN VIEW 1.2 S, CA US  2018-02-04   0.0   0.0\n",
       "4    US1CASC0001  MOUNTAIN VIEW 1.2 S, CA US  2018-02-05   0.0   0.0\n",
       "..           ...                         ...         ...   ...   ...\n",
       "434  US1CASC0001  MOUNTAIN VIEW 1.2 S, CA US  2019-04-11   0.0   0.0\n",
       "435  US1CASC0001  MOUNTAIN VIEW 1.2 S, CA US  2019-04-12   0.0   0.0\n",
       "436  US1CASC0001  MOUNTAIN VIEW 1.2 S, CA US  2019-04-13   0.0   0.0\n",
       "437  US1CASC0001  MOUNTAIN VIEW 1.2 S, CA US  2019-04-14   0.0   0.0\n",
       "438  US1CASC0001  MOUNTAIN VIEW 1.2 S, CA US  2019-04-15   0.0   0.0\n",
       "\n",
       "[439 rows x 5 columns]"
      ]
     },
     "execution_count": 10,
     "metadata": {
     },
     "output_type": "execute_result"
    }
   ],
   "source": [
    "data_rain"
   ]
  },
  {
   "cell_type": "code",
   "execution_count": 16,
   "metadata": {
    "collapsed": false
   },
   "outputs": [
   ],
   "source": [
    "def find_rainfall_dates_list(lower_bound = 0.5, data = data_rain):\n",
    "    dates = []\n",
    "    for i in range(len(data_rain)):\n",
    "        if (data.iloc[i, 3] >= lower_bound):\n",
    "            dates.append(data.iloc[i, 2])\n",
    "    return dates"
   ]
  },
  {
   "cell_type": "code",
   "execution_count": 17,
   "metadata": {
    "collapsed": false
   },
   "outputs": [
   ],
   "source": [
    "def find_rainfall_dates_pandas(lower_bound = 0.5, data = data_rain):\n",
    "    dates = find_rainfall_dates_list(lower_bound, data)\n",
    "    dates_pandas = pd.DataFrame(dates, columns = [\"DATE\"])\n",
    "    return dates_pandas"
   ]
  },
  {
   "cell_type": "code",
   "execution_count": 0,
   "metadata": {
    "collapsed": false
   },
   "outputs": [
   ],
   "source": [
    "def graph_rainfall_days():\n",
    "    \n",
    "    \n",
    "    \n",
    "    closeup_data = cpm_data[cpm_data['deviceTime_local']>'2019-01-06 00:00:00-08:00']\n",
    "    closeup_data = closeup_data[closeup_data['deviceTime_local']<'2019-01-10 00:00:00-08:00']\n",
    "\n",
    "    interval = 900\n",
    "\n",
    "    closeup_avg_data = []\n",
    "    closeup_sum = 0\n",
    "    temp_array = []\n",
    "    starting_unix_time = closeup_data.iloc[len(closeup_data) - 1, 2]\n",
    "    ending_unix_time = closeup_data.iloc[0, 2]\n",
    "\n",
    "    while (starting_unix_time <= ending_unix_time):\n",
    "        closeup_cut_data = closeup_data[closeup_data[\"deviceTime_unix\"]>starting_unix_time]\n",
    "        closeup_cut_data = closeup_cut_data[closeup_cut_data[\"deviceTime_unix\"]<starting_unix_time + interval]\n",
    "        if (len(closeup_cut_data) == 0):\n",
    "            starting_unix_time = starting_unix_time + interval\n",
    "            continue\n",
    "        for i in range(len(closeup_cut_data)):\n",
    "            closeup_sum = closeup_sum + closeup_cut_data.iloc[i, 3]\n",
    "        closeup_avg = closeup_sum / len(closeup_cut_data)\n",
    "        closeup_avg_data.append([closeup_cut_data.iloc[0, 1], closeup_avg])\n",
    "        starting_unix_time = starting_unix_time + interval\n",
    "        closeup_sum = 0\n",
    "\n",
    "    three_day_avg_data = pd.DataFrame(closeup_avg_data, columns = [\"deviceTime_local\", \"cpm\"])\n",
    "    three_day_avg_data\n",
    "\n",
    "    fig = go.Figure()\n",
    "    fig.add_trace(go.Scatter(\n",
    "            x = three_day_avg_data['deviceTime_local'],\n",
    "            y = three_day_avg_data['cpm'],\n",
    "            #error_y = dict(type='data',array=cpm_data['cpmError']),\n",
    "        ))\n",
    "    fig.update_layout(plot_bgcolor='light blue',width=1000, height=450)\n",
    "    fig.update_yaxes(title=\"CPM\",titlefont=dict(color='black', size=20),\n",
    "                     showgrid=False,tickcolor='black',\n",
    "                     tickfont=dict(color='black', size=16))\n",
    "    fig.update_xaxes(title=\"Time (local) \",titlefont=dict(color='black', size=20),\n",
    "                     linecolor='black',tickfont=dict(color='black',size=12))\n",
    "    fig.update_layout(legend_orientation=\"h\",\n",
    "                      legend=dict(x=0,y=-.2, font=dict(size=13)))\n",
    "\n",
    "    fig.show()"
   ]
  },
  {
   "cell_type": "code",
   "execution_count": 13,
   "metadata": {
    "collapsed": false
   },
   "outputs": [
    {
     "data": {
      "text/html": "<html>\n<head><meta charset=\"utf-8\" /></head>\n<body>\n    <div>\n            <script src=\"https://cdnjs.cloudflare.com/ajax/libs/mathjax/2.7.5/MathJax.js?config=TeX-AMS-MML_SVG\"></script><script type=\"text/javascript\">if (window.MathJax) {MathJax.Hub.Config({SVG: {font: \"STIX-Web\"}});}</script>\n                <script type=\"text/javascript\">window.PlotlyConfig = {MathJaxConfig: 'local'};</script>\n        <script src=\"https://cdn.plot.ly/plotly-latest.min.js\"></script>    \n            <div id=\"5a55aa90-a445-4c76-af3f-05572c445237\" class=\"plotly-graph-div\" style=\"height:600px; width:100%;\"></div>\n            <script type=\"text/javascript\">\n                \n                    window.PLOTLYENV=window.PLOTLYENV || {};\n                    \n                if (document.getElementById(\"5a55aa90-a445-4c76-af3f-05572c445237\")) {\n                    Plotly.newPlot(\n                        '5a55aa90-a445-4c76-af3f-05572c445237',\n                        [{\"hoverlabel\": {\"namelength\": 0}, \"hovertemplate\": \"x=%{x}<br>y=%{y}\", \"legendgroup\": \"\", \"marker\": {\"color\": \"#636efa\", \"symbol\": \"circle\"}, \"mode\": \"markers\", \"name\": \"\", \"showlegend\": false, \"type\": \"scatter\", \"x\": [0.0, 0.0, 0.0, 0.0, 0.0, 0.0, 0.0, 0.0, 0.0, 0.0, 0.0, 0.0, 0.0, 0.0, 0.0, 0.0, 0.0, 0.0, 0.0, 0.0, 0.0, 0.07, 0.0, 0.0, 0.0, 0.27, 0.0, 0.22, 0.31, 0.23, 0.03, 0.0, 0.0, 0.0, 0.06, 0.0, 0.0, 0.0, 0.0, 0.27, 0.12, 0.21, 0.16, 0.1, 0.0, 0.01, 0.09, 0.39, 0.18, 0.01, 0.09, 0.0, 0.0, 0.0, 0.0, 0.0, 0.0, 0.0, 0.0, 0.0, 0.0, 0.0, 0.17, 0.57, 0.0, 0.0, 0.0, 0.0, 0.05, 0.0, 0.04, 0.07, 0.0, 0.0, 0.0, 0.0, 0.0, 0.0, 0.0, 0.0, 0.0, 0.0, 0.0, 0.0, 0.0, 0.0, 0.0, 0.0, 0.0, 0.0, 0.0, 0.0, 0.0, 0.0, 0.0, 0.0, 0.0, 0.0, 0.0, 0.0, 0.0, 0.0, 0.0, 0.0, 0.0, 0.0, 0.0, 0.0, 0.0, 0.0, 0.0, 0.0, 0.0, 0.0, 0.0, 0.0, 0.0, 0.0, 0.0, 0.0, 0.0, 0.0, 0.0, 0.0, 0.0, 0.0, 0.0, 0.0, 0.0, 0.0, 0.0, 0.0, 0.0, 0.0, 0.0, 0.0, 0.0, 0.0, 0.0, 0.0, 0.0, 0.0, 0.0, 0.0, 0.0, 0.0, 0.0, 0.0, 0.0, 0.0, 0.0, 0.0, 0.0, 0.0, 0.0, 0.0, 0.0, 0.0, 0.0, 0.0, 0.0, 0.0, 0.0, 0.0, 0.0, 0.0, 0.0, 0.0, 0.0, 0.0, 0.0, 0.0, 0.0, 0.0, 0.0, 0.0, 0.0, 0.0, 0.0, 0.0, 0.0, 0.0, 0.0, 0.0, 0.0, 0.0, 0.0, 0.0, 0.0, 0.0, 0.0, 0.0, 0.0, 0.0, 0.0, 0.0, 0.0, 0.0, 0.0, 0.0, 0.0, 0.0, 0.0, 0.0, 0.0, 0.0, 0.0, 0.0, 0.0, 0.0, 0.0, 0.0, 0.0, 0.0, 0.0, 0.0, 0.0, 0.0, 0.0, 0.0, 0.0, 0.0, 0.0, 0.0, 0.0, 0.0, 0.0, 0.0, 0.0, 0.0, 0.0, 0.0, 0.0, 0.0, 0.0, 0.0, 0.0, 0.0, 0.0, 0.0, 0.0, 0.0, 0.0, 0.0, 0.0, 0.0, 0.0, 0.0, 0.0, 0.0, 0.0, 0.0, 0.0, 0.0, 0.0, 0.0, 0.0, 0.0, 0.0, 0.0, 0.0, 0.0, 0.0, 0.0, 0.0, 0.0, 0.0, 0.0, 0.0, 0.0, 0.0, 0.0, 0.0, 0.0, 0.0, 0.0, 0.0, 0.0, 0.0, 0.0, 0.0, 0.0, 0.0, 0.0, 0.0, 0.44, 0.24, 0.13, 0.0, 0.0, 0.0, 0.1, 0.31, 0.34, 0.09, 0.0, 0.0, 0.27, 0.06, 0.0, 0.0, 0.0, 0.01, 0.0, 0.0, 0.0, 0.0, 0.01, 0.68, 0.0, 0.0, 0.0, 0.03, 0.0, 0.0, 0.0, 0.24, 0.0, 0.0, 0.0, 0.0, 0.0, 0.0, 0.0, 0.0, 0.0, 0.01, 1.08, 0.0, 0.07, 0.05, 0.0, 0.04, 0.0, 0.06, 0.28, 1.72, 0.11, 0.0, 0.17, 0.0, 0.0, 0.0, 0.0, 0.0, 0.0, 0.0, 0.01, 0.0, 0.45, 0.0, 0.54, 0.62, 0.63, 0.29, 0.0, 0.0, 0.02, 0.39, 0.55, 0.02, 0.0, 0.31, 1.3, 0.41, 0.33, 0.26, 0.01, 0.0, 0.0, 0.0, 0.0, 0.0, 0.0, 0.0, 0.04, 0.74, 0.04, 0.0, 0.53, 0.26, 0.03, 0.0, 0.45, 0.05, 0.06, 0.0, 0.23, 0.09, 0.0, 0.0, 0.0, 0.0, 0.0, 0.0, 0.0, 0.0, 0.09, 0.01, 0.0, 0.64, 0.02, 0.0, 0.41, 0.04, 0.07, 0.03, 0.0, 0.0, 0.0, 0.06, 0.0, 0.0, 0.0, 0.0, 0.0, 0.0, 0.0, 0.0], \"xaxis\": \"x\", \"y\": [1.7940503432494261, 1.6910344827586192, 1.7612903225806464, 1.8442148760330577, 1.7219512195121947, 1.730666666666668, 1.8145833333333323, 1.7624999999999988, 1.7890652557319238, 1.7618055555555567, 1.7993485342019555, 1.7423611111111112, 1.7694444444444444, 1.7294117647058829, 1.7224913494809677, 1.777319587628866, 1.7681660899653981, 1.7044982698961946, 1.770833333333333, 1.8034722222222217, 1.7230240549828186, 1.752941176470588, 1.7289655172413787, 1.7169550173010388, 1.799310344827585, 1.7215277777777773, 1.723611111111112, 1.7055172413793105, 1.6830449826989622, 1.7079037800687282, 1.6722222222222216, 1.707692307692309, 1.7673611111111112, 1.796000000000002, 1.7541095890410956, 1.6865051903114185, 1.7451388888888888, 1.7340277777777768, 1.7324041811846698, 1.6999999999999993, 1.7516778523489938, 1.7217687074829926, 2.034246575342467, 2.058646616541353, 2.09037037037037, 2.192, 2.269594594594595, 2.1350000000000007, 2.0902953586497888, 2.060983606557376, 2.0899676375404534, 2.1193220338983063, 2.039393939393939, 2.09802371541502, 2.09296875, 2.1541818181818186, 2.2367952522255217, 2.103472222222221, 2.1142857142857143, 2.1544827586206887, 2.1611111111111105, 2.146020761245675, 2.1224913494809674, 2.163448275862069, 2.1027777777777787, 2.1249999999999987, 2.105555555555555, 2.1027777777777765, 2.108650519031141, 2.0931174089068825, 2.074308300395257, 2.087786259541985, 2.1276595744680846, 2.0979166666666655, 2.1757575757575762, 2.1416666666666675, 2.1472222222222213, 2.1846689895470384, 2.1715277777777775, 2.1586206896551734, 2.181250000000001, 2.0805555555555566, 2.1840277777777777, 2.116666666666666, 2.142160278745644, 2.1432525951557087, 2.137979094076656, 2.1303448275862076, 2.0551724137931036, 2.190277777777778, 2.152777777777777, 2.16470588235294, 2.12871972318339, 2.1010380622837386, 2.1798611111111112, 2.104166666666668, 2.172916666666667, 2.197222222222222, 2.1003484320557484, 2.1222222222222227, 2.10173010380623, 2.1631944444444438, 2.1297709923664128, 2.266666666666666, 2.194444444444443, 2.1259515570934275, 2.1649484536082504, 2.1687499999999997, 2.1430555555555566, 2.1965277777777774, 2.2618055555555547, 3.5396363636363652, 2.1971631205673754, 2.1527027027027015, 2.162758620689656, 2.180281690140845, 2.2894736842105248, 2.5128919860627184, 2.1645833333333346, 2.1365517241379313, 2.165635738831616, 2.1034722222222215, 2.1197231833910037, 2.1045871559633027, 2.192063492063491, 2.315985130111523, 3.258715596330276, 2.4465277777777774, 2.20553633217993, 2.172222222222222, 2.25461847389558, 2.1089494163424134, 2.1650165016501663, 2.094584837545126, 2.1068965517241365, 2.1475524475524463, 2.1628865979381438, 2.167910447761193, 2.150173010380623, 2.1351724137931027, 2.2006944444444465, 2.166666666666666, 2.374814814814815, 2.2241935483870967, 2.127017543859648, 2.125694444444444, 2.149480968858134, 2.0622837370242215, 2.1506944444444427, 4.256537102473498, 2.7763888888888903, 2.4297872340425513, 2.3394736842105277, 2.677777777777779, 2.1743055555555557, 2.1105633802816888, 2.1819444444444436, 2.1631944444444438, 2.1407665505226485, 2.1069444444444434, 2.224999999999999, 2.2090277777777776, 2.2125000000000004, 2.165277777777776, 2.1916666666666655, 2.158188153310105, 2.0909722222222227, 2.179166666666666, 2.2881944444444446, 2.195138888888889, 2.1388888888888875, 2.1152777777777767, 2.072473867595818, 2.1201388888888886, 2.1944444444444433, 2.0715277777777787, 2.152941176470589, 2.252083333333335, 2.2192771084337344, 2.209059233449476, 2.3105691056910564, 2.1958333333333346, 2.169444444444445, 3.3687500000000004, 2.41875, 2.61388888888889, 2.2034843205574894, 2.1638888888888883, 2.179166666666667, 2.1763888888888885, 2.188888888888889, 2.18125, 2.3541666666666674, 2.171428571428571, 2.142361111111111, 2.173611111111109, 2.1395833333333316, 2.210416666666667, 2.194444444444442, 2.172916666666667, 2.169337979094075, 2.1381944444444443, 2.187500000000001, 2.0875000000000004, 2.0895833333333336, 2.2131944444444454, 2.152777777777779, 2.180487804878048, 2.0694444444444433, 2.1826388888888895, 2.1347222222222224, 2.1173611111111117, 2.175694444444445, 2.152083333333333, 2.189547038327527, 2.3111111111111104, 2.138194444444446, 2.1930555555555564, 2.106250000000001, 2.135416666666667, 2.1714285714285717, 2.1804878048780476, 2.220833333333333, 2.1472222222222217, 2.380487804878048, 2.727972027972029, 2.176388888888889, 2.2145833333333327, 2.259930313588849, 2.6864111498257834, 2.1520833333333336, 2.2465277777777786, 2.1268292682926813, 2.177777777777779, 2.184775086505191, 2.123344947735191, 2.143749999999999, 2.2111111111111112, 2.180851063829788, 2.1414634146341456, 2.2145833333333353, 2.1937743190661463, 2.2631578947368416, 2.295833333333336, 2.208562691131499, 2.197916666666666, 2.241666666666668, 2.2264808362369357, 2.2470588235294127, 2.2548611111111114, 2.225694444444444, 2.2491349480968847, 2.233910034602075, 2.133101045296165, 2.250694444444444, 2.2539792387543245, 2.1748251748251746, 2.1916955017301043, 2.2228373702422126, 2.177003484320557, 2.2208333333333323, 2.2118881118881117, 2.1548611111111104, 2.1820069204152266, 2.120138888888888, 2.1247386759581888, 2.2305555555555543, 2.2415224913494827, 2.170676691729324, 2.2826388888888887, 2.20902777777778, 2.2152249134948083, 2.177003484320559, 2.2401384083044986, 2.1354166666666683, 2.183275261324043, 2.182432432432434, 2.2140672782874606, 2.1449664429530193, 2.252083333333333, 2.2062500000000007, 2.240579710144927, 2.2494845360824756, 2.4018691588785055, 2.238754325259514, 2.17847222222222, 2.185467128027683, 2.175000000000001, 2.168339768339768, 2.1890510948905084, 2.1618055555555573, 2.15451895043732, 2.217218543046357, 2.1194444444444445, 2.153591160220995, 2.076119402985074, 2.1488372093023256, 2.243410852713178, 2.2631944444444443, 2.1949999999999985, 2.2323450134770892, 2.171551724137932, 2.177777777777778, 2.0737373737373734, 2.1098684210526324, 2.0985365853658546, 2.294117647058823, 2.1145833333333335, 2.28290909090909, 2.147126436781609, 2.1067415730337093, 2.14375, 2.1486842105263153, 2.1069444444444447, 2.1108695652173917, 2.1451127819548845, 2.2344370860927145, 2.2277777777777774, 2.165771812080537, 2.1500000000000012, 2.106432748538011, 2.1337931034482764, 2.115932203389832, 2.1729166666666666, 2.134296028880867, 2.1763888888888903, 2.1486166007905143, 2.081443298969072, 2.147222222222222, 2.1296928327645044, 2.127526132404179, 2.0840236686390545, 2.1870307167235477, 2.1289473684210507, 2.105035971223022, 2.1544217687074836, 2.1794871794871797, 2.083044982698962, 2.1191176470588244, 2.0705035971223014, 2.1076388888888875, 2.07308970099668, 2.109027777777778, 2.053403141361256, 2.1601449275362308, 2.1204188481675383, 2.1320895522388046, 2.12162162162162, 2.152777777777778, 2.1994285714285695, 2.1442307692307687, 2.254368932038834, 2.2412371134020623, 2.103754266211604, 2.1514450867052037, 2.101840490797544, 2.1063973063973074, 2.0814569536423844, 2.1587692307692277, 2.161702127659575, 2.083773584905662, 2.1106250000000024, 2.2108108108108104, 2.2061643835616453, 2.1253246753246744, 2.127083333333334, 2.0786206896551724, 2.0732600732600726, 2.10508474576271, 2.098371335504886, 2.2234482758620677, 2.107348242811503, 2.1415282392026613, 2.1591695501730106, 2.089811320754716, 2.1628378378378366, 2.2, 2.205128205128205, 2.0965277777777778, 2.2340277777777757, 2.1111111111111107, 2.0871080139372817, 2.2263888888888896, 2.1625000000000005, 2.2194444444444437, 2.1381944444444447, 2.1277777777777773, 2.1201388888888886, 2.1853658536585363, 2.12638888888889, 2.140972222222223, 2.1138888888888907, 2.0368055555555546, 2.1548611111111104, 2.1173611111111117, 2.090592334494774, 2.2076388888888907, 2.143749999999999, 2.146527777777779, 2.113194444444444, 2.1187500000000004, 2.1201388888888886, 2.098257839721255, 2.1388888888888875, 2.0826388888888876, 2.085416666666668, 2.0902777777777772, 2.124305555555557, 2.165972222222223, 2.1672473867595836, 2.150925925925927, 2.117472118959107, 2.115277777777779, 2.2118055555555567, 2.1180555555555554, 2.2625, 2.204861111111112, 2.1701388888888897, 2.2157894736842105], \"yaxis\": \"y\"}],\n                        {\"height\": 600, \"legend\": {\"tracegroupgap\": 0}, \"margin\": {\"t\": 60}, \"template\": {\"data\": {\"bar\": [{\"error_x\": {\"color\": \"#2a3f5f\"}, \"error_y\": {\"color\": \"#2a3f5f\"}, \"marker\": {\"line\": {\"color\": \"#E5ECF6\", \"width\": 0.5}}, \"type\": \"bar\"}], \"barpolar\": [{\"marker\": {\"line\": {\"color\": \"#E5ECF6\", \"width\": 0.5}}, \"type\": \"barpolar\"}], \"carpet\": [{\"aaxis\": {\"endlinecolor\": \"#2a3f5f\", \"gridcolor\": \"white\", \"linecolor\": \"white\", \"minorgridcolor\": \"white\", \"startlinecolor\": \"#2a3f5f\"}, \"baxis\": {\"endlinecolor\": \"#2a3f5f\", \"gridcolor\": \"white\", \"linecolor\": \"white\", \"minorgridcolor\": \"white\", \"startlinecolor\": \"#2a3f5f\"}, \"type\": \"carpet\"}], \"choropleth\": [{\"colorbar\": {\"outlinewidth\": 0, \"ticks\": \"\"}, \"type\": \"choropleth\"}], \"contour\": [{\"colorbar\": {\"outlinewidth\": 0, \"ticks\": \"\"}, \"colorscale\": [[0.0, \"#0d0887\"], [0.1111111111111111, \"#46039f\"], [0.2222222222222222, \"#7201a8\"], [0.3333333333333333, \"#9c179e\"], [0.4444444444444444, \"#bd3786\"], [0.5555555555555556, \"#d8576b\"], [0.6666666666666666, \"#ed7953\"], [0.7777777777777778, \"#fb9f3a\"], [0.8888888888888888, \"#fdca26\"], [1.0, \"#f0f921\"]], \"type\": \"contour\"}], \"contourcarpet\": [{\"colorbar\": {\"outlinewidth\": 0, \"ticks\": \"\"}, \"type\": \"contourcarpet\"}], \"heatmap\": [{\"colorbar\": {\"outlinewidth\": 0, \"ticks\": \"\"}, \"colorscale\": [[0.0, \"#0d0887\"], [0.1111111111111111, \"#46039f\"], [0.2222222222222222, \"#7201a8\"], [0.3333333333333333, \"#9c179e\"], [0.4444444444444444, \"#bd3786\"], [0.5555555555555556, \"#d8576b\"], [0.6666666666666666, \"#ed7953\"], [0.7777777777777778, \"#fb9f3a\"], [0.8888888888888888, \"#fdca26\"], [1.0, \"#f0f921\"]], \"type\": \"heatmap\"}], \"heatmapgl\": [{\"colorbar\": {\"outlinewidth\": 0, \"ticks\": \"\"}, \"colorscale\": [[0.0, \"#0d0887\"], [0.1111111111111111, \"#46039f\"], [0.2222222222222222, \"#7201a8\"], [0.3333333333333333, \"#9c179e\"], [0.4444444444444444, \"#bd3786\"], [0.5555555555555556, \"#d8576b\"], [0.6666666666666666, \"#ed7953\"], [0.7777777777777778, \"#fb9f3a\"], [0.8888888888888888, \"#fdca26\"], [1.0, \"#f0f921\"]], \"type\": \"heatmapgl\"}], \"histogram\": [{\"marker\": {\"colorbar\": {\"outlinewidth\": 0, \"ticks\": \"\"}}, \"type\": \"histogram\"}], \"histogram2d\": [{\"colorbar\": {\"outlinewidth\": 0, \"ticks\": \"\"}, \"colorscale\": [[0.0, \"#0d0887\"], [0.1111111111111111, \"#46039f\"], [0.2222222222222222, \"#7201a8\"], [0.3333333333333333, \"#9c179e\"], [0.4444444444444444, \"#bd3786\"], [0.5555555555555556, \"#d8576b\"], [0.6666666666666666, \"#ed7953\"], [0.7777777777777778, \"#fb9f3a\"], [0.8888888888888888, \"#fdca26\"], [1.0, \"#f0f921\"]], \"type\": \"histogram2d\"}], \"histogram2dcontour\": [{\"colorbar\": {\"outlinewidth\": 0, \"ticks\": \"\"}, \"colorscale\": [[0.0, \"#0d0887\"], [0.1111111111111111, \"#46039f\"], [0.2222222222222222, \"#7201a8\"], [0.3333333333333333, \"#9c179e\"], [0.4444444444444444, \"#bd3786\"], [0.5555555555555556, \"#d8576b\"], [0.6666666666666666, \"#ed7953\"], [0.7777777777777778, \"#fb9f3a\"], [0.8888888888888888, \"#fdca26\"], [1.0, \"#f0f921\"]], \"type\": \"histogram2dcontour\"}], \"mesh3d\": [{\"colorbar\": {\"outlinewidth\": 0, \"ticks\": \"\"}, \"type\": \"mesh3d\"}], \"parcoords\": [{\"line\": {\"colorbar\": {\"outlinewidth\": 0, \"ticks\": \"\"}}, \"type\": \"parcoords\"}], \"pie\": [{\"automargin\": true, \"type\": \"pie\"}], \"scatter\": [{\"marker\": {\"colorbar\": {\"outlinewidth\": 0, \"ticks\": \"\"}}, \"type\": \"scatter\"}], \"scatter3d\": [{\"line\": {\"colorbar\": {\"outlinewidth\": 0, \"ticks\": \"\"}}, \"marker\": {\"colorbar\": {\"outlinewidth\": 0, \"ticks\": \"\"}}, \"type\": \"scatter3d\"}], \"scattercarpet\": [{\"marker\": {\"colorbar\": {\"outlinewidth\": 0, \"ticks\": \"\"}}, \"type\": \"scattercarpet\"}], \"scattergeo\": [{\"marker\": {\"colorbar\": {\"outlinewidth\": 0, \"ticks\": \"\"}}, \"type\": \"scattergeo\"}], \"scattergl\": [{\"marker\": {\"colorbar\": {\"outlinewidth\": 0, \"ticks\": \"\"}}, \"type\": \"scattergl\"}], \"scattermapbox\": [{\"marker\": {\"colorbar\": {\"outlinewidth\": 0, \"ticks\": \"\"}}, \"type\": \"scattermapbox\"}], \"scatterpolar\": [{\"marker\": {\"colorbar\": {\"outlinewidth\": 0, \"ticks\": \"\"}}, \"type\": \"scatterpolar\"}], \"scatterpolargl\": [{\"marker\": {\"colorbar\": {\"outlinewidth\": 0, \"ticks\": \"\"}}, \"type\": \"scatterpolargl\"}], \"scatterternary\": [{\"marker\": {\"colorbar\": {\"outlinewidth\": 0, \"ticks\": \"\"}}, \"type\": \"scatterternary\"}], \"surface\": [{\"colorbar\": {\"outlinewidth\": 0, \"ticks\": \"\"}, \"colorscale\": [[0.0, \"#0d0887\"], [0.1111111111111111, \"#46039f\"], [0.2222222222222222, \"#7201a8\"], [0.3333333333333333, \"#9c179e\"], [0.4444444444444444, \"#bd3786\"], [0.5555555555555556, \"#d8576b\"], [0.6666666666666666, \"#ed7953\"], [0.7777777777777778, \"#fb9f3a\"], [0.8888888888888888, \"#fdca26\"], [1.0, \"#f0f921\"]], \"type\": \"surface\"}], \"table\": [{\"cells\": {\"fill\": {\"color\": \"#EBF0F8\"}, \"line\": {\"color\": \"white\"}}, \"header\": {\"fill\": {\"color\": \"#C8D4E3\"}, \"line\": {\"color\": \"white\"}}, \"type\": \"table\"}]}, \"layout\": {\"annotationdefaults\": {\"arrowcolor\": \"#2a3f5f\", \"arrowhead\": 0, \"arrowwidth\": 1}, \"coloraxis\": {\"colorbar\": {\"outlinewidth\": 0, \"ticks\": \"\"}}, \"colorscale\": {\"diverging\": [[0, \"#8e0152\"], [0.1, \"#c51b7d\"], [0.2, \"#de77ae\"], [0.3, \"#f1b6da\"], [0.4, \"#fde0ef\"], [0.5, \"#f7f7f7\"], [0.6, \"#e6f5d0\"], [0.7, \"#b8e186\"], [0.8, \"#7fbc41\"], [0.9, \"#4d9221\"], [1, \"#276419\"]], \"sequential\": [[0.0, \"#0d0887\"], [0.1111111111111111, \"#46039f\"], [0.2222222222222222, \"#7201a8\"], [0.3333333333333333, \"#9c179e\"], [0.4444444444444444, \"#bd3786\"], [0.5555555555555556, \"#d8576b\"], [0.6666666666666666, \"#ed7953\"], [0.7777777777777778, \"#fb9f3a\"], [0.8888888888888888, \"#fdca26\"], [1.0, \"#f0f921\"]], \"sequentialminus\": [[0.0, \"#0d0887\"], [0.1111111111111111, \"#46039f\"], [0.2222222222222222, \"#7201a8\"], [0.3333333333333333, \"#9c179e\"], [0.4444444444444444, \"#bd3786\"], [0.5555555555555556, \"#d8576b\"], [0.6666666666666666, \"#ed7953\"], [0.7777777777777778, \"#fb9f3a\"], [0.8888888888888888, \"#fdca26\"], [1.0, \"#f0f921\"]]}, \"colorway\": [\"#636efa\", \"#EF553B\", \"#00cc96\", \"#ab63fa\", \"#FFA15A\", \"#19d3f3\", \"#FF6692\", \"#B6E880\", \"#FF97FF\", \"#FECB52\"], \"font\": {\"color\": \"#2a3f5f\"}, \"geo\": {\"bgcolor\": \"white\", \"lakecolor\": \"white\", \"landcolor\": \"#E5ECF6\", \"showlakes\": true, \"showland\": true, \"subunitcolor\": \"white\"}, \"hoverlabel\": {\"align\": \"left\"}, \"hovermode\": \"closest\", \"mapbox\": {\"style\": \"light\"}, \"paper_bgcolor\": \"white\", \"plot_bgcolor\": \"#E5ECF6\", \"polar\": {\"angularaxis\": {\"gridcolor\": \"white\", \"linecolor\": \"white\", \"ticks\": \"\"}, \"bgcolor\": \"#E5ECF6\", \"radialaxis\": {\"gridcolor\": \"white\", \"linecolor\": \"white\", \"ticks\": \"\"}}, \"scene\": {\"xaxis\": {\"backgroundcolor\": \"#E5ECF6\", \"gridcolor\": \"white\", \"gridwidth\": 2, \"linecolor\": \"white\", \"showbackground\": true, \"ticks\": \"\", \"zerolinecolor\": \"white\"}, \"yaxis\": {\"backgroundcolor\": \"#E5ECF6\", \"gridcolor\": \"white\", \"gridwidth\": 2, \"linecolor\": \"white\", \"showbackground\": true, \"ticks\": \"\", \"zerolinecolor\": \"white\"}, \"zaxis\": {\"backgroundcolor\": \"#E5ECF6\", \"gridcolor\": \"white\", \"gridwidth\": 2, \"linecolor\": \"white\", \"showbackground\": true, \"ticks\": \"\", \"zerolinecolor\": \"white\"}}, \"shapedefaults\": {\"line\": {\"color\": \"#2a3f5f\"}}, \"ternary\": {\"aaxis\": {\"gridcolor\": \"white\", \"linecolor\": \"white\", \"ticks\": \"\"}, \"baxis\": {\"gridcolor\": \"white\", \"linecolor\": \"white\", \"ticks\": \"\"}, \"bgcolor\": \"#E5ECF6\", \"caxis\": {\"gridcolor\": \"white\", \"linecolor\": \"white\", \"ticks\": \"\"}}, \"title\": {\"x\": 0.05}, \"xaxis\": {\"automargin\": true, \"gridcolor\": \"white\", \"linecolor\": \"white\", \"ticks\": \"\", \"title\": {\"standoff\": 15}, \"zerolinecolor\": \"white\", \"zerolinewidth\": 2}, \"yaxis\": {\"automargin\": true, \"gridcolor\": \"white\", \"linecolor\": \"white\", \"ticks\": \"\", \"title\": {\"standoff\": 15}, \"zerolinecolor\": \"white\", \"zerolinewidth\": 2}}}, \"title\": {\"text\": \"CPM vs Amount of Rainfall in Inches\"}, \"xaxis\": {\"anchor\": \"y\", \"domain\": [0.0, 1.0], \"linecolor\": \"black\", \"tickfont\": {\"color\": \"black\", \"size\": 12}, \"title\": {\"font\": {\"color\": \"black\", \"size\": 20}, \"text\": \"PRCP (inches)\"}}, \"yaxis\": {\"anchor\": \"x\", \"domain\": [0.0, 1.0], \"showgrid\": false, \"tickcolor\": \"black\", \"tickfont\": {\"color\": \"black\", \"size\": 16}, \"title\": {\"font\": {\"color\": \"black\", \"size\": 20}, \"text\": \"CPM\"}}},\n                        {\"responsive\": true}\n                    ).then(function(){\n                            \nvar gd = document.getElementById('5a55aa90-a445-4c76-af3f-05572c445237');\nvar x = new MutationObserver(function (mutations, observer) {{\n        var display = window.getComputedStyle(gd).display;\n        if (!display || display === 'none') {{\n            console.log([gd, 'removed!']);\n            Plotly.purge(gd);\n            observer.disconnect();\n        }}\n}});\n\n// Listen for the removal of the full notebook cells\nvar notebookContainer = gd.closest('#notebook-container');\nif (notebookContainer) {{\n    x.observe(notebookContainer, {childList: true});\n}}\n\n// Listen for the clearing of the current output cell\nvar outputEl = gd.closest('.output');\nif (outputEl) {{\n    x.observe(outputEl, {childList: true});\n}}\n\n                        })\n                };\n                \n            </script>\n        </div>\n</body>\n</html>"
     },
     "execution_count": 13,
     "metadata": {
     },
     "output_type": "execute_result"
    }
   ],
   "source": [
    "model_combined_data()"
   ]
  },
  {
   "cell_type": "code",
   "execution_count": 18,
   "metadata": {
    "collapsed": false
   },
   "outputs": [
    {
     "data": {
      "text/html": "<html>\n<head><meta charset=\"utf-8\" /></head>\n<body>\n    <div>\n            <script src=\"https://cdnjs.cloudflare.com/ajax/libs/mathjax/2.7.5/MathJax.js?config=TeX-AMS-MML_SVG\"></script><script type=\"text/javascript\">if (window.MathJax) {MathJax.Hub.Config({SVG: {font: \"STIX-Web\"}});}</script>\n                <script type=\"text/javascript\">window.PlotlyConfig = {MathJaxConfig: 'local'};</script>\n        <script src=\"https://cdn.plot.ly/plotly-latest.min.js\"></script>    \n            <div id=\"99156fc9-83c0-460d-8c7f-a535f61348cb\" class=\"plotly-graph-div\" style=\"height:450px; width:1000px;\"></div>\n            <script type=\"text/javascript\">\n                \n                    window.PLOTLYENV=window.PLOTLYENV || {};\n                    \n                if (document.getElementById(\"99156fc9-83c0-460d-8c7f-a535f61348cb\")) {\n                    Plotly.newPlot(\n                        '99156fc9-83c0-460d-8c7f-a535f61348cb',\n                        [{\"name\": \"CPM\", \"type\": \"scatter\", \"x\": [\"2018-02-02 21:21:46+00:00\", \"2018-02-03 21:21:45+00:00\", \"2018-02-04 21:21:46+00:00\", \"2018-02-05 21:21:40+00:00\", \"2018-02-06 21:21:40+00:00\", \"2018-02-07 21:21:41+00:00\", \"2018-02-08 21:21:46+00:00\", \"2018-02-09 21:21:41+00:00\", \"2018-02-10 21:21:41+00:00\", \"2018-02-11 21:21:41+00:00\", \"2018-02-12 21:20:45+00:00\", \"2018-02-13 21:20:45+00:00\", \"2018-02-14 21:20:45+00:00\", \"2018-02-15 21:20:45+00:00\", \"2018-02-16 21:20:45+00:00\", \"2018-02-17 21:20:45+00:00\", \"2018-02-18 21:20:45+00:00\", \"2018-02-19 21:20:42+00:00\", \"2018-02-20 21:20:42+00:00\", \"2018-02-21 21:20:42+00:00\", \"2018-02-22 21:20:42+00:00\", \"2018-02-23 21:20:42+00:00\", \"2018-02-24 21:20:42+00:00\", \"2018-02-25 21:20:42+00:00\", \"2018-02-26 21:20:44+00:00\", \"2018-02-27 21:20:44+00:00\", \"2018-02-28 21:20:44+00:00\", \"2018-03-01 21:20:44+00:00\", \"2018-03-02 21:20:44+00:00\", \"2018-03-03 21:20:44+00:00\", \"2018-03-04 21:20:44+00:00\", \"2018-03-05 21:20:44+00:00\", \"2018-03-06 21:20:45+00:00\", \"2018-03-07 21:20:44+00:00\", \"2018-03-08 21:20:44+00:00\", \"2018-03-09 21:20:49+00:00\", \"2018-03-10 21:20:49+00:00\", \"2018-03-11 21:20:49+00:00\", \"2018-03-12 21:21:01+00:00\", \"2018-03-13 21:21:01+00:00\", \"2018-03-14 21:20:56+00:00\", \"2018-03-15 21:20:56+00:00\", \"2018-03-16 21:20:56+00:00\", \"2018-03-17 08:00:56+00:00\", \"2018-03-19 21:21:15+00:00\", \"2018-03-20 21:20:43+00:00\", \"2018-03-21 21:20:43+00:00\", \"2018-03-22 21:17:12+00:00\", \"2018-03-23 21:19:10+00:00\", \"2018-03-24 21:19:10+00:00\", \"2018-03-25 21:19:10+00:00\", \"2018-03-26 21:20:48+00:00\", \"2018-03-27 08:00:48+00:00\", \"2018-03-28 21:20:48+00:00\", \"2018-03-29 21:20:49+00:00\", \"2018-03-30 21:21:26+00:00\", \"2018-03-31 21:20:48+00:00\", \"2018-04-01 21:20:48+00:00\", \"2018-04-02 21:20:45+00:00\", \"2018-04-03 21:20:45+00:00\", \"2018-04-04 21:20:45+00:00\", \"2018-04-05 21:20:45+00:00\", \"2018-04-06 21:20:45+00:00\", \"2018-04-07 21:20:45+00:00\", \"2018-04-08 21:20:45+00:00\", \"2018-04-09 21:20:42+00:00\", \"2018-04-10 21:20:42+00:00\", \"2018-04-11 21:20:42+00:00\", \"2018-04-12 21:20:42+00:00\", \"2018-04-13 17:55:42+00:00\", \"2018-04-16 21:16:51+00:00\", \"2018-04-17 21:17:00+00:00\", \"2018-04-18 21:21:46+00:00\", \"2018-04-19 21:21:46+00:00\", \"2018-04-20 21:21:46+00:00\", \"2018-04-21 21:21:46+00:00\", \"2018-04-22 21:21:46+00:00\", \"2018-04-23 21:21:30+00:00\", \"2018-04-24 21:21:30+00:00\", \"2018-04-25 21:21:30+00:00\", \"2018-04-26 21:21:30+00:00\", \"2018-04-27 21:21:30+00:00\", \"2018-04-28 21:21:30+00:00\", \"2018-04-29 21:21:30+00:00\", \"2018-04-30 21:20:42+00:00\", \"2018-05-01 21:20:42+00:00\", \"2018-05-02 21:18:15+00:00\", \"2018-05-03 21:18:15+00:00\", \"2018-05-04 21:18:15+00:00\", \"2018-05-05 21:18:15+00:00\", \"2018-05-06 21:18:15+00:00\", \"2018-05-07 21:20:45+00:00\", \"2018-05-08 21:20:45+00:00\", \"2018-05-09 21:20:45+00:00\", \"2018-05-10 21:20:45+00:00\", \"2018-05-11 21:20:45+00:00\", \"2018-05-12 21:20:45+00:00\", \"2018-05-13 21:20:45+00:00\", \"2018-05-14 21:21:34+00:00\", \"2018-05-15 21:21:34+00:00\", \"2018-05-16 21:21:34+00:00\", \"2018-05-17 21:20:23+00:00\", \"2018-05-18 19:10:23+00:00\", \"2018-05-21 21:20:53+00:00\", \"2018-05-22 21:20:48+00:00\", \"2018-05-23 21:20:48+00:00\", \"2018-05-24 21:20:48+00:00\", \"2018-05-25 21:20:48+00:00\", \"2018-05-26 21:20:48+00:00\", \"2018-05-27 21:20:48+00:00\", \"2018-05-28 21:20:51+00:00\", \"2018-05-29 21:20:51+00:00\", \"2018-05-30 21:20:46+00:00\", \"2018-05-31 21:20:46+00:00\", \"2018-06-01 21:20:46+00:00\", \"2018-06-02 20:55:46+00:00\", \"2018-06-03 21:20:46+00:00\", \"2018-06-04 21:20:50+00:00\", \"2018-06-05 21:20:50+00:00\", \"2018-06-06 21:20:50+00:00\", \"2018-06-07 21:20:50+00:00\", \"2018-06-08 21:20:55+00:00\", \"2018-06-09 21:20:50+00:00\", \"2018-06-10 15:30:50+00:00\", \"2018-06-11 21:20:50+00:00\", \"2018-06-12 21:20:50+00:00\", \"2018-06-13 21:20:50+00:00\", \"2018-06-14 21:20:50+00:00\", \"2018-06-15 21:20:50+00:00\", \"2018-06-16 21:20:50+00:00\", \"2018-06-17 17:45:50+00:00\", \"2018-06-18 21:20:59+00:00\", \"2018-06-19 21:20:44+00:00\", \"2018-06-20 21:20:44+00:00\", \"2018-06-21 21:20:44+00:00\", \"2018-06-22 21:05:51+00:00\", \"2018-06-23 09:10:44+00:00\", \"2018-06-25 21:21:36+00:00\", \"2018-06-26 21:21:36+00:00\", \"2018-06-27 21:21:36+00:00\", \"2018-06-28 21:21:36+00:00\", \"2018-06-29 21:21:36+00:00\", \"2018-06-30 19:51:36+00:00\", \"2018-07-01 21:21:36+00:00\", \"2018-07-02 21:20:41+00:00\", \"2018-07-03 21:20:41+00:00\", \"2018-07-04 21:20:41+00:00\", \"2018-07-05 21:20:41+00:00\", \"2018-07-06 21:20:41+00:00\", \"2018-07-07 21:20:41+00:00\", \"2018-07-08 21:20:41+00:00\", \"2018-07-09 21:05:43+00:00\", \"2018-07-10 21:20:43+00:00\", \"2018-07-11 21:20:43+00:00\", \"2018-07-12 21:20:43+00:00\", \"2018-07-13 21:20:43+00:00\", \"2018-07-14 21:20:43+00:00\", \"2018-07-15 21:20:43+00:00\", \"2018-07-16 21:20:49+00:00\", \"2018-07-17 21:20:49+00:00\", \"2018-07-18 21:20:49+00:00\", \"2018-07-19 21:20:49+00:00\", \"2018-07-20 21:20:49+00:00\", \"2018-07-21 21:20:49+00:00\", \"2018-07-22 21:20:49+00:00\", \"2018-07-23 21:20:42+00:00\", \"2018-07-24 21:20:42+00:00\", \"2018-07-25 21:20:42+00:00\", \"2018-07-26 21:20:42+00:00\", \"2018-07-27 21:20:42+00:00\", \"2018-07-28 21:20:42+00:00\", \"2018-07-29 21:20:42+00:00\", \"2018-07-30 21:20:41+00:00\", \"2018-07-31 21:20:41+00:00\", \"2018-08-01 21:20:41+00:00\", \"2018-08-02 21:20:41+00:00\", \"2018-08-03 21:20:41+00:00\", \"2018-08-04 21:20:41+00:00\", \"2018-08-05 21:20:41+00:00\", \"2018-08-06 21:21:40+00:00\", \"2018-08-07 21:21:40+00:00\", \"2018-08-08 21:21:40+00:00\", \"2018-08-09 21:21:40+00:00\", \"2018-08-10 21:21:40+00:00\", \"2018-08-11 21:21:40+00:00\", \"2018-08-12 21:21:40+00:00\", \"2018-08-13 21:21:39+00:00\", \"2018-08-14 21:21:39+00:00\", \"2018-08-15 21:21:39+00:00\", \"2018-08-16 21:21:39+00:00\", \"2018-08-17 21:21:39+00:00\", \"2018-08-18 21:21:39+00:00\", \"2018-08-19 21:21:39+00:00\", \"2018-08-20 21:20:41+00:00\", \"2018-08-21 21:20:41+00:00\", \"2018-08-22 21:20:41+00:00\", \"2018-08-23 21:20:41+00:00\", \"2018-08-24 21:20:41+00:00\", \"2018-08-25 21:20:41+00:00\", \"2018-08-26 21:20:41+00:00\", \"2018-08-27 21:21:30+00:00\", \"2018-08-28 21:21:30+00:00\", \"2018-08-29 21:21:30+00:00\", \"2018-08-30 21:21:30+00:00\", \"2018-08-31 21:21:30+00:00\", \"2018-09-01 21:21:30+00:00\", \"2018-09-02 21:21:30+00:00\", \"2018-09-03 21:20:45+00:00\", \"2018-09-04 21:20:45+00:00\", \"2018-09-05 21:20:45+00:00\", \"2018-09-06 21:20:45+00:00\", \"2018-09-07 21:20:45+00:00\", \"2018-09-08 21:20:45+00:00\", \"2018-09-09 21:20:45+00:00\", \"2018-09-10 21:20:41+00:00\", \"2018-09-11 21:20:41+00:00\", \"2018-09-12 21:20:41+00:00\", \"2018-09-13 21:20:41+00:00\", \"2018-09-14 21:20:41+00:00\", \"2018-09-15 21:20:41+00:00\", \"2018-09-16 21:20:41+00:00\", \"2018-09-17 21:20:44+00:00\", \"2018-09-18 21:20:44+00:00\", \"2018-09-19 21:20:44+00:00\", \"2018-09-20 21:21:27+00:00\", \"2018-09-21 21:21:27+00:00\", \"2018-09-22 21:21:27+00:00\", \"2018-09-23 21:21:27+00:00\", \"2018-09-24 21:20:41+00:00\", \"2018-09-25 21:20:41+00:00\", \"2018-09-26 21:20:41+00:00\", \"2018-09-27 21:20:41+00:00\", \"2018-09-28 21:20:41+00:00\", \"2018-09-29 21:20:41+00:00\", \"2018-09-30 21:20:41+00:00\", \"2018-10-01 21:21:31+00:00\", \"2018-10-02 21:21:31+00:00\", \"2018-10-03 21:21:31+00:00\", \"2018-10-04 21:21:36+00:00\", \"2018-10-05 21:21:36+00:00\", \"2018-10-06 21:21:36+00:00\", \"2018-10-07 15:11:31+00:00\", \"2018-10-08 21:20:59+00:00\", \"2018-10-09 21:20:59+00:00\", \"2018-10-10 21:20:59+00:00\", \"2018-10-11 21:20:54+00:00\", \"2018-10-12 21:20:54+00:00\", \"2018-10-13 21:20:54+00:00\", \"2018-10-14 21:20:54+00:00\", \"2018-10-15 21:20:52+00:00\", \"2018-10-16 21:20:52+00:00\", \"2018-10-17 21:20:52+00:00\", \"2018-10-18 21:20:52+00:00\", \"2018-10-19 21:20:52+00:00\", \"2018-10-20 21:20:52+00:00\", \"2018-10-21 21:20:52+00:00\", \"2018-10-22 21:20:42+00:00\", \"2018-10-23 21:20:42+00:00\", \"2018-10-24 21:20:42+00:00\", \"2018-10-25 21:20:42+00:00\", \"2018-10-26 21:20:42+00:00\", \"2018-10-27 21:18:22+00:00\", \"2018-10-28 21:18:22+00:00\", \"2018-10-29 21:20:43+00:00\", \"2018-10-30 21:20:43+00:00\", \"2018-10-31 21:20:43+00:00\", \"2018-11-01 21:20:43+00:00\", \"2018-11-02 21:20:43+00:00\", \"2018-11-03 21:17:55+00:00\", \"2018-11-04 21:17:55+00:00\", \"2018-11-05 21:20:44+00:00\", \"2018-11-06 21:20:44+00:00\", \"2018-11-07 21:20:44+00:00\", \"2018-11-08 21:20:44+00:00\", \"2018-11-09 21:20:44+00:00\", \"2018-11-10 21:20:44+00:00\", \"2018-11-11 21:15:49+00:00\", \"2018-11-12 21:20:59+00:00\", \"2018-11-13 21:20:59+00:00\", \"2018-11-14 21:20:59+00:00\", \"2018-11-15 21:20:59+00:00\", \"2018-11-16 12:55:54+00:00\", \"2018-11-19 21:20:56+00:00\", \"2018-11-20 21:20:56+00:00\", \"2018-11-21 21:20:51+00:00\", \"2018-11-22 21:20:51+00:00\", \"2018-11-23 21:20:51+00:00\", \"2018-11-24 21:20:51+00:00\", \"2018-11-25 21:15:51+00:00\", \"2018-11-26 21:21:01+00:00\", \"2018-11-27 21:21:01+00:00\", \"2018-11-28 21:21:01+00:00\", \"2018-11-29 21:20:56+00:00\", \"2018-11-30 21:20:56+00:00\", \"2018-12-01 11:35:56+00:00\", \"2018-12-03 21:20:58+00:00\", \"2018-12-04 11:00:53+00:00\", \"2018-12-05 21:18:45+00:00\", \"2018-12-06 21:18:45+00:00\", \"2018-12-07 21:18:45+00:00\", \"2018-12-08 21:18:45+00:00\", \"2018-12-09 21:18:40+00:00\", \"2018-12-10 06:15:47+00:00\", \"2018-12-11 21:20:52+00:00\", \"2018-12-12 21:20:52+00:00\", \"2018-12-13 19:30:47+00:00\", \"2018-12-14 07:20:47+00:00\", \"2018-12-15 17:05:47+00:00\", \"2018-12-17 21:20:55+00:00\", \"2018-12-18 21:10:50+00:00\", \"2018-12-19 21:20:55+00:00\", \"2018-12-20 21:20:55+00:00\", \"2018-12-21 21:20:55+00:00\", \"2018-12-22 21:20:55+00:00\", \"2018-12-23 12:35:50+00:00\", \"2018-12-24 21:20:50+00:00\", \"2018-12-25 21:20:50+00:00\", \"2018-12-26 21:20:50+00:00\", \"2018-12-27 21:20:55+00:00\", \"2018-12-28 21:20:55+00:00\", \"2018-12-29 11:00:50+00:00\", \"2018-12-31 21:21:35+00:00\", \"2019-01-01 21:21:35+00:00\", \"2019-01-02 21:21:35+00:00\", \"2019-01-03 21:19:02+00:00\", \"2019-01-04 21:19:02+00:00\", \"2019-01-05 15:18:57+00:00\", \"2019-01-07 21:17:18+00:00\", \"2019-01-08 21:17:18+00:00\", \"2019-01-09 21:17:13+00:00\", \"2019-01-10 21:17:13+00:00\", \"2019-01-11 21:17:18+00:00\", \"2019-01-12 21:17:18+00:00\", \"2019-01-13 09:57:13+00:00\", \"2019-01-15 19:54:16+00:00\", \"2019-01-16 21:19:16+00:00\", \"2019-01-17 21:19:16+00:00\", \"2019-01-18 21:19:16+00:00\", \"2019-01-19 18:54:16+00:00\", \"2019-01-21 21:20:51+00:00\", \"2019-01-22 21:20:50+00:00\", \"2019-01-23 21:20:51+00:00\", \"2019-01-24 21:20:51+00:00\", \"2019-01-25 13:10:45+00:00\", \"2019-01-26 21:18:24+00:00\", \"2019-01-27 13:08:19+00:00\", \"2019-01-28 21:20:52+00:00\", \"2019-01-29 21:20:52+00:00\", \"2019-01-30 21:20:52+00:00\", \"2019-01-31 21:20:52+00:00\", \"2019-02-01 21:20:47+00:00\", \"2019-02-02 21:20:52+00:00\", \"2019-02-03 13:20:47+00:00\", \"2019-02-04 21:21:01+00:00\", \"2019-02-05 21:21:01+00:00\", \"2019-02-06 21:20:56+00:00\", \"2019-02-07 21:20:56+00:00\", \"2019-02-08 21:20:56+00:00\", \"2019-02-09 21:20:56+00:00\", \"2019-02-10 00:45:56+00:00\", \"2019-02-11 21:20:53+00:00\", \"2019-02-12 21:20:48+00:00\", \"2019-02-13 21:20:48+00:00\", \"2019-02-14 21:20:48+00:00\", \"2019-02-15 21:20:48+00:00\", \"2019-02-16 21:20:54+00:00\", \"2019-02-17 21:20:48+00:00\", \"2019-02-18 21:20:52+00:00\", \"2019-02-19 21:20:47+00:00\", \"2019-02-20 21:20:47+00:00\", \"2019-02-21 21:20:47+00:00\", \"2019-02-22 21:20:47+00:00\", \"2019-02-23 21:20:47+00:00\", \"2019-02-24 21:20:47+00:00\", \"2019-02-25 21:05:43+00:00\", \"2019-02-26 14:00:48+00:00\", \"2019-02-27 18:55:43+00:00\", \"2019-02-28 21:20:43+00:00\", \"2019-03-01 21:20:43+00:00\", \"2019-03-02 21:20:43+00:00\", \"2019-03-03 21:20:43+00:00\", \"2019-03-04 21:20:44+00:00\", \"2019-03-05 21:20:44+00:00\", \"2019-03-06 21:20:44+00:00\", \"2019-03-07 21:20:44+00:00\", \"2019-03-08 21:20:44+00:00\", \"2019-03-09 21:20:44+00:00\", \"2019-03-10 21:20:44+00:00\", \"2019-03-11 21:20:49+00:00\", \"2019-03-12 21:20:49+00:00\", \"2019-03-13 21:20:49+00:00\", \"2019-03-14 21:20:49+00:00\", \"2019-03-15 21:20:49+00:00\", \"2019-03-16 21:20:49+00:00\", \"2019-03-17 21:20:49+00:00\", \"2019-03-18 21:21:38+00:00\", \"2019-03-19 21:21:38+00:00\", \"2019-03-20 21:21:38+00:00\", \"2019-03-21 21:21:38+00:00\", \"2019-03-22 21:21:38+00:00\", \"2019-03-23 21:21:38+00:00\", \"2019-03-24 21:21:38+00:00\", \"2019-03-25 21:21:30+00:00\", \"2019-03-26 21:21:30+00:00\", \"2019-03-27 21:21:30+00:00\", \"2019-03-28 21:21:30+00:00\", \"2019-03-29 21:21:30+00:00\", \"2019-03-30 21:21:30+00:00\", \"2019-03-31 21:21:30+00:00\", \"2019-04-01 21:20:40+00:00\", \"2019-04-02 15:20:40+00:00\", \"2019-04-08 21:20:46+00:00\", \"2019-04-09 21:20:46+00:00\", \"2019-04-10 21:20:46+00:00\", \"2019-04-11 21:20:46+00:00\", \"2019-04-12 21:20:46+00:00\", \"2019-04-13 21:20:46+00:00\", \"2019-04-14 21:20:46+00:00\", \"2019-04-15 06:55:42+00:00\"], \"xaxis\": \"x\", \"y\": [1.7940503432494261, 1.6910344827586192, 1.7612903225806464, 1.8442148760330577, 1.7219512195121947, 1.730666666666668, 1.8145833333333323, 1.7624999999999988, 1.7890652557319238, 1.7618055555555567, 1.7993485342019555, 1.7423611111111112, 1.7694444444444444, 1.7294117647058829, 1.7224913494809677, 1.777319587628866, 1.7681660899653981, 1.7044982698961946, 1.770833333333333, 1.8034722222222217, 1.7230240549828186, 1.752941176470588, 1.7289655172413787, 1.7169550173010388, 1.799310344827585, 1.7215277777777773, 1.723611111111112, 1.7055172413793105, 1.6830449826989622, 1.7079037800687282, 1.6722222222222216, 1.707692307692309, 1.7673611111111112, 1.796000000000002, 1.7541095890410956, 1.6865051903114185, 1.7451388888888888, 1.7340277777777768, 1.7324041811846698, 1.6999999999999993, 1.7516778523489938, 1.7217687074829926, 2.034246575342467, 2.058646616541353, 2.09037037037037, 2.192, 2.269594594594595, 2.1350000000000007, 2.0902953586497888, 2.060983606557376, 2.0899676375404534, 2.1193220338983063, 2.039393939393939, 2.09802371541502, 2.09296875, 2.1541818181818186, 2.2367952522255217, 2.103472222222221, 2.1142857142857143, 2.1544827586206887, 2.1611111111111105, 2.146020761245675, 2.1224913494809674, 2.163448275862069, 2.1027777777777787, 2.1249999999999987, 2.105555555555555, 2.1027777777777765, 2.108650519031141, 2.0931174089068825, 2.074308300395257, 2.087786259541985, 2.1276595744680846, 2.0979166666666655, 2.1757575757575762, 2.1416666666666675, 2.1472222222222213, 2.1846689895470384, 2.1715277777777775, 2.1586206896551734, 2.181250000000001, 2.0805555555555566, 2.1840277777777777, 2.116666666666666, 2.142160278745644, 2.1432525951557087, 2.137979094076656, 2.1303448275862076, 2.0551724137931036, 2.190277777777778, 2.152777777777777, 2.16470588235294, 2.12871972318339, 2.1010380622837386, 2.1798611111111112, 2.104166666666668, 2.172916666666667, 2.197222222222222, 2.1003484320557484, 2.1222222222222227, 2.10173010380623, 2.1631944444444438, 2.1297709923664128, 2.266666666666666, 2.194444444444443, 2.1259515570934275, 2.1649484536082504, 2.1687499999999997, 2.1430555555555566, 2.1965277777777774, 2.2618055555555547, 3.5396363636363652, 2.1971631205673754, 2.1527027027027015, 2.162758620689656, 2.180281690140845, 2.2894736842105248, 2.5128919860627184, 2.1645833333333346, 2.1365517241379313, 2.165635738831616, 2.1034722222222215, 2.1197231833910037, 2.1045871559633027, 2.192063492063491, 2.315985130111523, 3.258715596330276, 2.4465277777777774, 2.20553633217993, 2.172222222222222, 2.25461847389558, 2.1089494163424134, 2.1650165016501663, 2.094584837545126, 2.1068965517241365, 2.1475524475524463, 2.1628865979381438, 2.167910447761193, 2.150173010380623, 2.1351724137931027, 2.2006944444444465, 2.166666666666666, 2.374814814814815, 2.2241935483870967, 2.127017543859648, 2.125694444444444, 2.149480968858134, 2.0622837370242215, 2.1506944444444427, 4.256537102473498, 2.7763888888888903, 2.4297872340425513, 2.3394736842105277, 2.677777777777779, 2.1743055555555557, 2.1105633802816888, 2.1819444444444436, 2.1631944444444438, 2.1407665505226485, 2.1069444444444434, 2.224999999999999, 2.2090277777777776, 2.2125000000000004, 2.165277777777776, 2.1916666666666655, 2.158188153310105, 2.0909722222222227, 2.179166666666666, 2.2881944444444446, 2.195138888888889, 2.1388888888888875, 2.1152777777777767, 2.072473867595818, 2.1201388888888886, 2.1944444444444433, 2.0715277777777787, 2.152941176470589, 2.252083333333335, 2.2192771084337344, 2.209059233449476, 2.3105691056910564, 2.1958333333333346, 2.169444444444445, 3.3687500000000004, 2.41875, 2.61388888888889, 2.2034843205574894, 2.1638888888888883, 2.179166666666667, 2.1763888888888885, 2.188888888888889, 2.18125, 2.3541666666666674, 2.171428571428571, 2.142361111111111, 2.173611111111109, 2.1395833333333316, 2.210416666666667, 2.194444444444442, 2.172916666666667, 2.169337979094075, 2.1381944444444443, 2.187500000000001, 2.0875000000000004, 2.0895833333333336, 2.2131944444444454, 2.152777777777779, 2.180487804878048, 2.0694444444444433, 2.1826388888888895, 2.1347222222222224, 2.1173611111111117, 2.175694444444445, 2.152083333333333, 2.189547038327527, 2.3111111111111104, 2.138194444444446, 2.1930555555555564, 2.106250000000001, 2.135416666666667, 2.1714285714285717, 2.1804878048780476, 2.220833333333333, 2.1472222222222217, 2.380487804878048, 2.727972027972029, 2.176388888888889, 2.2145833333333327, 2.259930313588849, 2.6864111498257834, 2.1520833333333336, 2.2465277777777786, 2.1268292682926813, 2.177777777777779, 2.184775086505191, 2.123344947735191, 2.143749999999999, 2.2111111111111112, 2.180851063829788, 2.1414634146341456, 2.2145833333333353, 2.1937743190661463, 2.2631578947368416, 2.295833333333336, 2.208562691131499, 2.197916666666666, 2.241666666666668, 2.2264808362369357, 2.2470588235294127, 2.2548611111111114, 2.225694444444444, 2.2491349480968847, 2.233910034602075, 2.133101045296165, 2.250694444444444, 2.2539792387543245, 2.1748251748251746, 2.1916955017301043, 2.2228373702422126, 2.177003484320557, 2.2208333333333323, 2.2118881118881117, 2.1548611111111104, 2.1820069204152266, 2.120138888888888, 2.1247386759581888, 2.2305555555555543, 2.2415224913494827, 2.170676691729324, 2.2826388888888887, 2.20902777777778, 2.2152249134948083, 2.177003484320559, 2.2401384083044986, 2.1354166666666683, 2.183275261324043, 2.182432432432434, 2.2140672782874606, 2.1449664429530193, 2.252083333333333, 2.2062500000000007, 2.240579710144927, 2.2494845360824756, 2.4018691588785055, 2.238754325259514, 2.17847222222222, 2.185467128027683, 2.175000000000001, 2.168339768339768, 2.1890510948905084, 2.1618055555555573, 2.15451895043732, 2.217218543046357, 2.1194444444444445, 2.153591160220995, 2.076119402985074, 2.1488372093023256, 2.243410852713178, 2.2631944444444443, 2.1949999999999985, 2.2323450134770892, 2.171551724137932, 2.177777777777778, 2.0737373737373734, 2.1098684210526324, 2.0985365853658546, 2.294117647058823, 2.1145833333333335, 2.28290909090909, 2.147126436781609, 2.1067415730337093, 2.14375, 2.1486842105263153, 2.1069444444444447, 2.1108695652173917, 2.1451127819548845, 2.2344370860927145, 2.2277777777777774, 2.165771812080537, 2.1500000000000012, 2.106432748538011, 2.1337931034482764, 2.115932203389832, 2.1729166666666666, 2.134296028880867, 2.1763888888888903, 2.1486166007905143, 2.081443298969072, 2.147222222222222, 2.1296928327645044, 2.127526132404179, 2.0840236686390545, 2.1870307167235477, 2.1289473684210507, 2.105035971223022, 2.1544217687074836, 2.1794871794871797, 2.083044982698962, 2.1191176470588244, 2.0705035971223014, 2.1076388888888875, 2.07308970099668, 2.109027777777778, 2.053403141361256, 2.1601449275362308, 2.1204188481675383, 2.1320895522388046, 2.12162162162162, 2.152777777777778, 2.1994285714285695, 2.1442307692307687, 2.254368932038834, 2.2412371134020623, 2.103754266211604, 2.1514450867052037, 2.101840490797544, 2.1063973063973074, 2.0814569536423844, 2.1587692307692277, 2.161702127659575, 2.083773584905662, 2.1106250000000024, 2.2108108108108104, 2.2061643835616453, 2.1253246753246744, 2.127083333333334, 2.0786206896551724, 2.0732600732600726, 2.10508474576271, 2.098371335504886, 2.2234482758620677, 2.107348242811503, 2.1415282392026613, 2.1591695501730106, 2.089811320754716, 2.1628378378378366, 2.2, 2.205128205128205, 2.0965277777777778, 2.2340277777777757, 2.1111111111111107, 2.0871080139372817, 2.2263888888888896, 2.1625000000000005, 2.2194444444444437, 2.1381944444444447, 2.1277777777777773, 2.1201388888888886, 2.1853658536585363, 2.12638888888889, 2.140972222222223, 2.1138888888888907, 2.0368055555555546, 2.1548611111111104, 2.1173611111111117, 2.090592334494774, 2.2076388888888907, 2.143749999999999, 2.146527777777779, 2.113194444444444, 2.1187500000000004, 2.1201388888888886, 2.098257839721255, 2.1388888888888875, 2.0826388888888876, 2.085416666666668, 2.0902777777777772, 2.124305555555557, 2.165972222222223, 2.1672473867595836, 2.150925925925927, 2.117472118959107, 2.115277777777779, 2.2118055555555567, 2.1180555555555554, 2.2625, 2.204861111111112, 2.1701388888888897, 2.2157894736842105], \"yaxis\": \"y\"}, {\"name\": \"PRCP\", \"type\": \"scatter\", \"x\": [\"2018-02-01\", \"2018-02-02\", \"2018-02-03\", \"2018-02-04\", \"2018-02-05\", \"2018-02-06\", \"2018-02-07\", \"2018-02-08\", \"2018-02-09\", \"2018-02-10\", \"2018-02-11\", \"2018-02-12\", \"2018-02-13\", \"2018-02-14\", \"2018-02-15\", \"2018-02-16\", \"2018-02-17\", \"2018-02-18\", \"2018-02-19\", \"2018-02-20\", \"2018-02-21\", \"2018-02-22\", \"2018-02-23\", \"2018-02-24\", \"2018-02-25\", \"2018-02-26\", \"2018-02-27\", \"2018-02-28\", \"2018-03-01\", \"2018-03-02\", \"2018-03-03\", \"2018-03-04\", \"2018-03-05\", \"2018-03-06\", \"2018-03-07\", \"2018-03-08\", \"2018-03-09\", \"2018-03-10\", \"2018-03-11\", \"2018-03-12\", \"2018-03-13\", \"2018-03-14\", \"2018-03-15\", \"2018-03-16\", \"2018-03-17\", \"2018-03-18\", \"2018-03-19\", \"2018-03-20\", \"2018-03-21\", \"2018-03-22\", \"2018-03-23\", \"2018-03-24\", \"2018-03-25\", \"2018-03-26\", \"2018-03-27\", \"2018-03-28\", \"2018-03-29\", \"2018-03-30\", \"2018-03-31\", \"2018-04-01\", \"2018-04-02\", \"2018-04-03\", \"2018-04-04\", \"2018-04-05\", \"2018-04-06\", \"2018-04-07\", \"2018-04-08\", \"2018-04-09\", \"2018-04-10\", \"2018-04-11\", \"2018-04-12\", \"2018-04-13\", \"2018-04-14\", \"2018-04-15\", \"2018-04-16\", \"2018-04-17\", \"2018-04-18\", \"2018-04-19\", \"2018-04-20\", \"2018-04-21\", \"2018-04-22\", \"2018-04-23\", \"2018-04-24\", \"2018-04-25\", \"2018-04-26\", \"2018-04-27\", \"2018-04-28\", \"2018-04-29\", \"2018-04-30\", \"2018-05-01\", \"2018-05-02\", \"2018-05-03\", \"2018-05-04\", \"2018-05-05\", \"2018-05-06\", \"2018-05-07\", \"2018-05-08\", \"2018-05-09\", \"2018-05-10\", \"2018-05-11\", \"2018-05-12\", \"2018-05-13\", \"2018-05-14\", \"2018-05-15\", \"2018-05-16\", \"2018-05-17\", \"2018-05-18\", \"2018-05-19\", \"2018-05-20\", \"2018-05-21\", \"2018-05-22\", \"2018-05-23\", \"2018-05-24\", \"2018-05-25\", \"2018-05-26\", \"2018-05-27\", \"2018-05-28\", \"2018-05-29\", \"2018-05-30\", \"2018-05-31\", \"2018-06-01\", \"2018-06-02\", \"2018-06-03\", \"2018-06-04\", \"2018-06-05\", \"2018-06-06\", \"2018-06-07\", \"2018-06-08\", \"2018-06-09\", \"2018-06-10\", \"2018-06-11\", \"2018-06-12\", \"2018-06-13\", \"2018-06-14\", \"2018-06-15\", \"2018-06-16\", \"2018-06-17\", \"2018-06-18\", \"2018-06-19\", \"2018-06-20\", \"2018-06-21\", \"2018-06-22\", \"2018-06-23\", \"2018-06-24\", \"2018-06-25\", \"2018-06-26\", \"2018-06-27\", \"2018-06-28\", \"2018-06-29\", \"2018-06-30\", \"2018-07-01\", \"2018-07-02\", \"2018-07-03\", \"2018-07-04\", \"2018-07-05\", \"2018-07-06\", \"2018-07-07\", \"2018-07-08\", \"2018-07-09\", \"2018-07-10\", \"2018-07-11\", \"2018-07-12\", \"2018-07-13\", \"2018-07-14\", \"2018-07-15\", \"2018-07-16\", \"2018-07-17\", \"2018-07-18\", \"2018-07-19\", \"2018-07-20\", \"2018-07-21\", \"2018-07-22\", \"2018-07-23\", \"2018-07-24\", \"2018-07-25\", \"2018-07-26\", \"2018-07-27\", \"2018-07-28\", \"2018-07-29\", \"2018-07-30\", \"2018-07-31\", \"2018-08-01\", \"2018-08-02\", \"2018-08-03\", \"2018-08-04\", \"2018-08-05\", \"2018-08-06\", \"2018-08-07\", \"2018-08-08\", \"2018-08-09\", \"2018-08-10\", \"2018-08-11\", \"2018-08-12\", \"2018-08-13\", \"2018-08-14\", \"2018-08-15\", \"2018-08-16\", \"2018-08-17\", \"2018-08-18\", \"2018-08-19\", \"2018-08-20\", \"2018-08-21\", \"2018-08-22\", \"2018-08-23\", \"2018-08-24\", \"2018-08-25\", \"2018-08-26\", \"2018-08-27\", \"2018-08-28\", \"2018-08-29\", \"2018-08-30\", \"2018-08-31\", \"2018-09-01\", \"2018-09-02\", \"2018-09-03\", \"2018-09-04\", \"2018-09-05\", \"2018-09-06\", \"2018-09-07\", \"2018-09-08\", \"2018-09-09\", \"2018-09-10\", \"2018-09-11\", \"2018-09-12\", \"2018-09-13\", \"2018-09-14\", \"2018-09-15\", \"2018-09-16\", \"2018-09-17\", \"2018-09-18\", \"2018-09-19\", \"2018-09-20\", \"2018-09-21\", \"2018-09-22\", \"2018-09-23\", \"2018-09-24\", \"2018-09-25\", \"2018-09-26\", \"2018-09-27\", \"2018-09-28\", \"2018-09-29\", \"2018-09-30\", \"2018-10-01\", \"2018-10-02\", \"2018-10-03\", \"2018-10-04\", \"2018-10-05\", \"2018-10-06\", \"2018-10-07\", \"2018-10-08\", \"2018-10-09\", \"2018-10-10\", \"2018-10-11\", \"2018-10-12\", \"2018-10-13\", \"2018-10-14\", \"2018-10-15\", \"2018-10-16\", \"2018-10-17\", \"2018-10-18\", \"2018-10-19\", \"2018-10-20\", \"2018-10-21\", \"2018-10-22\", \"2018-10-23\", \"2018-10-24\", \"2018-10-25\", \"2018-10-26\", \"2018-10-27\", \"2018-10-28\", \"2018-10-29\", \"2018-10-30\", \"2018-10-31\", \"2018-11-01\", \"2018-11-02\", \"2018-11-03\", \"2018-11-04\", \"2018-11-05\", \"2018-11-06\", \"2018-11-07\", \"2018-11-08\", \"2018-11-09\", \"2018-11-10\", \"2018-11-11\", \"2018-11-12\", \"2018-11-13\", \"2018-11-14\", \"2018-11-15\", \"2018-11-16\", \"2018-11-17\", \"2018-11-18\", \"2018-11-19\", \"2018-11-20\", \"2018-11-21\", \"2018-11-22\", \"2018-11-23\", \"2018-11-24\", \"2018-11-25\", \"2018-11-26\", \"2018-11-27\", \"2018-11-28\", \"2018-11-29\", \"2018-11-30\", \"2018-12-01\", \"2018-12-02\", \"2018-12-03\", \"2018-12-04\", \"2018-12-05\", \"2018-12-06\", \"2018-12-07\", \"2018-12-08\", \"2018-12-09\", \"2018-12-10\", \"2018-12-11\", \"2018-12-12\", \"2018-12-13\", \"2018-12-14\", \"2018-12-15\", \"2018-12-16\", \"2018-12-17\", \"2018-12-18\", \"2018-12-19\", \"2018-12-20\", \"2018-12-21\", \"2018-12-22\", \"2018-12-23\", \"2018-12-24\", \"2018-12-25\", \"2018-12-26\", \"2018-12-27\", \"2018-12-28\", \"2018-12-29\", \"2018-12-30\", \"2018-12-31\", \"2019-01-01\", \"2019-01-02\", \"2019-01-03\", \"2019-01-04\", \"2019-01-05\", \"2019-01-06\", \"2019-01-07\", \"2019-01-08\", \"2019-01-09\", \"2019-01-10\", \"2019-01-11\", \"2019-01-12\", \"2019-01-13\", \"2019-01-14\", \"2019-01-15\", \"2019-01-16\", \"2019-01-17\", \"2019-01-18\", \"2019-01-19\", \"2019-01-20\", \"2019-01-21\", \"2019-01-22\", \"2019-01-23\", \"2019-01-24\", \"2019-01-25\", \"2019-01-26\", \"2019-01-27\", \"2019-01-28\", \"2019-01-29\", \"2019-01-30\", \"2019-01-31\", \"2019-02-01\", \"2019-02-02\", \"2019-02-03\", \"2019-02-04\", \"2019-02-05\", \"2019-02-06\", \"2019-02-07\", \"2019-02-08\", \"2019-02-09\", \"2019-02-10\", \"2019-02-11\", \"2019-02-12\", \"2019-02-13\", \"2019-02-14\", \"2019-02-15\", \"2019-02-16\", \"2019-02-17\", \"2019-02-18\", \"2019-02-19\", \"2019-02-20\", \"2019-02-21\", \"2019-02-22\", \"2019-02-23\", \"2019-02-24\", \"2019-02-25\", \"2019-02-26\", \"2019-02-27\", \"2019-02-28\", \"2019-03-01\", \"2019-03-02\", \"2019-03-03\", \"2019-03-04\", \"2019-03-05\", \"2019-03-06\", \"2019-03-07\", \"2019-03-08\", \"2019-03-09\", \"2019-03-10\", \"2019-03-11\", \"2019-03-12\", \"2019-03-13\", \"2019-03-14\", \"2019-03-15\", \"2019-03-16\", \"2019-03-17\", \"2019-03-18\", \"2019-03-19\", \"2019-03-20\", \"2019-03-21\", \"2019-03-22\", \"2019-03-23\", \"2019-03-24\", \"2019-03-25\", \"2019-03-26\", \"2019-03-27\", \"2019-03-28\", \"2019-03-29\", \"2019-03-30\", \"2019-03-31\", \"2019-04-01\", \"2019-04-02\", \"2019-04-03\", \"2019-04-04\", \"2019-04-05\", \"2019-04-06\", \"2019-04-07\", \"2019-04-08\", \"2019-04-09\", \"2019-04-10\", \"2019-04-11\", \"2019-04-12\", \"2019-04-13\", \"2019-04-14\", \"2019-04-15\"], \"xaxis\": \"x\", \"y\": [0.0, 0.0, 0.0, 0.0, 0.0, 0.0, 0.0, 0.0, 0.0, 0.0, 0.0, 0.0, 0.0, 0.0, 0.0, 0.0, 0.0, 0.0, 0.0, 0.0, 0.0, 0.0, 0.07, 0.0, 0.0, 0.0, 0.27, 0.0, 0.22, 0.31, 0.23, 0.03, 0.0, 0.0, 0.0, 0.06, 0.0, 0.0, 0.0, 0.0, 0.27, 0.12, 0.21, 0.16, 0.1, 0.13, 0.0, 0.01, 0.09, 0.39, 0.18, 0.01, 0.09, 0.0, 0.0, 0.0, 0.0, 0.0, 0.0, 0.0, 0.0, 0.0, 0.0, 0.0, 0.17, 0.57, 0.0, 0.0, 0.0, 0.0, 0.05, 0.0, 0.0, 0.0, 0.04, 0.07, 0.0, 0.0, 0.0, 0.0, 0.0, 0.0, 0.0, 0.0, 0.0, 0.0, 0.0, 0.0, 0.0, 0.0, 0.0, 0.0, 0.0, 0.0, 0.0, 0.0, 0.0, 0.0, 0.0, 0.0, 0.0, 0.0, 0.0, 0.0, 0.0, 0.0, 0.0, 0.0, 0.0, 0.0, 0.0, 0.0, 0.0, 0.0, 0.0, 0.0, 0.0, 0.0, 0.0, 0.0, 0.0, 0.0, 0.0, 0.0, 0.0, 0.0, 0.0, 0.0, 0.0, 0.0, 0.0, 0.0, 0.0, 0.0, 0.0, 0.0, 0.0, 0.0, 0.0, 0.0, 0.0, 0.0, 0.0, 0.0, 0.0, 0.0, 0.0, 0.0, 0.0, 0.0, 0.0, 0.0, 0.0, 0.0, 0.0, 0.0, 0.0, 0.0, 0.0, 0.0, 0.0, 0.0, 0.0, 0.0, 0.0, 0.0, 0.0, 0.0, 0.0, 0.0, 0.0, 0.0, 0.0, 0.0, 0.0, 0.0, 0.0, 0.0, 0.0, 0.0, 0.0, 0.0, 0.0, 0.0, 0.0, 0.0, 0.0, 0.0, 0.0, 0.0, 0.0, 0.0, 0.0, 0.0, 0.0, 0.0, 0.0, 0.0, 0.0, 0.0, 0.0, 0.0, 0.0, 0.0, 0.0, 0.0, 0.0, 0.0, 0.0, 0.0, 0.0, 0.0, 0.0, 0.0, 0.0, 0.0, 0.0, 0.0, 0.0, 0.0, 0.0, 0.0, 0.0, 0.0, 0.0, 0.0, 0.0, 0.0, 0.0, 0.0, 0.0, 0.0, 0.0, 0.0, 0.0, 0.0, 0.0, 0.0, 0.0, 0.0, 0.0, 0.0, 0.0, 0.0, 0.0, 0.0, 0.0, 0.0, 0.0, 0.0, 0.0, 0.0, 0.0, 0.0, 0.0, 0.0, 0.0, 0.0, 0.0, 0.0, 0.0, 0.0, 0.0, 0.0, 0.0, 0.0, 0.0, 0.0, 0.0, 0.0, 0.0, 0.0, 0.0, 0.0, 0.0, 0.0, 0.0, 0.0, 0.0, 0.0, 0.0, 0.0, 0.0, 0.0, 0.0, 0.0, 0.0, 0.0, 0.0, 0.0, 0.0, 0.0, 0.0, 0.0, 0.44, 0.24, 0.13, 0.0, 0.0, 0.0, 0.1, 0.31, 0.34, 0.09, 0.19, 0.0, 0.0, 0.27, 0.06, 0.0, 0.0, 0.0, 0.01, 0.0, 0.0, 0.0, 0.0, 0.01, 0.0, 0.68, 0.0, 0.0, 0.0, 0.03, 0.0, 0.0, 0.0, 0.24, 0.0, 0.0, 0.0, 0.0, 0.0, 0.0, 0.0, 0.0, 0.0, 0.0, 0.01, 0.12, 1.08, 0.0, 0.07, 0.05, 0.0, 0.04, 0.0, 0.0, 0.06, 0.28, 1.72, 0.11, 0.0, 0.0, 0.17, 0.0, 0.0, 0.0, 0.0, 0.0, 0.0, 0.0, 0.01, 0.0, 0.45, 0.0, 0.54, 0.62, 0.63, 0.29, 0.0, 0.0, 0.02, 0.39, 0.55, 0.02, 0.0, 0.31, 1.3, 0.41, 0.33, 0.26, 0.01, 0.0, 0.0, 0.0, 0.0, 0.0, 0.0, 0.0, 0.04, 0.74, 0.04, 0.0, 0.53, 0.26, 0.03, 0.0, 0.45, 0.05, 0.06, 0.0, 0.23, 0.09, 0.0, 0.0, 0.0, 0.0, 0.0, 0.0, 0.0, 0.0, 0.09, 0.01, 0.0, 0.64, 0.02, 0.0, 0.41, 0.04, 0.07, 0.03, 0.0, 0.0, 0.0, 0.06, 0.01, 0.0, 0.0, 0.03, 0.0, 0.0, 0.0, 0.0, 0.0, 0.0, 0.0, 0.0, 0.0], \"yaxis\": \"y2\"}],\n                        {\"height\": 450, \"legend\": {\"font\": {\"size\": 13}, \"orientation\": \"h\", \"x\": 0, \"y\": -0.2}, \"plot_bgcolor\": \"light blue\", \"template\": {\"data\": {\"bar\": [{\"error_x\": {\"color\": \"#2a3f5f\"}, \"error_y\": {\"color\": \"#2a3f5f\"}, \"marker\": {\"line\": {\"color\": \"#E5ECF6\", \"width\": 0.5}}, \"type\": \"bar\"}], \"barpolar\": [{\"marker\": {\"line\": {\"color\": \"#E5ECF6\", \"width\": 0.5}}, \"type\": \"barpolar\"}], \"carpet\": [{\"aaxis\": {\"endlinecolor\": \"#2a3f5f\", \"gridcolor\": \"white\", \"linecolor\": \"white\", \"minorgridcolor\": \"white\", \"startlinecolor\": \"#2a3f5f\"}, \"baxis\": {\"endlinecolor\": \"#2a3f5f\", \"gridcolor\": \"white\", \"linecolor\": \"white\", \"minorgridcolor\": \"white\", \"startlinecolor\": \"#2a3f5f\"}, \"type\": \"carpet\"}], \"choropleth\": [{\"colorbar\": {\"outlinewidth\": 0, \"ticks\": \"\"}, \"type\": \"choropleth\"}], \"contour\": [{\"colorbar\": {\"outlinewidth\": 0, \"ticks\": \"\"}, \"colorscale\": [[0.0, \"#0d0887\"], [0.1111111111111111, \"#46039f\"], [0.2222222222222222, \"#7201a8\"], [0.3333333333333333, \"#9c179e\"], [0.4444444444444444, \"#bd3786\"], [0.5555555555555556, \"#d8576b\"], [0.6666666666666666, \"#ed7953\"], [0.7777777777777778, \"#fb9f3a\"], [0.8888888888888888, \"#fdca26\"], [1.0, \"#f0f921\"]], \"type\": \"contour\"}], \"contourcarpet\": [{\"colorbar\": {\"outlinewidth\": 0, \"ticks\": \"\"}, \"type\": \"contourcarpet\"}], \"heatmap\": [{\"colorbar\": {\"outlinewidth\": 0, \"ticks\": \"\"}, \"colorscale\": [[0.0, \"#0d0887\"], [0.1111111111111111, \"#46039f\"], [0.2222222222222222, \"#7201a8\"], [0.3333333333333333, \"#9c179e\"], [0.4444444444444444, \"#bd3786\"], [0.5555555555555556, \"#d8576b\"], [0.6666666666666666, \"#ed7953\"], [0.7777777777777778, \"#fb9f3a\"], [0.8888888888888888, \"#fdca26\"], [1.0, \"#f0f921\"]], \"type\": \"heatmap\"}], \"heatmapgl\": [{\"colorbar\": {\"outlinewidth\": 0, \"ticks\": \"\"}, \"colorscale\": [[0.0, \"#0d0887\"], [0.1111111111111111, \"#46039f\"], [0.2222222222222222, \"#7201a8\"], [0.3333333333333333, \"#9c179e\"], [0.4444444444444444, \"#bd3786\"], [0.5555555555555556, \"#d8576b\"], [0.6666666666666666, \"#ed7953\"], [0.7777777777777778, \"#fb9f3a\"], [0.8888888888888888, \"#fdca26\"], [1.0, \"#f0f921\"]], \"type\": \"heatmapgl\"}], \"histogram\": [{\"marker\": {\"colorbar\": {\"outlinewidth\": 0, \"ticks\": \"\"}}, \"type\": \"histogram\"}], \"histogram2d\": [{\"colorbar\": {\"outlinewidth\": 0, \"ticks\": \"\"}, \"colorscale\": [[0.0, \"#0d0887\"], [0.1111111111111111, \"#46039f\"], [0.2222222222222222, \"#7201a8\"], [0.3333333333333333, \"#9c179e\"], [0.4444444444444444, \"#bd3786\"], [0.5555555555555556, \"#d8576b\"], [0.6666666666666666, \"#ed7953\"], [0.7777777777777778, \"#fb9f3a\"], [0.8888888888888888, \"#fdca26\"], [1.0, \"#f0f921\"]], \"type\": \"histogram2d\"}], \"histogram2dcontour\": [{\"colorbar\": {\"outlinewidth\": 0, \"ticks\": \"\"}, \"colorscale\": [[0.0, \"#0d0887\"], [0.1111111111111111, \"#46039f\"], [0.2222222222222222, \"#7201a8\"], [0.3333333333333333, \"#9c179e\"], [0.4444444444444444, \"#bd3786\"], [0.5555555555555556, \"#d8576b\"], [0.6666666666666666, \"#ed7953\"], [0.7777777777777778, \"#fb9f3a\"], [0.8888888888888888, \"#fdca26\"], [1.0, \"#f0f921\"]], \"type\": \"histogram2dcontour\"}], \"mesh3d\": [{\"colorbar\": {\"outlinewidth\": 0, \"ticks\": \"\"}, \"type\": \"mesh3d\"}], \"parcoords\": [{\"line\": {\"colorbar\": {\"outlinewidth\": 0, \"ticks\": \"\"}}, \"type\": \"parcoords\"}], \"pie\": [{\"automargin\": true, \"type\": \"pie\"}], \"scatter\": [{\"marker\": {\"colorbar\": {\"outlinewidth\": 0, \"ticks\": \"\"}}, \"type\": \"scatter\"}], \"scatter3d\": [{\"line\": {\"colorbar\": {\"outlinewidth\": 0, \"ticks\": \"\"}}, \"marker\": {\"colorbar\": {\"outlinewidth\": 0, \"ticks\": \"\"}}, \"type\": \"scatter3d\"}], \"scattercarpet\": [{\"marker\": {\"colorbar\": {\"outlinewidth\": 0, \"ticks\": \"\"}}, \"type\": \"scattercarpet\"}], \"scattergeo\": [{\"marker\": {\"colorbar\": {\"outlinewidth\": 0, \"ticks\": \"\"}}, \"type\": \"scattergeo\"}], \"scattergl\": [{\"marker\": {\"colorbar\": {\"outlinewidth\": 0, \"ticks\": \"\"}}, \"type\": \"scattergl\"}], \"scattermapbox\": [{\"marker\": {\"colorbar\": {\"outlinewidth\": 0, \"ticks\": \"\"}}, \"type\": \"scattermapbox\"}], \"scatterpolar\": [{\"marker\": {\"colorbar\": {\"outlinewidth\": 0, \"ticks\": \"\"}}, \"type\": \"scatterpolar\"}], \"scatterpolargl\": [{\"marker\": {\"colorbar\": {\"outlinewidth\": 0, \"ticks\": \"\"}}, \"type\": \"scatterpolargl\"}], \"scatterternary\": [{\"marker\": {\"colorbar\": {\"outlinewidth\": 0, \"ticks\": \"\"}}, \"type\": \"scatterternary\"}], \"surface\": [{\"colorbar\": {\"outlinewidth\": 0, \"ticks\": \"\"}, \"colorscale\": [[0.0, \"#0d0887\"], [0.1111111111111111, \"#46039f\"], [0.2222222222222222, \"#7201a8\"], [0.3333333333333333, \"#9c179e\"], [0.4444444444444444, \"#bd3786\"], [0.5555555555555556, \"#d8576b\"], [0.6666666666666666, \"#ed7953\"], [0.7777777777777778, \"#fb9f3a\"], [0.8888888888888888, \"#fdca26\"], [1.0, \"#f0f921\"]], \"type\": \"surface\"}], \"table\": [{\"cells\": {\"fill\": {\"color\": \"#EBF0F8\"}, \"line\": {\"color\": \"white\"}}, \"header\": {\"fill\": {\"color\": \"#C8D4E3\"}, \"line\": {\"color\": \"white\"}}, \"type\": \"table\"}]}, \"layout\": {\"annotationdefaults\": {\"arrowcolor\": \"#2a3f5f\", \"arrowhead\": 0, \"arrowwidth\": 1}, \"coloraxis\": {\"colorbar\": {\"outlinewidth\": 0, \"ticks\": \"\"}}, \"colorscale\": {\"diverging\": [[0, \"#8e0152\"], [0.1, \"#c51b7d\"], [0.2, \"#de77ae\"], [0.3, \"#f1b6da\"], [0.4, \"#fde0ef\"], [0.5, \"#f7f7f7\"], [0.6, \"#e6f5d0\"], [0.7, \"#b8e186\"], [0.8, \"#7fbc41\"], [0.9, \"#4d9221\"], [1, \"#276419\"]], \"sequential\": [[0.0, \"#0d0887\"], [0.1111111111111111, \"#46039f\"], [0.2222222222222222, \"#7201a8\"], [0.3333333333333333, \"#9c179e\"], [0.4444444444444444, \"#bd3786\"], [0.5555555555555556, \"#d8576b\"], [0.6666666666666666, \"#ed7953\"], [0.7777777777777778, \"#fb9f3a\"], [0.8888888888888888, \"#fdca26\"], [1.0, \"#f0f921\"]], \"sequentialminus\": [[0.0, \"#0d0887\"], [0.1111111111111111, \"#46039f\"], [0.2222222222222222, \"#7201a8\"], [0.3333333333333333, \"#9c179e\"], [0.4444444444444444, \"#bd3786\"], [0.5555555555555556, \"#d8576b\"], [0.6666666666666666, \"#ed7953\"], [0.7777777777777778, \"#fb9f3a\"], [0.8888888888888888, \"#fdca26\"], [1.0, \"#f0f921\"]]}, \"colorway\": [\"#636efa\", \"#EF553B\", \"#00cc96\", \"#ab63fa\", \"#FFA15A\", \"#19d3f3\", \"#FF6692\", \"#B6E880\", \"#FF97FF\", \"#FECB52\"], \"font\": {\"color\": \"#2a3f5f\"}, \"geo\": {\"bgcolor\": \"white\", \"lakecolor\": \"white\", \"landcolor\": \"#E5ECF6\", \"showlakes\": true, \"showland\": true, \"subunitcolor\": \"white\"}, \"hoverlabel\": {\"align\": \"left\"}, \"hovermode\": \"closest\", \"mapbox\": {\"style\": \"light\"}, \"paper_bgcolor\": \"white\", \"plot_bgcolor\": \"#E5ECF6\", \"polar\": {\"angularaxis\": {\"gridcolor\": \"white\", \"linecolor\": \"white\", \"ticks\": \"\"}, \"bgcolor\": \"#E5ECF6\", \"radialaxis\": {\"gridcolor\": \"white\", \"linecolor\": \"white\", \"ticks\": \"\"}}, \"scene\": {\"xaxis\": {\"backgroundcolor\": \"#E5ECF6\", \"gridcolor\": \"white\", \"gridwidth\": 2, \"linecolor\": \"white\", \"showbackground\": true, \"ticks\": \"\", \"zerolinecolor\": \"white\"}, \"yaxis\": {\"backgroundcolor\": \"#E5ECF6\", \"gridcolor\": \"white\", \"gridwidth\": 2, \"linecolor\": \"white\", \"showbackground\": true, \"ticks\": \"\", \"zerolinecolor\": \"white\"}, \"zaxis\": {\"backgroundcolor\": \"#E5ECF6\", \"gridcolor\": \"white\", \"gridwidth\": 2, \"linecolor\": \"white\", \"showbackground\": true, \"ticks\": \"\", \"zerolinecolor\": \"white\"}}, \"shapedefaults\": {\"line\": {\"color\": \"#2a3f5f\"}}, \"ternary\": {\"aaxis\": {\"gridcolor\": \"white\", \"linecolor\": \"white\", \"ticks\": \"\"}, \"baxis\": {\"gridcolor\": \"white\", \"linecolor\": \"white\", \"ticks\": \"\"}, \"bgcolor\": \"#E5ECF6\", \"caxis\": {\"gridcolor\": \"white\", \"linecolor\": \"white\", \"ticks\": \"\"}}, \"title\": {\"x\": 0.05}, \"xaxis\": {\"automargin\": true, \"gridcolor\": \"white\", \"linecolor\": \"white\", \"ticks\": \"\", \"title\": {\"standoff\": 15}, \"zerolinecolor\": \"white\", \"zerolinewidth\": 2}, \"yaxis\": {\"automargin\": true, \"gridcolor\": \"white\", \"linecolor\": \"white\", \"ticks\": \"\", \"title\": {\"standoff\": 15}, \"zerolinecolor\": \"white\", \"zerolinewidth\": 2}}}, \"title\": {\"text\": \"CPM with Rainfall\"}, \"width\": 1000, \"xaxis\": {\"anchor\": \"y\", \"domain\": [0.0, 0.94], \"linecolor\": \"black\", \"tickfont\": {\"color\": \"black\", \"size\": 12}, \"title\": {\"font\": {\"color\": \"black\", \"size\": 20}, \"text\": \"Time (local) \"}}, \"yaxis\": {\"anchor\": \"x\", \"domain\": [0.0, 1.0], \"showgrid\": false, \"tickcolor\": \"black\", \"tickfont\": {\"color\": \"black\", \"size\": 16}, \"title\": {\"font\": {\"color\": \"black\", \"size\": 20}, \"text\": \"CPM\"}}, \"yaxis2\": {\"anchor\": \"x\", \"overlaying\": \"y\", \"showgrid\": false, \"side\": \"right\", \"tickcolor\": \"black\", \"tickfont\": {\"color\": \"black\", \"size\": 16}, \"title\": {\"font\": {\"color\": \"black\", \"size\": 20}, \"text\": \"PRCP\"}}},\n                        {\"responsive\": true}\n                    ).then(function(){\n                            \nvar gd = document.getElementById('99156fc9-83c0-460d-8c7f-a535f61348cb');\nvar x = new MutationObserver(function (mutations, observer) {{\n        var display = window.getComputedStyle(gd).display;\n        if (!display || display === 'none') {{\n            console.log([gd, 'removed!']);\n            Plotly.purge(gd);\n            observer.disconnect();\n        }}\n}});\n\n// Listen for the removal of the full notebook cells\nvar notebookContainer = gd.closest('#notebook-container');\nif (notebookContainer) {{\n    x.observe(notebookContainer, {childList: true});\n}}\n\n// Listen for the clearing of the current output cell\nvar outputEl = gd.closest('.output');\nif (outputEl) {{\n    x.observe(outputEl, {childList: true});\n}}\n\n                        })\n                };\n                \n            </script>\n        </div>\n</body>\n</html>"
     },
     "execution_count": 18,
     "metadata": {
     },
     "output_type": "execute_result"
    }
   ],
   "source": [
    "graph_cpm_vs_rainfall()"
   ]
  },
  {
   "cell_type": "code",
   "execution_count": 0,
   "metadata": {
    "collapsed": false
   },
   "outputs": [
   ],
   "source": [
   ]
  }
 ],
 "metadata": {
  "kernelspec": {
   "display_name": "Python 3 (system-wide)",
   "language": "python",
   "metadata": {
    "cocalc": {
     "description": "Python 3 programming language",
     "priority": 100,
     "url": "https://www.python.org/"
    }
   },
   "name": "python3"
  },
  "language_info": {
   "codemirror_mode": {
    "name": "ipython",
    "version": 3
   },
   "file_extension": ".py",
   "mimetype": "text/x-python",
   "name": "python",
   "nbconvert_exporter": "python",
   "pygments_lexer": "ipython3",
   "version": "3.6.9"
  }
 },
 "nbformat": 4,
 "nbformat_minor": 4
}