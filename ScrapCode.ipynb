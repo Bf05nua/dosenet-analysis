{
 "cells": [
  {
   "cell_type": "code",
   "execution_count": 0,
   "metadata": {
    "collapsed": false
   },
   "outputs": [
   ],
   "source": [
    "fig = go.Figure()\n",
    "fig.add_trace(go.Scatter(\n",
    "        x = changable_avg_data['deviceTime_local'],\n",
    "        y = changable_avg_data['cpm'],\n",
    "        #error_y = dict(type='data',array=cpm_data['cpmError']),\n",
    "    ))\n",
    "fig.add_trace(go.Scatter(\n",
    "        x = boosted_data_rain['DATE'],\n",
    "        y = boosted_data_rain['PRCP'],\n",
    "    ))\n",
    "fig.update_layout(plot_bgcolor='light blue',width=1000, height=450)\n",
    "fig.update_yaxes(title=\"CPM\",titlefont=dict(color='black', size=20),\n",
    "                 showgrid=False,tickcolor='black',\n",
    "                 tickfont=dict(color='black', size=16))\n",
    "fig.update_xaxes(title=\"Time (local) \",titlefont=dict(color='black', size=20),\n",
    "                 linecolor='black',tickfont=dict(color='black',size=12))\n",
    "fig.update_layout(legend_orientation=\"h\",\n",
    "                  legend=dict(x=0,y=-.2, font=dict(size=13)))\n",
    "\n",
    "fig.show()"
   ]
  },
  {
   "cell_type": "code",
   "execution_count": 0,
   "metadata": {
    "collapsed": false
   },
   "outputs": [
   ],
   "source": [
    "closeup_data = cpm_data[cpm_data['deviceTime_local']>'2018-07-01 00:00:00-08:00']\n",
    "closeup_data = closeup_data[closeup_data['deviceTime_local']<'2018-07-07 00:00:00-08:00']\n",
    "\n",
    "interval = 900\n",
    "\n",
    "closeup_avg_data = []\n",
    "closeup_sum = 0\n",
    "temp_array = []\n",
    "starting_unix_time = closeup_data.iloc[len(closeup_data) - 1, 2]\n",
    "ending_unix_time = closeup_data.iloc[0, 2]\n",
    "\n",
    "while (starting_unix_time <= ending_unix_time):\n",
    "    closeup_cut_data = closeup_data[closeup_data[\"deviceTime_unix\"]>starting_unix_time]\n",
    "    closeup_cut_data = closeup_cut_data[closeup_cut_data[\"deviceTime_unix\"]<starting_unix_time + interval]\n",
    "    if (len(closeup_cut_data) == 0):\n",
    "        starting_unix_time = starting_unix_time + interval\n",
    "        continue\n",
    "    for i in range(len(closeup_cut_data)):\n",
    "        closeup_sum = closeup_sum + closeup_cut_data.iloc[i, 3]\n",
    "    closeup_avg = closeup_sum / len(closeup_cut_data)\n",
    "    closeup_avg_data.append([closeup_cut_data.iloc[0, 1], closeup_avg])\n",
    "    starting_unix_time = starting_unix_time + interval\n",
    "    closeup_sum = 0\n",
    "\n",
    "three_day_avg_data = pd.DataFrame(closeup_avg_data, columns = [\"deviceTime_local\", \"cpm\"])\n",
    "three_day_avg_data\n",
    "\n",
    "fig = go.Figure()\n",
    "fig.add_trace(go.Scatter(\n",
    "        x = three_day_avg_data['deviceTime_local'],\n",
    "        y = three_day_avg_data['cpm'],\n",
    "        #error_y = dict(type='data',array=cpm_data['cpmError']),\n",
    "    ))\n",
    "fig.update_layout(plot_bgcolor='light blue',width=1000, height=450)\n",
    "fig.update_yaxes(title=\"CPM\",titlefont=dict(color='black', size=20),\n",
    "                 showgrid=False,tickcolor='black',\n",
    "                 tickfont=dict(color='black', size=16))\n",
    "fig.update_xaxes(title=\"Time (local) \",titlefont=dict(color='black', size=20),\n",
    "                 linecolor='black',tickfont=dict(color='black',size=12))\n",
    "fig.update_layout(legend_orientation=\"h\",\n",
    "                  legend=dict(x=0,y=-.2, font=dict(size=13)))\n",
    "\n",
    "fig.show()"
   ]
  }
 ],
 "metadata": {
  "kernelspec": {
   "display_name": "Python 3 (system-wide)",
   "language": "python",
   "metadata": {
    "cocalc": {
     "description": "Python 3 programming language",
     "priority": 100,
     "url": "https://www.python.org/"
    }
   },
   "name": "python3"
  },
  "language_info": {
   "codemirror_mode": {
    "name": "ipython",
    "version": 3
   },
   "file_extension": ".py",
   "mimetype": "text/x-python",
   "name": "python",
   "nbconvert_exporter": "python",
   "pygments_lexer": "ipython3",
   "version": "3.6.9"
  }
 },
 "nbformat": 4,
 "nbformat_minor": 4
}