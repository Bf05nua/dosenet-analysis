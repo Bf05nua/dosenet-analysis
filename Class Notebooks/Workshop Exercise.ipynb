{
 "cells": [
  {
   "cell_type": "markdown",
   "metadata": {},
   "source": [
    "## DoseNet Workshop (ワークショップ)\n",
    "=========================================================================="
   ]
  },
  {
   "cell_type": "markdown",
   "metadata": {},
   "source": [
    "ノートブックをセットアップし、必要なすべてのPythonライブラリをインポートする"
   ]
  },
  {
   "cell_type": "code",
   "execution_count": 8,
   "metadata": {
    "code_folding": [],
    "collapsed": false
   },
   "outputs": [],
   "source": [
    "# Setup notebook and import all needed python libraries\n",
    "# Embed plots in the body of the notebook\n",
    "%matplotlib inline\n",
    "%config InlineBackend.figure_formats=['svg']\n",
    "\n",
    "# Standard csv and file io python libraries\n",
    "import csv\n",
    "import io\n",
    "import os\n",
    "\n",
    "# Library for loading data from a webpage (Python 2 and 3 compatible)\n",
    "from future.standard_library import install_aliases\n",
    "install_aliases()\n",
    "from urllib.request import urlopen, Request\n",
    "\n",
    "# Main python library for mathematical calculations\n",
    "import numpy as np\n",
    "import statistics\n",
    "from math import log10, floor\n",
    "from scipy.stats.stats import pearsonr, spearmanr\n",
    "\n",
    "# Plotting related python libraries\n",
    "import matplotlib.pyplot as plt\n",
    "import matplotlib.dates as mdates\n",
    "\n",
    "# Python libraries for manipulating dates and times as objects\n",
    "import time\n",
    "import datetime as dt\n",
    "from matplotlib.dates import date2num"
   ]
  },
  {
   "cell_type": "markdown",
   "metadata": {},
   "source": [
    "Method for selecting data within a specified time range\n",
    "\n",
    "指定された時間範囲内のデータを選択する方法"
   ]
  },
  {
   "cell_type": "code",
   "execution_count": 6,
   "metadata": {
    "code_folding": [
     0
    ],
    "collapsed": true
   },
   "outputs": [],
   "source": [
    "def SelectDataTimeRange(start_time,stop_time,data,times):\n",
    "    dataarray = np.array(data)\n",
    "    timesarray = np.array(times)\n",
    "\n",
    "    indices = np.where((timesarray>=start_time)&(timesarray<=stop_times))\n",
    "    subdata  = dataarray[indices]\n",
    "    subdatatimes = timesarray[indices]\n",
    "   \n",
    "    return subdata, subdatatimes"
   ]
  },
  {
   "cell_type": "markdown",
   "metadata": {},
   "source": []
  },
  {
   "cell_type": "code",
   "execution_count": null,
   "metadata": {
    "collapsed": true
   },
   "outputs": [],
   "source": [
    "# import data from weather station for all isotopes\n",
    "date = []\n",
    "Bi214 = []\n",
    "K40 = []\n",
    "Cs134 = []\n",
    "Cs137 = []\n",
    "line = 0\n",
    "url = 'https://radwatch.berkeley.edu/sites/default/files/pictures/rooftop_tmp/weather.csv'\n",
    "response = urlopen(url)\n",
    "\n",
    "reader = csv.reader(response, delimiter=\",\")\n",
    "for row in reader:\n",
    "    # skip meta-data\n",
    "    if line == 0:\n",
    "        print('')\n",
    "        print(\", \".join(row))\n",
    "    else:\n",
    "        date.append(datetime.strptime(row[0], '%Y-%m-%d %H:%M:%S'))\n",
    "        Bi214.append(float(row[1]))\n",
    "        K40.append(float(row[2]))\n",
    "        Cs134.append(float(row[3]))\n",
    "        Cs137.append(float(row[4]))\n",
    "    line += 1\n",
    "\n",
    "print 'collected data between ', date[0], ' and ', date[-1]"
   ]
  }
 ],
 "metadata": {
  "kernelspec": {
   "display_name": "Python 2",
   "language": "python",
   "name": "python2"
  },
  "language_info": {
   "codemirror_mode": {
    "name": "ipython",
    "version": 2
   },
   "file_extension": ".py",
   "mimetype": "text/x-python",
   "name": "python",
   "nbconvert_exporter": "python",
   "pygments_lexer": "ipython2",
   "version": "2.7.13"
  }
 },
 "nbformat": 4,
 "nbformat_minor": 0
}
