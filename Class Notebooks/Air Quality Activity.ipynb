{
 "cells": [
  {
   "cell_type": "markdown",
   "metadata": {},
   "source": [
    "# Air Quality Activity Module\n",
    "\n",
    "In this notebook, we will import data from each team and look at comparisons of CO2 and air particulate results in various ways."
   ]
  },
  {
   "cell_type": "code",
   "execution_count": 1,
   "metadata": {},
   "outputs": [],
   "source": [
    "# Plotting related python libraries\n",
    "import matplotlib.pyplot as plt\n",
    "\n",
    "# Standard csv python library\n",
    "import csv\n",
    "\n",
    "# Main python library for mathematical calculations\n",
    "import numpy as np\n",
    "\n",
    "# Python libraries for manipulating dates and times as objects\n",
    "import time\n",
    "import datetime\n",
    "import dateutil"
   ]
  },
  {
   "cell_type": "code",
   "execution_count": 55,
   "metadata": {},
   "outputs": [],
   "source": [
    "from IPython.display import Markdown, display\n",
    "def printmd(string):\n",
    "    display(Markdown(string))\n",
    "\n",
    "def get_data(results,data_index):\n",
    "    row_counter = 0\n",
    "    times = []\n",
    "    data = []\n",
    "    for r in results:\n",
    "        #Skip first row (Row that specifies fields)\n",
    "        row_counter += 1\n",
    "        if row_counter>1:\n",
    "            times.append(dateutil.parser.parse(r[0]))\n",
    "            data.append(float(r[data_index]))\n",
    "    return data\n",
    "\n",
    "def get_stats(data,data_type,device_id):\n",
    "    mean = np.mean(data)\n",
    "    std = np.std(data)\n",
    "    printmd('**{} from device {}: {} +/- {}**'.format(data_type,device_id,mean,std))\n",
    "    return mean,std"
   ]
  },
  {
   "cell_type": "markdown",
   "metadata": {},
   "source": [
    "## CO2 concentration results\n",
    "\n",
    "Input data for CO2 concentrations (parts-per-million - ppm) from each team."
   ]
  },
  {
   "cell_type": "markdown",
   "metadata": {},
   "source": [
    "### Inside the classroom"
   ]
  },
  {
   "cell_type": "code",
   "execution_count": 56,
   "metadata": {},
   "outputs": [
    {
     "name": "stdout",
     "output_type": "stream",
     "text": [
      "File Name 1: \"/Users/alihanks/TouchScreen_1_CO22018-05-14_06-35-28.csv\"\n"
     ]
    }
   ],
   "source": [
    "#Opens csv files chosen by the user\n",
    "# \"/Users/alihanks/TouchScreen_1_CO22018-05-14_06-35-28.csv\"\n",
    "# \"/Users/alihanks/Touchscreen_2_CO22018-05-14_08-05-29.csv\"\n",
    "# \"/Users/alihanks/TouchScreen_3_CO22018-05-14_08-47-00.csv\"\n",
    "# \"/Users/alihanks/TouchScreen_4_CO22018-05-14_09-17-33.csv\"\n",
    "# \"/Users/alihanks/TouchScreen_4_CO22018-05-14_09-44-14.csv\"\n",
    "user_file1 = input(\"File Name 1: \")\n",
    "co2_in_results1 = csv.reader(open(user_file1), delimiter=',')"
   ]
  },
  {
   "cell_type": "code",
   "execution_count": 57,
   "metadata": {},
   "outputs": [
    {
     "name": "stdout",
     "output_type": "stream",
     "text": [
      "File Name 2: \"/Users/alihanks/Touchscreen_2_CO22018-05-14_08-05-29.csv\"\n"
     ]
    }
   ],
   "source": [
    "user_file2 = input(\"File Name 2: \")\n",
    "co2_in_results2 = csv.reader(open(user_file2), delimiter=',')"
   ]
  },
  {
   "cell_type": "code",
   "execution_count": 58,
   "metadata": {},
   "outputs": [
    {
     "name": "stdout",
     "output_type": "stream",
     "text": [
      "File Name 3: \"/Users/alihanks/TouchScreen_3_CO22018-05-14_08-47-00.csv\"\n"
     ]
    }
   ],
   "source": [
    "user_file3 = input(\"File Name 3: \")\n",
    "co2_in_results3 = csv.reader(open(user_file3), delimiter=',')"
   ]
  },
  {
   "cell_type": "code",
   "execution_count": 59,
   "metadata": {},
   "outputs": [
    {
     "name": "stdout",
     "output_type": "stream",
     "text": [
      "File Name 4: \"/Users/alihanks/TouchScreen_4_CO22018-05-14_09-17-33.csv\"\n"
     ]
    }
   ],
   "source": [
    "user_file4 = input(\"File Name 4: \")\n",
    "co2_in_results4 = csv.reader(open(user_file4), delimiter=',')"
   ]
  },
  {
   "cell_type": "code",
   "execution_count": 60,
   "metadata": {},
   "outputs": [
    {
     "name": "stdout",
     "output_type": "stream",
     "text": [
      "File Name 5: \"/Users/alihanks/TouchScreen_4_CO22018-05-14_09-44-14.csv\"\n"
     ]
    }
   ],
   "source": [
    "user_file5 = input(\"File Name 5: \")\n",
    "co2_in_results5 = csv.reader(open(user_file5), delimiter=',')"
   ]
  },
  {
   "cell_type": "code",
   "execution_count": 61,
   "metadata": {},
   "outputs": [],
   "source": [
    "CO2_in_1 = []\n",
    "CO2_in_2 = []\n",
    "CO2_in_3 = []\n",
    "CO2_in_4 = []\n",
    "CO2_in_5 = []\n",
    "\n",
    "CO2_in_1 = get_data(co2_in_results1,1)\n",
    "CO2_in_2 = get_data(co2_in_results2,1)\n",
    "CO2_in_3 = get_data(co2_in_results3,1)\n",
    "CO2_in_4 = get_data(co2_in_results4,1)\n",
    "CO2_in_5 = get_data(co2_in_results5,1)"
   ]
  },
  {
   "cell_type": "code",
   "execution_count": 62,
   "metadata": {},
   "outputs": [
    {
     "data": {
      "text/markdown": [
       "**CO2 (ppm) inside from device 1: 1732.03282828 +/- 15.3694189919**"
      ],
      "text/plain": [
       "<IPython.core.display.Markdown object>"
      ]
     },
     "metadata": {},
     "output_type": "display_data"
    },
    {
     "data": {
      "text/markdown": [
       "**CO2 (ppm) inside from device 2: 1879.26923077 +/- 6.10206580599**"
      ],
      "text/plain": [
       "<IPython.core.display.Markdown object>"
      ]
     },
     "metadata": {},
     "output_type": "display_data"
    },
    {
     "data": {
      "text/markdown": [
       "**CO2 (ppm) inside from device 3: 1446.96717172 +/- 13.4619067463**"
      ],
      "text/plain": [
       "<IPython.core.display.Markdown object>"
      ]
     },
     "metadata": {},
     "output_type": "display_data"
    },
    {
     "data": {
      "text/markdown": [
       "**CO2 (ppm) inside from device 4: 2630.125 +/- 5.94111731916**"
      ],
      "text/plain": [
       "<IPython.core.display.Markdown object>"
      ]
     },
     "metadata": {},
     "output_type": "display_data"
    },
    {
     "data": {
      "text/markdown": [
       "**CO2 (ppm) inside from device 5: 1584.21978022 +/- 11.4321238139**"
      ],
      "text/plain": [
       "<IPython.core.display.Markdown object>"
      ]
     },
     "metadata": {},
     "output_type": "display_data"
    }
   ],
   "source": [
    "mean_CO2_1,std_CO2_1 = get_stats(CO2_in_1,\"CO2 (ppm) inside\",1)\n",
    "mean_CO2_2,std_CO2_2 = get_stats(CO2_in_2,\"CO2 (ppm) inside\",2)\n",
    "mean_CO2_3,std_CO2_3 = get_stats(CO2_in_3,\"CO2 (ppm) inside\",3)\n",
    "mean_CO2_4,std_CO2_4 = get_stats(CO2_in_4,\"CO2 (ppm) inside\",4)\n",
    "mean_CO2_5,std_CO2_5 = get_stats(CO2_in_5,\"CO2 (ppm) inside\",5)"
   ]
  },
  {
   "cell_type": "code",
   "execution_count": 10,
   "metadata": {},
   "outputs": [
    {
     "data": {
      "text/plain": [
       "<matplotlib.text.Text at 0x109a4cbd0>"
      ]
     },
     "execution_count": 10,
     "metadata": {},
     "output_type": "execute_result"
    },
    {
     "data": {
      "image/png": "[encoded data removed]",
      "text/plain": [
       "<matplotlib.figure.Figure at 0x109a43cd0>"
      ]
     },
     "metadata": {},
     "output_type": "display_data"
    }
   ],
   "source": [
    "nbins = 10\n",
    "fig, ax = plt.subplots()\n",
    "plt.hist(CO2_in_1,bins=nbins, alpha=0.5, label='Device 1')\n",
    "plt.hist(CO2_in_2,bins=nbins, alpha=0.5, label='Device 2')\n",
    "plt.hist(CO2_in_3,bins=nbins, alpha=0.5, label='Device 3')\n",
    "plt.hist(CO2_in_4,bins=nbins, alpha=0.5, label='Device 4')\n",
    "plt.hist(CO2_in_5,bins=nbins, alpha=0.5, label='Device 5')\n",
    "\n",
    "plt.legend(loc='best')\n",
    "plt.title('CO2 parts-per-million inside the classroom')\n",
    "plt.ylabel('Frequency')\n",
    "plt.xlabel('CO2 ppm')"
   ]
  },
  {
   "cell_type": "markdown",
   "metadata": {},
   "source": [
    "### Outside the classroom"
   ]
  },
  {
   "cell_type": "code",
   "execution_count": 17,
   "metadata": {},
   "outputs": [
    {
     "name": "stdout",
     "output_type": "stream",
     "text": [
      "File Name 1: \"/Users/alihanks/TouchScreen_1_CO22018-05-14_06-35-28.csv\"\n"
     ]
    }
   ],
   "source": [
    "#Opens csv files chosen by the user\n",
    "user_file1 = input(\"File Name 1: \")\n",
    "co2_out_results1 = csv.reader(open(user_file1), delimiter=',')"
   ]
  },
  {
   "cell_type": "code",
   "execution_count": 18,
   "metadata": {},
   "outputs": [
    {
     "name": "stdout",
     "output_type": "stream",
     "text": [
      "File Name 2: \"/Users/alihanks/Touchscreen_2_CO22018-05-14_08-05-29.csv\"\n"
     ]
    }
   ],
   "source": [
    "user_file2 = input(\"File Name 2: \")\n",
    "co2_out_results2 = csv.reader(open(user_file2), delimiter=',')"
   ]
  },
  {
   "cell_type": "code",
   "execution_count": 19,
   "metadata": {},
   "outputs": [
    {
     "name": "stdout",
     "output_type": "stream",
     "text": [
      "File Name 3: \"/Users/alihanks/TouchScreen_3_CO22018-05-14_08-47-00.csv\"\n"
     ]
    }
   ],
   "source": [
    "user_file3 = input(\"File Name 3: \")\n",
    "co2_out_results3 = csv.reader(open(user_file3), delimiter=',')"
   ]
  },
  {
   "cell_type": "code",
   "execution_count": 20,
   "metadata": {},
   "outputs": [
    {
     "name": "stdout",
     "output_type": "stream",
     "text": [
      "File Name 4: \"/Users/alihanks/TouchScreen_4_CO22018-05-14_09-17-33.csv\"\n"
     ]
    }
   ],
   "source": [
    "user_file4 = input(\"File Name 4: \")\n",
    "co2_out_results4 = csv.reader(open(user_file4), delimiter=',')"
   ]
  },
  {
   "cell_type": "code",
   "execution_count": 21,
   "metadata": {},
   "outputs": [
    {
     "name": "stdout",
     "output_type": "stream",
     "text": [
      "File Name 5: \"/Users/alihanks/TouchScreen_4_CO22018-05-14_09-44-14.csv\"\n"
     ]
    }
   ],
   "source": [
    "user_file5 = input(\"File Name 5: \")\n",
    "co2_out_results5 = csv.reader(open(user_file5), delimiter=',')"
   ]
  },
  {
   "cell_type": "code",
   "execution_count": 22,
   "metadata": {},
   "outputs": [],
   "source": [
    "CO2_out_1 = []\n",
    "CO2_out_2 = []\n",
    "CO2_out_3 = []\n",
    "CO2_out_4 = []\n",
    "CO2_out_5 = []\n",
    "\n",
    "CO2_out_1 = get_data(co2_out_results1,1)\n",
    "CO2_out_2 = get_data(co2_out_results2,1)\n",
    "CO2_out_3 = get_data(co2_out_results3,1)\n",
    "CO2_out_4 = get_data(co2_out_results4,1)\n",
    "CO2_out_5 = get_data(co2_out_results5,1)"
   ]
  },
  {
   "cell_type": "code",
   "execution_count": 23,
   "metadata": {},
   "outputs": [
    {
     "data": {
      "text/markdown": [
       "**CO2 (ppm) outside from device 1: 1732.03282828 +/- 15.3694189919**"
      ],
      "text/plain": [
       "<IPython.core.display.Markdown object>"
      ]
     },
     "metadata": {},
     "output_type": "display_data"
    },
    {
     "data": {
      "text/markdown": [
       "**CO2 (ppm) outside from device 2: 1879.26923077 +/- 6.10206580599**"
      ],
      "text/plain": [
       "<IPython.core.display.Markdown object>"
      ]
     },
     "metadata": {},
     "output_type": "display_data"
    },
    {
     "data": {
      "text/markdown": [
       "**CO2 (ppm) outside from device 3: 1446.96717172 +/- 13.4619067463**"
      ],
      "text/plain": [
       "<IPython.core.display.Markdown object>"
      ]
     },
     "metadata": {},
     "output_type": "display_data"
    },
    {
     "data": {
      "text/markdown": [
       "**CO2 (ppm) outside from device 4: 2630.125 +/- 5.94111731916**"
      ],
      "text/plain": [
       "<IPython.core.display.Markdown object>"
      ]
     },
     "metadata": {},
     "output_type": "display_data"
    },
    {
     "data": {
      "text/markdown": [
       "**CO2 (ppm) outside from device 5: 1584.21978022 +/- 11.4321238139**"
      ],
      "text/plain": [
       "<IPython.core.display.Markdown object>"
      ]
     },
     "metadata": {},
     "output_type": "display_data"
    }
   ],
   "source": [
    "mean_CO2_1,std_CO2_1 = get_stats(CO2_out_1,\"CO2 (ppm) outside\",1)\n",
    "mean_CO2_2,std_CO2_2 = get_stats(CO2_out_2,\"CO2 (ppm) outside\",2)\n",
    "mean_CO2_3,std_CO2_3 = get_stats(CO2_out_3,\"CO2 (ppm) outside\",3)\n",
    "mean_CO2_4,std_CO2_4 = get_stats(CO2_out_4,\"CO2 (ppm) outside\",4)\n",
    "mean_CO2_5,std_CO2_5 = get_stats(CO2_out_5,\"CO2 (ppm) outside\",5)"
   ]
  },
  {
   "cell_type": "code",
   "execution_count": 24,
   "metadata": {},
   "outputs": [
    {
     "data": {
      "text/plain": [
       "<matplotlib.text.Text at 0x109c08fd0>"
      ]
     },
     "execution_count": 24,
     "metadata": {},
     "output_type": "execute_result"
    },
    {
     "data": {
      "image/png": "[encoded data removed]",
      "text/plain": [
       "<matplotlib.figure.Figure at 0x109c33e90>"
      ]
     },
     "metadata": {},
     "output_type": "display_data"
    }
   ],
   "source": [
    "nbins = 10\n",
    "\n",
    "fig, ax = plt.subplots()\n",
    "plt.hist(CO2_out_1,bins=nbins, alpha=0.5, label='Device 1')\n",
    "plt.hist(CO2_out_2,bins=nbins, alpha=0.5, label='Device 2')\n",
    "plt.hist(CO2_out_3,bins=nbins, alpha=0.5, label='Device 3')\n",
    "plt.hist(CO2_out_4,bins=nbins, alpha=0.5, label='Device 4')\n",
    "plt.hist(CO2_out_5,bins=nbins, alpha=0.5, label='Device 5')\n",
    "\n",
    "plt.legend(loc='best')\n",
    "plt.title('CO2 parts-per-million outside the classroom')\n",
    "plt.ylabel('Frequency')\n",
    "plt.xlabel('CO2 ppm')"
   ]
  },
  {
   "cell_type": "markdown",
   "metadata": {},
   "source": [
    "### At unique locations on campus"
   ]
  },
  {
   "cell_type": "code",
   "execution_count": 25,
   "metadata": {},
   "outputs": [
    {
     "name": "stdout",
     "output_type": "stream",
     "text": [
      "File Name 1: \"/Users/alihanks/TouchScreen_4_CO22018-05-14_09-44-14.csv\"\n"
     ]
    }
   ],
   "source": [
    "#Opens csv files chosen by the user\n",
    "user_file1 = input(\"File Name 1: \")\n",
    "co2_results1 = csv.reader(open(user_file1), delimiter=',')"
   ]
  },
  {
   "cell_type": "code",
   "execution_count": 27,
   "metadata": {},
   "outputs": [
    {
     "name": "stdout",
     "output_type": "stream",
     "text": [
      "File Name 2: \"/Users/alihanks/TouchScreen_4_CO22018-05-14_09-17-33.csv\"\n"
     ]
    }
   ],
   "source": [
    "user_file2 = input(\"File Name 2: \")\n",
    "co2_results2 = csv.reader(open(user_file2), delimiter=',')"
   ]
  },
  {
   "cell_type": "code",
   "execution_count": 28,
   "metadata": {},
   "outputs": [
    {
     "name": "stdout",
     "output_type": "stream",
     "text": [
      "File Name 3: \"/Users/alihanks/TouchScreen_3_CO22018-05-14_08-47-00.csv\"\n"
     ]
    }
   ],
   "source": [
    "user_file3 = input(\"File Name 3: \")\n",
    "co2_results3 = csv.reader(open(user_file3), delimiter=',')"
   ]
  },
  {
   "cell_type": "code",
   "execution_count": 29,
   "metadata": {},
   "outputs": [
    {
     "name": "stdout",
     "output_type": "stream",
     "text": [
      "File Name 4: \"/Users/alihanks/Touchscreen_2_CO22018-05-14_08-05-29.csv\"\n"
     ]
    }
   ],
   "source": [
    "user_file4 = input(\"File Name 4: \")\n",
    "co2_results4 = csv.reader(open(user_file4), delimiter=',')"
   ]
  },
  {
   "cell_type": "code",
   "execution_count": 30,
   "metadata": {},
   "outputs": [
    {
     "name": "stdout",
     "output_type": "stream",
     "text": [
      "File Name 5: \"/Users/alihanks/TouchScreen_1_CO22018-05-14_06-35-28.csv\"\n"
     ]
    }
   ],
   "source": [
    "user_file5 = input(\"File Name 5: \")\n",
    "co2_results5 = csv.reader(open(user_file5), delimiter=',')"
   ]
  },
  {
   "cell_type": "code",
   "execution_count": 31,
   "metadata": {},
   "outputs": [],
   "source": [
    "CO2_1 = []\n",
    "CO2_2 = []\n",
    "CO2_3 = []\n",
    "CO2_4 = []\n",
    "CO2_5 = []\n",
    "\n",
    "CO2_1 = get_data(co2_results1,1)\n",
    "CO2_2 = get_data(co2_results2,1)\n",
    "CO2_3 = get_data(co2_results3,1)\n",
    "CO2_4 = get_data(co2_results4,1)\n",
    "CO2_5 = get_data(co2_results5,1)"
   ]
  },
  {
   "cell_type": "code",
   "execution_count": 32,
   "metadata": {},
   "outputs": [
    {
     "data": {
      "text/markdown": [
       "**CO2 (ppm) at location 1 from device 1: 1584.21978022 +/- 11.4321238139**"
      ],
      "text/plain": [
       "<IPython.core.display.Markdown object>"
      ]
     },
     "metadata": {},
     "output_type": "display_data"
    },
    {
     "data": {
      "text/markdown": [
       "**CO2 (ppm) at location 2 from device 2: 2630.125 +/- 5.94111731916**"
      ],
      "text/plain": [
       "<IPython.core.display.Markdown object>"
      ]
     },
     "metadata": {},
     "output_type": "display_data"
    },
    {
     "data": {
      "text/markdown": [
       "**CO2 (ppm) at location 3 from device 3: 1446.96717172 +/- 13.4619067463**"
      ],
      "text/plain": [
       "<IPython.core.display.Markdown object>"
      ]
     },
     "metadata": {},
     "output_type": "display_data"
    },
    {
     "data": {
      "text/markdown": [
       "**CO2 (ppm) at location 4 from device 4: 1879.26923077 +/- 6.10206580599**"
      ],
      "text/plain": [
       "<IPython.core.display.Markdown object>"
      ]
     },
     "metadata": {},
     "output_type": "display_data"
    },
    {
     "data": {
      "text/markdown": [
       "**CO2 (ppm) at location 5 from device 5: 1732.03282828 +/- 15.3694189919**"
      ],
      "text/plain": [
       "<IPython.core.display.Markdown object>"
      ]
     },
     "metadata": {},
     "output_type": "display_data"
    }
   ],
   "source": [
    "mean_CO2_1,std_CO2_1 = get_stats(CO2_1,\"CO2 (ppm) at location 1\",1)\n",
    "mean_CO2_2,std_CO2_2 = get_stats(CO2_2,\"CO2 (ppm) at location 2\",2)\n",
    "mean_CO2_3,std_CO2_3 = get_stats(CO2_3,\"CO2 (ppm) at location 3\",3)\n",
    "mean_CO2_4,std_CO2_4 = get_stats(CO2_4,\"CO2 (ppm) at location 4\",4)\n",
    "mean_CO2_5,std_CO2_5 = get_stats(CO2_5,\"CO2 (ppm) at location 5\",5)"
   ]
  },
  {
   "cell_type": "code",
   "execution_count": 33,
   "metadata": {},
   "outputs": [
    {
     "data": {
      "text/plain": [
       "<matplotlib.text.Text at 0x109ecb990>"
      ]
     },
     "execution_count": 33,
     "metadata": {},
     "output_type": "execute_result"
    },
    {
     "data": {
      "image/png": "[encoded data removed]",
      "text/plain": [
       "<matplotlib.figure.Figure at 0x109efda10>"
      ]
     },
     "metadata": {},
     "output_type": "display_data"
    }
   ],
   "source": [
    "nbins = 10\n",
    "fig, ax = plt.subplots()\n",
    "plt.hist(CO2_1,bins=nbins, alpha=0.5, label='Location 1')\n",
    "plt.hist(CO2_2,bins=nbins, alpha=0.5, label='Location 2')\n",
    "plt.hist(CO2_3,bins=nbins, alpha=0.5, label='Location 3')\n",
    "plt.hist(CO2_4,bins=nbins, alpha=0.5, label='Location 4')\n",
    "plt.hist(CO2_5,bins=nbins, alpha=0.5, label='Location 5')\n",
    "\n",
    "plt.legend(loc='best')\n",
    "plt.title('CO2 parts-per-million at unique locations')\n",
    "plt.ylabel('Frequency')\n",
    "plt.xlabel('CO2 ppm')"
   ]
  },
  {
   "cell_type": "markdown",
   "metadata": {},
   "source": [
    "## Air Particulate concentration results\n",
    "\n",
    "Input data for 2.5 micron particulate matter concentrations (ug/m^3) from each team."
   ]
  },
  {
   "cell_type": "markdown",
   "metadata": {},
   "source": [
    "### Inside the classroom"
   ]
  },
  {
   "cell_type": "code",
   "execution_count": 85,
   "metadata": {},
   "outputs": [
    {
     "name": "stdout",
     "output_type": "stream",
     "text": [
      "File Name 1: \"/Users/alihanks/TouchScreen_1_air_quality2018-05-14_07-09-37.csv\"\n"
     ]
    }
   ],
   "source": [
    "#Opens csv files chosen by the user\n",
    "# \"/Users/alihanks/TouchScreen_1_air_quality2018-05-14_07-09-37.csv\"\n",
    "# \"/Users/alihanks/TouchScreen_1_air_quality2018-05-14_07-04-47.csv\"\n",
    "# \"/Users/alihanks/TouchScreen_1_air_quality2018-05-14_06-46-24.csv\"\n",
    "# \"/Users/alihanks/Touchscreen_2_air_quality2018-05-14_08-01-30.csv\"\n",
    "# \"/Users/alihanks/Touchscreen_2_air_quality2018-05-14_07-49-45.csv\"\n",
    "user_file1 = input(\"File Name 1: \")\n",
    "aq_in_results1 = csv.reader(open(user_file1), delimiter=',')"
   ]
  },
  {
   "cell_type": "code",
   "execution_count": 80,
   "metadata": {},
   "outputs": [
    {
     "name": "stdout",
     "output_type": "stream",
     "text": [
      "File Name 2: \"/Users/alihanks/TouchScreen_1_air_quality2018-05-14_07-04-47.csv\"\n"
     ]
    }
   ],
   "source": [
    "user_file2 = input(\"File Name 2: \")\n",
    "aq_in_results2 = csv.reader(open(user_file2), delimiter=',')"
   ]
  },
  {
   "cell_type": "code",
   "execution_count": 81,
   "metadata": {},
   "outputs": [
    {
     "name": "stdout",
     "output_type": "stream",
     "text": [
      "File Name 3: \"/Users/alihanks/TouchScreen_1_air_quality2018-05-14_06-46-24.csv\"\n"
     ]
    }
   ],
   "source": [
    "user_file3 = input(\"File Name 3: \")\n",
    "aq_in_results3 = csv.reader(open(user_file3), delimiter=',')"
   ]
  },
  {
   "cell_type": "code",
   "execution_count": 82,
   "metadata": {},
   "outputs": [
    {
     "name": "stdout",
     "output_type": "stream",
     "text": [
      "File Name 4: \"/Users/alihanks/Touchscreen_2_air_quality2018-05-14_08-01-30.csv\"\n"
     ]
    }
   ],
   "source": [
    "user_file4 = input(\"File Name 4: \")\n",
    "aq_in_results4 = csv.reader(open(user_file4), delimiter=',')"
   ]
  },
  {
   "cell_type": "code",
   "execution_count": 83,
   "metadata": {},
   "outputs": [
    {
     "name": "stdout",
     "output_type": "stream",
     "text": [
      "File Name 5: \"/Users/alihanks/Touchscreen_2_air_quality2018-05-14_07-49-45.csv\"\n"
     ]
    }
   ],
   "source": [
    "user_file5 = input(\"File Name 5: \")\n",
    "aq_in_results5 = csv.reader(open(user_file5), delimiter=',')"
   ]
  },
  {
   "cell_type": "code",
   "execution_count": 86,
   "metadata": {},
   "outputs": [],
   "source": [
    "PM25_in_1 = []\n",
    "PM25_in_2 = []\n",
    "PM25_in_3 = []\n",
    "PM25_in_4 = []\n",
    "PM25_in_5 = []\n",
    "\n",
    "PM25_in_1 = get_data(aq_in_results1,8)\n",
    "PM25_in_2 = get_data(aq_in_results2,8)\n",
    "PM25_in_3 = get_data(aq_in_results3,8)\n",
    "PM25_in_4 = get_data(aq_in_results4,8)\n",
    "PM25_in_5 = get_data(aq_in_results5,8)"
   ]
  },
  {
   "cell_type": "code",
   "execution_count": 87,
   "metadata": {},
   "outputs": [
    {
     "data": {
      "text/markdown": [
       "**PM25 inside from device 1: 0.0 +/- 0.0**"
      ],
      "text/plain": [
       "<IPython.core.display.Markdown object>"
      ]
     },
     "metadata": {},
     "output_type": "display_data"
    },
    {
     "data": {
      "text/markdown": [
       "**PM25 inside from device 2: 0.0 +/- 0.0**"
      ],
      "text/plain": [
       "<IPython.core.display.Markdown object>"
      ]
     },
     "metadata": {},
     "output_type": "display_data"
    },
    {
     "data": {
      "text/markdown": [
       "**PM25 inside from device 3: 0.0 +/- 0.0**"
      ],
      "text/plain": [
       "<IPython.core.display.Markdown object>"
      ]
     },
     "metadata": {},
     "output_type": "display_data"
    },
    {
     "data": {
      "text/markdown": [
       "**PM25 inside from device 4: 0.0 +/- 0.0**"
      ],
      "text/plain": [
       "<IPython.core.display.Markdown object>"
      ]
     },
     "metadata": {},
     "output_type": "display_data"
    },
    {
     "data": {
      "text/markdown": [
       "**PM25 inside from device 5: 0.0 +/- 0.0**"
      ],
      "text/plain": [
       "<IPython.core.display.Markdown object>"
      ]
     },
     "metadata": {},
     "output_type": "display_data"
    }
   ],
   "source": [
    "mean_PM25_1,std_PM25_1 = get_stats(PM25_in_1,\"PM25 inside\",1)\n",
    "mean_PM25_2,std_PM25_2 = get_stats(PM25_in_2,\"PM25 inside\",2)\n",
    "mean_PM25_3,std_PM25_3 = get_stats(PM25_in_3,\"PM25 inside\",3)\n",
    "mean_PM25_4,std_PM25_4 = get_stats(PM25_in_4,\"PM25 inside\",4)\n",
    "mean_PM25_5,std_PM25_5 = get_stats(PM25_in_5,\"PM25 inside\",5)"
   ]
  },
  {
   "cell_type": "code",
   "execution_count": 88,
   "metadata": {},
   "outputs": [
    {
     "data": {
      "text/plain": [
       "<matplotlib.text.Text at 0x10a29f850>"
      ]
     },
     "execution_count": 88,
     "metadata": {},
     "output_type": "execute_result"
    },
    {
     "data": {
      "image/png": "[encoded data removed]",
      "text/plain": [
       "<matplotlib.figure.Figure at 0x10a29c690>"
      ]
     },
     "metadata": {},
     "output_type": "display_data"
    }
   ],
   "source": [
    "nbins = 10\n",
    "fig, ax = plt.subplots()\n",
    "plt.hist(PM25_in_1,bins=nbins, alpha=0.5, label='Device 1')\n",
    "plt.hist(PM25_in_2,bins=nbins, alpha=0.5, label='Device 2')\n",
    "plt.hist(PM25_in_3,bins=nbins, alpha=0.5, label='Device 3')\n",
    "plt.hist(PM25_in_4,bins=nbins, alpha=0.5, label='Device 4')\n",
    "plt.hist(PM25_in_5,bins=nbins, alpha=0.5, label='Device 5')\n",
    "\n",
    "plt.legend(loc='best')\n",
    "plt.title('Air Quality 2.5 micron particulate matter inside the classroom')\n",
    "plt.ylabel('Frequency')\n",
    "plt.xlabel('PM 2.5 ug/m^3')"
   ]
  },
  {
   "cell_type": "markdown",
   "metadata": {},
   "source": [
    "### Outside the classroom"
   ]
  },
  {
   "cell_type": "code",
   "execution_count": null,
   "metadata": {},
   "outputs": [],
   "source": [
    "user_file2 = input(\"File Name 2: \")\n",
    "aq_out_results2 = csv.reader(open(user_file2), delimiter=',')"
   ]
  },
  {
   "cell_type": "code",
   "execution_count": null,
   "metadata": {},
   "outputs": [],
   "source": [
    "user_file3 = input(\"File Name 3: \")\n",
    "aq_out_results3 = csv.reader(open(user_file3), delimiter=',')"
   ]
  },
  {
   "cell_type": "code",
   "execution_count": null,
   "metadata": {},
   "outputs": [],
   "source": [
    "user_file4 = input(\"File Name 4: \")\n",
    "aq_out_results4 = csv.reader(open(user_file4), delimiter=',')"
   ]
  },
  {
   "cell_type": "code",
   "execution_count": null,
   "metadata": {},
   "outputs": [],
   "source": [
    "user_file5 = input(\"File Name 5: \")\n",
    "aq_out_results5 = csv.reader(open(user_file5), delimiter=',')"
   ]
  },
  {
   "cell_type": "code",
   "execution_count": null,
   "metadata": {},
   "outputs": [],
   "source": [
    "PM25_out_1 = []\n",
    "PM25_out_2 = []\n",
    "PM25_out_3 = []\n",
    "PM25_out_4 = []\n",
    "PM25_out_5 = []\n",
    "\n",
    "PM25_out_1 = get_data(aq_out_results1,8)\n",
    "PM25_out_2 = get_data(aq_out_results2,8)\n",
    "PM25_out_3 = get_data(aq_out_results3,8)\n",
    "PM25_out_4 = get_data(aq_out_results4,8)\n",
    "PM25_out_5 = get_data(aq_out_results5,8)"
   ]
  },
  {
   "cell_type": "code",
   "execution_count": null,
   "metadata": {},
   "outputs": [],
   "source": [
    "mean_PM25_1,std_PM25_1 = get_stats(PM25_out_1,\"PM25 outside\",1)\n",
    "mean_PM25_2,std_PM25_2 = get_stats(PM25_out_2,\"PM25 outside\",2)\n",
    "mean_PM25_3,std_PM25_3 = get_stats(PM25_out_3,\"PM25 outside\",3)\n",
    "mean_PM25_4,std_PM25_4 = get_stats(PM25_out_4,\"PM25 outside\",4)\n",
    "mean_PM25_5,std_PM25_5 = get_stats(PM25_out_5,\"PM25 outside\",5)"
   ]
  },
  {
   "cell_type": "code",
   "execution_count": null,
   "metadata": {},
   "outputs": [],
   "source": [
    "nbins = 10\n",
    "fig, ax = plt.subplots()\n",
    "plt.hist(PM25_out_1,bins=nbins, alpha=0.5, label='Device 1')\n",
    "plt.hist(PM25_out_2,bins=nbins, alpha=0.5, label='Device 2')\n",
    "plt.hist(PM25_out_3,bins=nbins, alpha=0.5, label='Device 3')\n",
    "plt.hist(PM25_out_4,bins=nbins, alpha=0.5, label='Device 4')\n",
    "plt.hist(PM25_out_5,bins=nbins, alpha=0.5, label='Device 5')\n",
    "\n",
    "plt.legend(loc='best')\n",
    "plt.title('Air Quality 2.5 micron particulate matter outside the classroom')\n",
    "plt.ylabel('Frequency')\n",
    "plt.xlabel('PM 2.5 ug/m^3')"
   ]
  },
  {
   "cell_type": "markdown",
   "metadata": {},
   "source": [
    "### At unique locations on campus"
   ]
  },
  {
   "cell_type": "code",
   "execution_count": null,
   "metadata": {},
   "outputs": [],
   "source": [
    "#Opens csv files chosen by the user\n",
    "user_file1 = input(\"File Name 1: \")\n",
    "aq_results1 = csv.reader(open(user_file1), delimiter=',')"
   ]
  },
  {
   "cell_type": "code",
   "execution_count": null,
   "metadata": {},
   "outputs": [],
   "source": [
    "user_file2 = input(\"File Name 2: \")\n",
    "aq_results2 = csv.reader(open(user_file2), delimiter=',')"
   ]
  },
  {
   "cell_type": "code",
   "execution_count": null,
   "metadata": {},
   "outputs": [],
   "source": [
    "user_file3 = input(\"File Name 3: \")\n",
    "aq_results3 = csv.reader(open(user_file3), delimiter=',')"
   ]
  },
  {
   "cell_type": "code",
   "execution_count": null,
   "metadata": {},
   "outputs": [],
   "source": [
    "user_file4 = input(\"File Name 4: \")\n",
    "aq_results4 = csv.reader(open(user_file4), delimiter=',')"
   ]
  },
  {
   "cell_type": "code",
   "execution_count": null,
   "metadata": {},
   "outputs": [],
   "source": [
    "user_file5 = input(\"File Name 5: \")\n",
    "aq_results5 = csv.reader(open(user_file5), delimiter=',')"
   ]
  },
  {
   "cell_type": "code",
   "execution_count": null,
   "metadata": {},
   "outputs": [],
   "source": [
    "PM25_1 = []\n",
    "PM25_2 = []\n",
    "PM25_3 = []\n",
    "PM25_4 = []\n",
    "PM25_5 = []\n",
    "\n",
    "PM25_1 = get_data(aq_results1,8)\n",
    "PM25_2 = get_data(aq_results2,8)\n",
    "PM25_3 = get_data(aq_results3,8)\n",
    "PM25_4 = get_data(aq_results4,8)\n",
    "PM25_5 = get_data(aq_results5,8)"
   ]
  },
  {
   "cell_type": "code",
   "execution_count": null,
   "metadata": {},
   "outputs": [],
   "source": [
    "mean_PM25_1,std_PM25_1 = get_stats(PM25_1,\"PM25 at location 1\",1)\n",
    "mean_PM25_2,std_PM25_2 = get_stats(PM25_2,\"PM25 at location 2\",2)\n",
    "mean_PM25_3,std_PM25_3 = get_stats(PM25_3,\"PM25 at location 3\",3)\n",
    "mean_PM25_4,std_PM25_4 = get_stats(PM25_4,\"PM25 at location 4\",4)\n",
    "mean_PM25_5,std_PM25_5 = get_stats(PM25_5,\"PM25 at location 5\",5)"
   ]
  },
  {
   "cell_type": "code",
   "execution_count": null,
   "metadata": {},
   "outputs": [],
   "source": [
    "nbins = 10\n",
    "fig, ax = plt.subplots()\n",
    "plt.hist(PM25_1,bins=nbins, alpha=0.5, label='Location 1')\n",
    "plt.hist(PM25_2,bins=nbins, alpha=0.5, label='Location 2')\n",
    "plt.hist(PM25_3,bins=nbins, alpha=0.5, label='Location 3')\n",
    "plt.hist(PM25_4,bins=nbins, alpha=0.5, label='Location 4')\n",
    "plt.hist(PM25_5,bins=nbins, alpha=0.5, label='Location 5')\n",
    "\n",
    "plt.legend(loc='best')\n",
    "plt.title('Air Quality 2.5 micron particulate matter at unique locations')\n",
    "plt.ylabel('Frequency')\n",
    "plt.xlabel('PM 2.5 ug/m^3')"
   ]
  },
  {
   "cell_type": "code",
   "execution_count": null,
   "metadata": {},
   "outputs": [],
   "source": []
  },
  {
   "cell_type": "code",
   "execution_count": null,
   "metadata": {},
   "outputs": [],
   "source": []
  },
  {
   "cell_type": "code",
   "execution_count": null,
   "metadata": {},
   "outputs": [],
   "source": []
  },
  {
   "cell_type": "code",
   "execution_count": null,
   "metadata": {
    "collapsed": true
   },
   "outputs": [],
   "source": [
    "#Choose the number of data points to combine and average\n",
    "n_merge = int(input(\"n data points to combine:\"))\n",
    "ndata_a = len(Val25a)\n",
    "ndata_b = len(Val25b)\n",
    "nsum_data_a= int(ndata_a/n_merge)\n",
    "nsum_data_b= int(ndata_b/n_merge)"
   ]
  },
  {
   "cell_type": "code",
   "execution_count": null,
   "metadata": {
    "collapsed": true
   },
   "outputs": [],
   "source": [
    "data_ave_a = []\n",
    "data_ave_b = []\n",
    "data_unc_a = []\n",
    "data_unc_b = []\n",
    "merge_times_a = []\n",
    "merge_times_b = []\n",
    "\n",
    "for i in range(nsum_data_a):\n",
    "    #Calculate the mean and standard deviation\n",
    "    idata = Val25a[i*n_merge:(i+1)*n_merge]\n",
    "    idata_array = np.asarray(idata) #Convert 'idata' to a numpy array\n",
    "    aqmean = np.mean(idata_array)\n",
    "    aqsigma = np.sqrt(np.var(idata_array))\n",
    "    data_ave_a.append(aqmean)\n",
    "    data_unc_a.append(aqsigma)\n",
    "    itimes = timesa[i*n_merge:(i+1)*n_merge]\n",
    "    itime = itimes[int(len(itimes)/2)]\n",
    "    merge_times_a.append(itime)\n",
    "\n",
    "for i in range(nsum_data_b):\n",
    "    #Calculate the mean and standard deviation\n",
    "    idata = Val25b[i*n_merge:(i+1)*n_merge]\n",
    "    idata_array = np.asarray(idata)\n",
    "    aqmean = np.mean(idata_array)\n",
    "    aqsigma = np.sqrt(np.var(idata_array))\n",
    "    data_ave_b.append(aqmean)\n",
    "    data_unc_b.append(aqsigma)\n",
    "    itimes = timesb[i*n_merge:(i+1)*n_merge]\n",
    "    itime = itimes[int(len(itimes)/2)]\n",
    "    merge_times_b.append(itime)"
   ]
  },
  {
   "cell_type": "code",
   "execution_count": null,
   "metadata": {
    "collapsed": true
   },
   "outputs": [],
   "source": [
    "fig = plt.figure() \n",
    "\n",
    "#Plotting the first graph, each data set on two separate lines\n",
    "plt.figure(1)\n",
    "plt.plot(merge_times_a, data_ave_a, \"b.\", label='File 1')\n",
    "plt.plot(merge_times_b, data_ave_b, \"g.\", label = 'File 2')\n",
    "plt.legend(loc=\"best\")\n",
    "plt.xlabel(\"Time\")\n",
    "plt.ylabel(\"Particle Concentration 2.5\")\n",
    "file_title = \"Air Quality Test Results\"\n",
    "plt.title(file_title)\n",
    "fig.autofmt_xdate()"
   ]
  }
 ],
 "metadata": {
  "kernelspec": {
   "display_name": "Python 3",
   "language": "python",
   "name": "python3"
  },
  "language_info": {
   "codemirror_mode": {
    "name": "ipython",
    "version": 2
   },
   "file_extension": ".py",
   "mimetype": "text/x-python",
   "name": "python",
   "nbconvert_exporter": "python",
   "pygments_lexer": "ipython2",
   "version": "2.7.15"
  }
 },
 "nbformat": 4,
 "nbformat_minor": 1
}
