{
 "cells": [
  {
   "cell_type": "markdown",
   "metadata": {},
   "source": [
    "#### Air Quality Activity Module\n",
    "\n",
    "In this notebook, we will import data from each team and look at comparisons of those results in various ways."
   ]
  },
  {
   "cell_type": "code",
   "execution_count": 2,
   "metadata": {
    "collapsed": true
   },
   "outputs": [],
   "source": [
    "# Plotting related python libraries\n",
    "import matplotlib.pyplot as plt\n",
    "\n",
    "# Standard csv python library\n",
    "import csv\n",
    "\n",
    "# Main python library for mathematical calculations\n",
    "import numpy as np\n",
    "\n",
    "# Python libraries for manipulating dates and times as objects\n",
    "import time\n",
    "import datetime\n",
    "import dateutil"
   ]
  },
  {
   "cell_type": "code",
   "execution_count": 3,
   "metadata": {
    "collapsed": false
   },
   "outputs": [
    {
     "name": "stdout",
     "output_type": "stream",
     "text": [
      "File Name 1: test1.csv\n"
     ]
    },
    {
     "ename": "FileNotFoundError",
     "evalue": "[Errno 2] No such file or directory: 'test1.csv'",
     "output_type": "error",
     "traceback": [
      "\u001b[0;31m---------------------------------------------------------------------------\u001b[0m",
      "\u001b[0;31mFileNotFoundError\u001b[0m                         Traceback (most recent call last)",
      "\u001b[0;32m<ipython-input-3-ee5aed314fc9>\u001b[0m in \u001b[0;36m<module>\u001b[0;34m()\u001b[0m\n\u001b[1;32m      1\u001b[0m \u001b[0;31m#Opens csv files chosen by the user\u001b[0m\u001b[0;34m\u001b[0m\u001b[0;34m\u001b[0m\u001b[0m\n\u001b[1;32m      2\u001b[0m \u001b[0muser_file1\u001b[0m \u001b[0;34m=\u001b[0m \u001b[0minput\u001b[0m\u001b[0;34m(\u001b[0m\u001b[0;34m\"File Name 1: \"\u001b[0m\u001b[0;34m)\u001b[0m\u001b[0;34m\u001b[0m\u001b[0m\n\u001b[0;32m----> 3\u001b[0;31m \u001b[0mresultsa\u001b[0m \u001b[0;34m=\u001b[0m \u001b[0mcsv\u001b[0m\u001b[0;34m.\u001b[0m\u001b[0mreader\u001b[0m\u001b[0;34m(\u001b[0m\u001b[0mopen\u001b[0m\u001b[0;34m(\u001b[0m\u001b[0muser_file1\u001b[0m\u001b[0;34m)\u001b[0m\u001b[0;34m,\u001b[0m \u001b[0mdelimiter\u001b[0m\u001b[0;34m=\u001b[0m\u001b[0;34m','\u001b[0m\u001b[0;34m)\u001b[0m\u001b[0;34m\u001b[0m\u001b[0m\n\u001b[0m\u001b[1;32m      4\u001b[0m \u001b[0;34m\u001b[0m\u001b[0m\n\u001b[1;32m      5\u001b[0m \u001b[0muser_file2\u001b[0m \u001b[0;34m=\u001b[0m \u001b[0minput\u001b[0m\u001b[0;34m(\u001b[0m\u001b[0;34m\"File Name 2: \"\u001b[0m\u001b[0;34m)\u001b[0m\u001b[0;34m\u001b[0m\u001b[0m\n",
      "\u001b[0;31mFileNotFoundError\u001b[0m: [Errno 2] No such file or directory: 'test1.csv'"
     ]
    }
   ],
   "source": [
    "#Opens csv files chosen by the user\n",
    "user_file1 = input(\"File Name 1: \")\n",
    "resultsa = csv.reader(open(user_file1), delimiter=',')\n",
    "\n",
    "user_file2 = input(\"File Name 2: \")\n",
    "resultsb = csv.reader(open(user_file2), delimiter=',')"
   ]
  },
  {
   "cell_type": "code",
   "execution_count": null,
   "metadata": {
    "collapsed": true
   },
   "outputs": [],
   "source": [
    "timesa = []\n",
    "timesb = []\n",
    "Val25a = []\n",
    "Val25b = []\n",
    "\n",
    "row_countera= 0\n",
    "for r in resultsa:\n",
    "    #Skip first row (Row that specifies fields)\n",
    "    row_countera += 1\n",
    "    if row_countera>1:\n",
    "        #Append each column in CSV to a separate list\n",
    "        timesa.append(dateutil.parser.parse(r[0]))\n",
    "        Val25a.append(int(r[8]))\n",
    "\n",
    "row_counterb= 0\n",
    "for r in resultsb:\n",
    "    row_counterb += 1\n",
    "    if row_counterb>1:\n",
    "        timesb.append(dateutil.parser.parse(r[0]))\n",
    "        Val25b.append(int(r[8]))"
   ]
  },
  {
   "cell_type": "code",
   "execution_count": null,
   "metadata": {
    "collapsed": true
   },
   "outputs": [],
   "source": [
    "#Choose the number of data points to combine and average\n",
    "n_merge = int(input(\"n data points to combine:\"))\n",
    "ndata_a = len(Val25a)\n",
    "ndata_b = len(Val25b)\n",
    "nsum_data_a= int(ndata_a/n_merge)\n",
    "nsum_data_b= int(ndata_b/n_merge)"
   ]
  },
  {
   "cell_type": "code",
   "execution_count": null,
   "metadata": {
    "collapsed": true
   },
   "outputs": [],
   "source": [
    "data_ave_a = []\n",
    "data_ave_b = []\n",
    "data_unc_a = []\n",
    "data_unc_b = []\n",
    "merge_times_a = []\n",
    "merge_times_b = []\n",
    "\n",
    "for i in range(nsum_data_a):\n",
    "    #Calculate the mean and standard deviation\n",
    "    idata = Val25a[i*n_merge:(i+1)*n_merge]\n",
    "    idata_array = np.asarray(idata) #Convert 'idata' to a numpy array\n",
    "    aqmean = np.mean(idata_array)\n",
    "    aqsigma = np.sqrt(np.var(idata_array))\n",
    "    data_ave_a.append(aqmean)\n",
    "    data_unc_a.append(aqsigma)\n",
    "    itimes = timesa[i*n_merge:(i+1)*n_merge]\n",
    "    itime = itimes[int(len(itimes)/2)]\n",
    "    merge_times_a.append(itime)\n",
    "\n",
    "for i in range(nsum_data_b):\n",
    "    #Calculate the mean and standard deviation\n",
    "    idata = Val25b[i*n_merge:(i+1)*n_merge]\n",
    "    idata_array = np.asarray(idata)\n",
    "    aqmean = np.mean(idata_array)\n",
    "    aqsigma = np.sqrt(np.var(idata_array))\n",
    "    data_ave_b.append(aqmean)\n",
    "    data_unc_b.append(aqsigma)\n",
    "    itimes = timesb[i*n_merge:(i+1)*n_merge]\n",
    "    itime = itimes[int(len(itimes)/2)]\n",
    "    merge_times_b.append(itime)"
   ]
  },
  {
   "cell_type": "code",
   "execution_count": null,
   "metadata": {
    "collapsed": true
   },
   "outputs": [],
   "source": [
    "fig = plt.figure() \n",
    "\n",
    "#Plotting the first graph, each data set on two separate lines\n",
    "plt.figure(1)\n",
    "plt.plot(merge_times_a, data_ave_a, \"b.\", label='File 1')\n",
    "plt.plot(merge_times_b, data_ave_b, \"g.\", label = 'File 2')\n",
    "plt.legend(loc=\"best\")\n",
    "plt.xlabel(\"Time\")\n",
    "plt.ylabel(\"Particle Concentration 2.5\")\n",
    "file_title = \"Air Quality Test Results\"\n",
    "plt.title(file_title)\n",
    "fig.autofmt_xdate()"
   ]
  },
  {
   "cell_type": "code",
   "execution_count": null,
   "metadata": {
    "collapsed": true
   },
   "outputs": [],
   "source": []
  }
 ],
 "metadata": {
  "kernelspec": {
   "display_name": "Python 3",
   "language": "python",
   "name": "python3"
  },
  "language_info": {
   "codemirror_mode": {
    "name": "ipython",
    "version": 3
   },
   "file_extension": ".py",
   "mimetype": "text/x-python",
   "name": "python",
   "nbconvert_exporter": "python",
   "pygments_lexer": "ipython3",
   "version": "3.6.2"
  }
 },
 "nbformat": 4,
 "nbformat_minor": 0
}
