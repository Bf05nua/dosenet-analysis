{
 "cells": [
  {
   "cell_type": "code",
   "execution_count": 3,
   "metadata": {},
   "outputs": [],
   "source": [
    "import os\n",
    "import numpy as np\n",
    "import csv\n",
    "import datetime\n",
    "import matplotlib.pyplot as plt\n",
    "import sys\n",
    "import argparse"
   ]
  },
  {
   "cell_type": "code",
   "execution_count": 4,
   "metadata": {},
   "outputs": [],
   "source": [
    "path = 'C:/Users/emily/documents/Co2_calibration'"
   ]
  },
  {
   "cell_type": "code",
   "execution_count": 5,
   "metadata": {},
   "outputs": [
    {
     "name": "stdout",
     "output_type": "stream",
     "text": [
      "s1_h1_2l_2019-04-08_CO2.csv\n",
      "499.0809549067133\n",
      "11.29447188764035\n",
      "s1_h1_2l_2019-04-11_CO2.csv\n",
      "507.03893860652346\n",
      "9.418660725557373\n",
      "s1_h1_2l_2019-04-12_CO2.csv\n",
      "414.1415590667447\n",
      "7.130605625631821\n",
      "s1_h2_2l_2019-04-11_CO2.csv\n",
      "408.6930534683925\n",
      "7.375593991050351\n",
      "s2_h1_2l_2019-04-11_CO2.csv\n",
      "433.2046862059875\n",
      "9.603925297895797\n",
      "s2_h1_2l_2019-04-12_CO2.csv\n",
      "415.0177230440768\n",
      "4.909612892503447\n",
      "s2_h2_2l_2019-04-12_CO2.csv\n",
      "389.80300542885493\n",
      "2.4558435976906683\n",
      "s2_h2_2l_2019-04-13_CO2.csv\n",
      "412.7762391542096\n",
      "6.609651474287546\n"
     ]
    }
   ],
   "source": [
    "x = []\n",
    "y = []\n",
    "yerr = []\n",
    "for filename in os.listdir(path):\n",
    "    print(filename)\n",
    "    with open(path+'/'+filename,'r') as f:\n",
    "        reader = csv.reader(f)\n",
    "        i = 0\n",
    "        CO2 = []\n",
    "        err = []\n",
    "        for row in reader:\n",
    "            i = i+1\n",
    "            if i == 1:\n",
    "                continue\n",
    "            CO2.append(float(row[1]))\n",
    "            err.append(float(row[2]))\n",
    "        CO2_avg = np.mean(np.array(CO2))\n",
    "        err_avg = np.std(np.array(CO2))\n",
    "        print(CO2_avg)\n",
    "        print(err_avg)\n",
    "        x.append(filename)\n",
    "        y.append(CO2_avg)\n",
    "        yerr.append(err_avg)"
   ]
  },
  {
   "cell_type": "code",
   "execution_count": 6,
   "metadata": {},
   "outputs": [
    {
     "data": {
      "image/png": "[encoded data removed]",
      "text/plain": [
       "<Figure size 432x288 with 1 Axes>"
      ]
     },
     "metadata": {
      "needs_background": "light"
     },
     "output_type": "display_data"
    }
   ],
   "source": [
    "plt.plot(x, y)\n",
    "plt.errorbar(x, y, yerr)\n",
    "\n",
    "plt.xlabel('test')\n",
    "plt.ylabel('ppm')\n",
    "\n",
    "plt.title('Co2 Averages')\n",
    "\n",
    "plt.show()"
   ]
  },
  {
   "cell_type": "code",
   "execution_count": 7,
   "metadata": {},
   "outputs": [
    {
     "data": {
      "image/png": "[encoded data removed]",
      "text/plain": [
       "<Figure size 432x288 with 1 Axes>"
      ]
     },
     "metadata": {
      "needs_background": "light"
     },
     "output_type": "display_data"
    }
   ],
   "source": [
    "n, bins, patches = plt.hist(x=y, bins='auto')\n",
    "plt.grid(axis='y')\n",
    "plt.xlabel('ppm')\n",
    "plt.ylabel('Frequency')\n",
    "plt.title('CO2 Averages')\n",
    "plt.show()"
   ]
  },
  {
   "cell_type": "code",
   "execution_count": 12,
   "metadata": {},
   "outputs": [
    {
     "name": "stdout",
     "output_type": "stream",
     "text": [
      "Total avg = 434.96951998518784\n",
      "Total std = 40.8691179672996\n",
      "rms=22.081203061940126\n"
     ]
    }
   ],
   "source": [
    "Total_mean = np.mean(np.array(y))\n",
    "Tmean = print('Total avg = {}'.format(Total_mean))\n",
    "Total_std = np.std(np.array(y))\n",
    "print('Total std = {}'.format(Total_std))\n",
    "Ins_rms = np.square(np.array(yerr))\n",
    "Total_rms = np.sqrt(np.sum(Ins_rms))\n",
    "print('rms = {}'.format(Total_rms))"
   ]
  },
  {
   "cell_type": "code",
   "execution_count": null,
   "metadata": {},
   "outputs": [],
   "source": []
  }
 ],
 "metadata": {
  "kernelspec": {
   "display_name": "Python 3",
   "language": "python",
   "name": "python3"
  },
  "language_info": {
   "codemirror_mode": {
    "name": "ipython",
    "version": 3
   },
   "file_extension": ".py",
   "mimetype": "text/x-python",
   "name": "python",
   "nbconvert_exporter": "python",
   "pygments_lexer": "ipython3",
   "version": "3.7.1"
  }
 },
 "nbformat": 4,
 "nbformat_minor": 2
}
