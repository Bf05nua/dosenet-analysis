{
 "cells": [
  {
   "cell_type": "markdown",
   "metadata": {},
   "source": [
    "#### Correlation Analysis Module\n",
    "author: Ali Hanks"
   ]
  },
  {
   "cell_type": "code",
   "execution_count": 2,
   "metadata": {
    "collapsed": false
   },
   "outputs": [],
   "source": [
    "# These first two lines configure the notebook to embed any plots graphed\n",
    "#   in the body of the notebook\n",
    "%matplotlib inline\n",
    "%config InlineBackend.figure_formats=['svg']\n",
    "\n",
    "# Standard csv and file io python libraries\n",
    "import csv\n",
    "import io\n",
    "import os\n",
    "\n",
    "# Library for loading data from a webpage (Python 2 and 3 compatible)\n",
    "from future.standard_library import install_aliases\n",
    "install_aliases()\n",
    "from urllib.request import urlopen, Request\n",
    "\n",
    "# Main python library for mathematical calculations\n",
    "import numpy as np\n",
    "\n",
    "# Plotting related python libraries\n",
    "import matplotlib.pyplot as plt\n",
    "import matplotlib.dates as mdates\n",
    "\n",
    "# Python libraries for manipulating dates and times as objects\n",
    "import time\n",
    "import datetime as dt\n",
    "from matplotlib.dates import date2num"
   ]
  },
  {
   "cell_type": "code",
   "execution_count": 3,
   "metadata": {
    "collapsed": true
   },
   "outputs": [],
   "source": [
    "def getDataInTimeRange(data,times,tstart,tstop):\n",
    "    data_array = np.array(data)\n",
    "    t_array = np.array([t.timestamp() for t in times])\n",
    "    tstart_sec = tstart.timestamp()\n",
    "    tstop_sec = tstop.timestamp()\n",
    "    value_indices = np.where((t_array>=tstart_sec)&(t_array<=tstop_sec))\n",
    "    data_select = data_array[value_indices]\n",
    "    return data_select.tolist()"
   ]
  },
  {
   "cell_type": "code",
   "execution_count": null,
   "metadata": {
    "collapsed": true
   },
   "outputs": [],
   "source": []
  }
 ],
 "metadata": {
  "kernelspec": {
   "display_name": "Python 3",
   "language": "python",
   "name": "python3"
  },
  "language_info": {
   "codemirror_mode": {
    "name": "ipython",
    "version": 3
   },
   "file_extension": ".py",
   "mimetype": "text/x-python",
   "name": "python",
   "nbconvert_exporter": "python",
   "pygments_lexer": "ipython3",
   "version": "3.6.2"
  }
 },
 "nbformat": 4,
 "nbformat_minor": 0
}
