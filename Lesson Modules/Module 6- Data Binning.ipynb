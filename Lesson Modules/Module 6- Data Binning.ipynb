{
 "cells": [
  {
   "cell_type": "markdown",
   "metadata": {},
   "source": [
    "#### Module 6- Data Binning\n",
    "author: Radley Rigonan\n",
    "\n",
    "Data Binning is a broad data-processing technique in which data sets are placed into groups known as \"bins\".  It is known by other names bucketing, discretization, data chopping, and many others.  Data Binning is applicable in a variety of situations such as histograms, processes in which you breakdown data by demographics, and processes that summarize large sets of data.  However, while it is a very popular are useful technique, it also has its fair share of problems.  The following example demonstrates pros and cons of binning:"
   ]
  },
  {
   "cell_type": "code",
   "execution_count": 6,
   "metadata": {
    "collapsed": true
   },
   "outputs": [],
   "source": [
    "%matplotlib inline\n",
    "import csv\n",
    "import io\n",
    "import urllib.request            \n",
    "import matplotlib.pyplot as plt\n",
    "import numpy as np\n",
    "from datetime import datetime \n",
    "\n",
    "url = 'http://radwatch.berkeley.edu/sites/default/files/dosenet/etch_roof.csv' \n",
    "response = urllib.request.urlopen(url)\n",
    "reader = csv.reader(io.TextIOWrapper(response)) \n",
    "timedata = []\n",
    "counts = []\n",
    "CPMerror = []\n",
    "line = 0\n",
    "\n",
    "for row in reader:\n",
    "    if line != 0:\n",
    "        timedata.append(datetime.fromtimestamp(float(row[2],)))\n",
    "            # 3rd column if CSV is a UNIX timestamp that can be converted to datetime via fromtimestamp\n",
    "        counts.append(float(row[6]))\n",
    "        CPMerror.append(float(row[7]))\n",
    "    line += 1"
   ]
  },
  {
   "cell_type": "markdown",
   "metadata": {},
   "source": [
    "For this example, I will bin DoseNet data from our device on the Etcheverry Roof and average the data.  Afterwards, I will plot the data to show the consequences of data binning.  While I perform this technique with my own code, it is important to note that there are many built-in functions within Python and plenty of examples of data binning you can find online."
   ]
  },
  {
   "cell_type": "code",
   "execution_count": 9,
   "metadata": {
    "collapsed": false
   },
   "outputs": [
    {
     "data": {
      "image/png": "[encoded data removed]",
      "text/plain": [
       "<matplotlib.figure.Figure at 0x299abe8f860>"
      ]
     },
     "metadata": {},
     "output_type": "display_data"
    }
   ],
   "source": [
    "def month_bin():\n",
    "    # First, we initialize important values.\n",
    "    Year = [timedata[-1].year]\n",
    "    Month = [timedata[-1].month]\n",
    "    sumCPM = [0]                          # because mean = sum/total, we can just add CPM values as we iterate along the month\n",
    "    sumError = [0]\n",
    "    DataCount = [0]                       # variable to count total number of points per month\n",
    "    bin_num = 0                           # variable to track current month; also tracks number of bins\n",
    "    for i in range(len(counts)-1,0,-1):   # iterate from last point to first point on CSV in steps of -1\n",
    "        if Year[bin_num] == timedata[i].year:        # if current bin year is same as iterated year\n",
    "            if Month[bin_num] == timedata[i].month:  # if current bin month is same as iterated month, they belong in same bin!\n",
    "                sumCPM[bin_num] += counts[i]\n",
    "                sumError[bin_num] += CPMerror[i]     # so we collect the data we need...\n",
    "                DataCount[bin_num] += 1\n",
    "            else:                                    \n",
    "                Year.append(timedata[i].year)        # if the months don't match:\n",
    "                Month.append(timedata[i].month)      \n",
    "                sumCPM.append(0)                     # add another bin by appending 0 and increasing bin_num\n",
    "                sumError.append(0)\n",
    "                DataCount.append(0)\n",
    "                bin_num += 1\n",
    "        else:                                        # if current bin year doesn't match iterated year: \n",
    "            Year.append(timedata[i].year)\n",
    "            Month.append(timedata[i].month)          # add another bin by appending 0 and increasing bin_num\n",
    "            sumCPM.append(0)\n",
    "            sumError.append(0)\n",
    "            DataCount.append(0)\n",
    "            bin_num += 1\n",
    "    \n",
    "    binnedCPM = np.array(sumCPM) / np.array(DataCount)              # np.array allows us to perform element-by-elemtent division\n",
    "    binnedError = np.array(sumError) / np.array(DataCount)\n",
    "    \n",
    "    strDates = [str(m)+'-'+str(n) for m,n in zip(Month,Year)]       # convert Month Year values into string values for datetime\n",
    "    binnedDates = []\n",
    "    for i in range(0,len(Month)):\n",
    "        binnedDates.append(datetime.strptime(strDates[i],'%m-%Y'))  # now everything is in the proper format!\n",
    "        \n",
    "    fig, ax = plt.subplots()\n",
    "    ax.plot(binnedDates,binnedCPM, 'ro-')\n",
    "    ax.errorbar(binnedDates,binnedCPM, yerr=binnedError, fmt='ro', ecolor='r')\n",
    "    plt.xticks(rotation=30)\n",
    "    plt.title('DoseNet: Time-Averaged CPM (Etcheverry Roof)')\n",
    "    plt.xlabel('Date')\n",
    "    plt.ylabel('Average CPM')\n",
    "\n",
    "month_bin()"
   ]
  },
  {
   "cell_type": "markdown",
   "metadata": {},
   "source": [
    "Data binning has enabled us to create a plot with that accurately summarizes general trends of data.  From around 100,000 data points, we were able to condense it into significantly less.  Simultaneously, data binning is a processing technique, meaning the data has been transformed.  We have lost a significant amount of precision and accuracy in our data and interesting points of interest (such as minimums and maximums) have been destroyed.  Thus, data binning is only an introductory pre-processing technique.  Later on, we will examine other processing techniques that reduce the effects of data destruction.\n",
    "\n",
    "For the above code, it is completely fine if it is difficult for you to follow each and every command.  At its core, scripts are composed of logical statements and programming syntax.  It takes time to familiarize yourself with the syntax, and afterwards, you still need to wrap your head around the programmatic logic."
   ]
  }
 ],
 "metadata": {
  "kernelspec": {
   "display_name": "Python [Root]",
   "language": "python",
   "name": "Python [Root]"
  },
  "language_info": {
   "codemirror_mode": {
    "name": "ipython",
    "version": 3
   },
   "file_extension": ".py",
   "mimetype": "text/x-python",
   "name": "python",
   "nbconvert_exporter": "python",
   "pygments_lexer": "ipython3",
   "version": "3.5.2"
  }
 },
 "nbformat": 4,
 "nbformat_minor": 0
}
