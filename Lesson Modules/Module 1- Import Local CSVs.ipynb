{
 "cells": [
  {
   "cell_type": "markdown",
   "metadata": {},
   "source": [
    "#### Module 1- Import Local CSVs\n",
    "author: Radley Rigonan\n",
    "\n",
    "This is an example of reading and importing .CSV files stored in your device onto Python.  Comma separated values (.CSV) is a filetype that stores tabular data in plaintext. It is a  widely standard format used in spreadsheets, data storage, and data exchange.\n",
    "\n",
    "In this module, I will be using lbl.csv which can be downloaded from the following link:\n",
    "http://radwatch.berkeley.edu/sites/default/files/dosenet/lbl.csv"
   ]
  },
  {
   "cell_type": "code",
   "execution_count": 1,
   "metadata": {
    "collapsed": true
   },
   "outputs": [],
   "source": [
    "import csv      # module used for reading and converting .CSV files\n",
    "import os       # module that enables local operating system dependent commands"
   ]
  },
  {
   "cell_type": "markdown",
   "metadata": {},
   "source": [
    "Normally, your file of interest is not located in the default working directory of Python. The command os.chdir() changes the working directory so we can open our file in this script."
   ]
  },
  {
   "cell_type": "code",
   "execution_count": 2,
   "metadata": {
    "collapsed": true
   },
   "outputs": [],
   "source": [
    "filepath = 'C:/Users/Radley/Downloads'   # save file location as a string.\n",
    "os.chdir(filepath)                       # and use os.chdir() to change the directory\n",
    "filename = 'lbl.csv'                     # now that you are in the correct directory, store the file name"
   ]
  },
  {
   "cell_type": "markdown",
   "metadata": {},
   "source": [
    "The following module will read the CSV with csv.reader and display the data in your console one row at a time. This display command inserts a comma and space between each data entry, effectively reprinting the .CSV in your Python console."
   ]
  },
  {
   "cell_type": "code",
   "execution_count": 3,
   "metadata": {
    "collapsed": true
   },
   "outputs": [],
   "source": [
    "def printlocalCSV():\n",
    "    csvfile = open(filename)             # open the file with Python\n",
    "    reader = csv.reader(csvfile)         # read the CSV with csv.reader\n",
    "    for row in reader:                   # for every row in the CSV...\n",
    "        print(', '.join(row))            # display/print the CSV with a comma and space separating each element"
   ]
  },
  {
   "cell_type": "markdown",
   "metadata": {},
   "source": [
    "The following module is an example of reading a CSV and importing the data as variables in Python.  In many circumstances, you will want to import the data so that it can be used in Python.  In addition, I use csv.reader with different, more efficient syntax:    "
   ]
  },
  {
   "cell_type": "code",
   "execution_count": 4,
   "metadata": {
    "collapsed": true
   },
   "outputs": [],
   "source": [
    "def importlocalCSV():\n",
    "    datetime = []               # set up an empty list so you can place the data into it.\n",
    "    cpm = []\n",
    "    line = 0                    # we want to ignore the 1st row of headers, so we set a variable to count the row we are iterating on.\n",
    "    with open(filename) as csvfile:\n",
    "        reader = csv.reader(csvfile)\n",
    "        for row in reader:\n",
    "            if line != 0:       # conditional statement to ignore first row of headers\n",
    "                datetime.append(row[0])     # append means ATTACH.  We are attaching data in the 1st column to our list, row by row\n",
    "                cpm.append(float(row[6]))   # the command float records each element as a numerical value rather than a character string.\n",
    "            line += 1\n",
    "    print(datetime,cpm)"
   ]
  }
 ],
 "metadata": {
  "kernelspec": {
   "display_name": "Python [Root]",
   "language": "python",
   "name": "Python [Root]"
  },
  "language_info": {
   "codemirror_mode": {
    "name": "ipython",
    "version": 3
   },
   "file_extension": ".py",
   "mimetype": "text/x-python",
   "name": "python",
   "nbconvert_exporter": "python",
   "pygments_lexer": "ipython3",
   "version": "3.5.2"
  }
 },
 "nbformat": 4,
 "nbformat_minor": 0
}
