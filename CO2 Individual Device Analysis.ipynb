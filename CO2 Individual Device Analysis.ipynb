{
 "cells": [
  {
   "cell_type": "code",
   "execution_count": 18,
   "metadata": {},
   "outputs": [],
   "source": [
    "import os\n",
    "import numpy as np\n",
    "import csv\n",
    "import matplotlib.pyplot as plt\n",
    "import sys\n",
    "import argparse\n",
    "import re\n",
    "from scipy.stats import skew as sps"
   ]
  },
  {
   "cell_type": "code",
   "execution_count": 7,
   "metadata": {},
   "outputs": [],
   "source": [
    "path_list = 'C:/Users/emily/documents/CO2_calibration/Summer_1','C:/Users/emily/documents/CO2_calibration/Summer_2','C:/Users/emily/documents/CO2_calibration/Summer_3','C:/Users/emily/documents/CO2_calibration/Summer_4','C:/Users/emily/documents/CO2_calibration/Summer_5','C:/Users/emily/documents/CO2_calibration/Summer_6','C:/Users/emily/documents/CO2_calibration/Summer_7','C:/Users/emily/documents/CO2_calibration/Summer_8'"
   ]
  },
  {
   "cell_type": "code",
   "execution_count": 8,
   "metadata": {},
   "outputs": [
    {
     "name": "stdout",
     "output_type": "stream",
     "text": [
      "Inside_p1_g1_2019-05-28_CO2.csv\n",
      "553.0630531478198\n",
      "5.679723881708976\n",
      "Inside_p1_g3_2019-05-28_CO2.csv\n",
      "431.945199417906\n",
      "0.4154961388721495\n",
      "Inside_p1_g4_2019-05-28_CO2.csv\n",
      "428.2896269249659\n",
      "2.529218012037203\n",
      "Inside_p1_g5_2019-05-28_CO2.csv\n",
      "414.38964125750954\n",
      "0.5978561273595472\n",
      "Inside_p1_g6_2019-05-28_CO2.csv\n",
      "436.38213037474054\n",
      "0.37695641378559963\n",
      "Inside_p1_g7_2019-05-28_CO2.csv\n",
      "537.4856838656896\n",
      "2.3362662826604375\n",
      "Inside_p1_g8_2019-05-28_CO2.csv\n",
      "439.62898485617177\n",
      "0.48982789101925\n",
      "Inside_p2_g1_2019-05-30_CO2.csv\n",
      "457.4483914301453\n",
      "5.710822328155824\n",
      "Inside_p2_g3_2019-05-30_CO2.csv\n",
      "432.81740041840317\n",
      "0.41343007717894853\n",
      "Inside_p2_g4_2019-05-30_CO2.csv\n",
      "439.3214470412807\n",
      "5.293945306160945\n",
      "Inside_p2_g5_2019-05-30_CO2.csv\n",
      "414.91399762376113\n",
      "0.24093855297843986\n",
      "Inside_p2_g6_2019-05-30_CO2.csv\n",
      "443.70906514833723\n",
      "4.4496672830995\n",
      "Inside_p2_g7_2019-05-30_CO2.csv\n",
      "449.29748207234036\n",
      "4.261343314303451\n",
      "Inside_p2_g8_2019-05-30_CO2.csv\n",
      "442.61170539399075\n",
      "1.3936767162982457\n",
      "Inside_p3_g1_2019-05-31_CO2.csv\n",
      "450.3854564144932\n",
      "5.5908257944713275\n",
      "Inside_p3_g3_2019-05-31_CO2.csv\n",
      "432.61979184233235\n",
      "0.3818039813757444\n",
      "Inside_p3_g4_2019-05-31_CO2.csv\n",
      "437.9596534569753\n",
      "7.316832711758084\n",
      "Inside_p3_g5_2019-05-31_CO2.csv\n",
      "415.1691614409544\n",
      "0.47875737469054286\n",
      "Inside_p3_g6_2019-05-31_CO2.csv\n",
      "439.49586346075887\n",
      "1.3659895794511876\n",
      "Inside_p3_g7_2019-05-31_CO2.csv\n",
      "439.5420787908479\n",
      "5.823188234842032\n",
      "Inside_p3_g8_2019-05-31_CO2.csv\n",
      "445.91088241498613\n",
      "3.8537838367197983\n",
      "Inside_p4_g1_2019-06-03_CO2.csv\n",
      "459.22006019149825\n",
      "4.70440715431041\n",
      "Inside_p4_g3_2019-06-03_CO2.csv\n",
      "442.47013917401677\n",
      "4.865627205212807\n",
      "Inside_p4_g4_2019-06-03_CO2.csv\n",
      "428.20305109095744\n",
      "5.112991854709496\n",
      "Inside_p4_g5_2019-06-03_CO2.csv\n",
      "414.9989183292674\n",
      "0.23746792923153945\n",
      "Inside_p4_g6_2019-06-03_CO2.csv\n",
      "439.2351727170016\n",
      "1.0091361751608938\n",
      "Inside_p4_g7_2019-06-03_CO2.csv\n",
      "439.5081851445536\n",
      "2.446151799894682\n",
      "Inside_p4_g8_2019-06-03_CO2.csv\n",
      "455.1252621243325\n",
      "5.29486128208462\n",
      "Inside_p5_g1_2019-06-04_CO2.csv\n",
      "460.1137203641237\n",
      "7.038555831101256\n",
      "Inside_p5_g3_2019-06-04_CO2.csv\n",
      "447.15042190835055\n",
      "8.159106643443126\n",
      "Inside_p5_g4_2019-06-04_CO2.csv\n",
      "435.4162722559183\n",
      "6.8390433447784424\n",
      "Inside_p5_g5_2019-06-04_CO2.csv\n",
      "415.13648827550867\n",
      "0.23467781268262483\n",
      "Inside_p5_g6_2019-06-04_CO2.csv\n",
      "439.3671490017791\n",
      "1.1312705032997203\n",
      "Inside_p5_g7_2019-06-04_CO2.csv\n",
      "451.4029750970061\n",
      "6.404643088519892\n",
      "Inside_p5_g8_2019-06-04_CO2.csv\n",
      "454.3072570236107\n",
      "7.635653957953195\n",
      "Inside_p6_g1_2019-06-06_CO2.csv\n",
      "440.5595335882696\n",
      "1.4297150578647468\n",
      "Inside_p6_g3_2019-06-06_CO2.csv\n",
      "435.21404995186725\n",
      "1.2221070945007315\n",
      "Inside_p6_g4_2019-06-06_CO2.csv\n",
      "428.1632671055629\n",
      "6.469244155291705\n",
      "Inside_p6_g5_2019-06-06_CO2.csv\n",
      "427.14659074145754\n",
      "7.513698709380589\n",
      "Inside_p6_g6_2019-06-06_CO2.csv\n",
      "438.81103269631615\n",
      "0.5413327275670237\n",
      "Inside_p6_g7_2019-06-06_CO2.csv\n",
      "436.9492873359666\n",
      "4.705601237487929\n",
      "Inside_p6_g8_2019-06-06_CO2.csv\n",
      "446.4048065796912\n",
      "0.7372244849143409\n",
      "Inside_p7_g1_2019-06-07_CO2.csv\n",
      "444.56795786089185\n",
      "3.6807018451799913\n",
      "Inside_p7_g3_2019-06-07_CO2.csv\n",
      "444.23632614473627\n",
      "5.030293378586486\n",
      "Inside_p7_g4_2019-06-07_CO2.csv\n",
      "437.1040384798748\n",
      "5.717530759396087\n",
      "Inside_p7_g5_2019-06-07_CO2.csv\n",
      "416.30190171878814\n",
      "2.0816130828915966\n",
      "Inside_p7_g6_2019-06-07_CO2.csv\n",
      "437.6583857728904\n",
      "0.730217997655883\n",
      "Inside_p7_g7_2019-06-06_CO2.csv\n",
      "438.11947684633526\n",
      "0.8121232800369228\n",
      "Inside_p7_g8_2019-06-07_CO2.csv\n",
      "446.4226817674443\n",
      "0.4127430776754434\n",
      "Inside_p8_g1_2019-06-10_CO2.csv\n",
      "500.79382177761477\n",
      "7.568994993778336\n",
      "Inside_p8_g3_2019-06-10_CO2.csv\n",
      "494.04445800838624\n",
      "7.32364510863797\n",
      "Inside_p8_g4_2019-06-10_CO2.csv\n",
      "512.289759697736\n",
      "9.770724490088696\n",
      "Inside_p8_g5_2019-06-10_CO2.csv\n",
      "443.9982122163086\n",
      "9.539315542021093\n",
      "Inside_p8_g6_2019-06-10_CO2.csv\n",
      "440.24474990025993\n",
      "3.345469786456272\n",
      "Inside_p8_g7_2019-06-09_CO2.csv\n",
      "475.0362891788682\n",
      "7.929250523156631\n",
      "Inside_p8_g8_2019-06-10_CO2.csv\n",
      "511.0324347980109\n",
      "7.011308924140478\n"
     ]
    }
   ],
   "source": [
    "a = []\n",
    "b = []\n",
    "berr = []\n",
    "all2CO2 = []\n",
    "\n",
    "for path in path_list:\n",
    "    for filename in os.listdir(path):\n",
    "        print(filename)\n",
    "        with open(path+'/'+filename,'r') as f:\n",
    "            reader = csv.reader(f)\n",
    "            CO2 = []\n",
    "            err = []\n",
    "\n",
    "            for row in reader:\n",
    "                try:\n",
    "                    start = float(row[0])+7200\n",
    "                    break\n",
    "                except Exception as e:\n",
    "                    pass\n",
    "\n",
    "            ends = start+14400\n",
    "\n",
    "            for row in reader:\n",
    "                if float(row[0]) >= start:\n",
    "                    if float(row[0]) <= ends:\n",
    "                        try:\n",
    "                            CO2.append(float(row[1]))\n",
    "                            err.append(float(row[2]))\n",
    "                        except Exception as e:\n",
    "                            print(e)\n",
    "                            pass  \n",
    "\n",
    "            CO2_avg = np.mean(np.array(CO2))\n",
    "            err_avg = np.std(np.array(CO2))\n",
    "            print(CO2_avg)\n",
    "            print(err_avg)\n",
    "            file_ID = re.match( r'(.*)_(.*)_g8_2019.*', filename, re.M)\n",
    "            if file_ID:\n",
    "                a.append(file_ID.group(2))\n",
    "                b.append(CO2_avg)\n",
    "                berr.append(err_avg)\n",
    "                all2CO2.append(CO2)"
   ]
  },
  {
   "cell_type": "code",
   "execution_count": 9,
   "metadata": {},
   "outputs": [
    {
     "data": {
      "image/png": "[encoded data removed]",
      "text/plain": [
       "<Figure size 432x288 with 1 Axes>"
      ]
     },
     "metadata": {
      "needs_background": "light"
     },
     "output_type": "display_data"
    }
   ],
   "source": [
    "plt.plot(a,b)\n",
    "plt.errorbar(a,b,berr)\n",
    "\n",
    "plt.xlabel('test')\n",
    "plt.ylabel('ppm')\n",
    "\n",
    "plt.title('Co2 Selective Time Averages')\n",
    "\n",
    "plt.show()"
   ]
  },
  {
   "cell_type": "code",
   "execution_count": 10,
   "metadata": {},
   "outputs": [
    {
     "data": {
      "image/png": "[encoded data removed]",
      "text/plain": [
       "<Figure size 432x288 with 1 Axes>"
      ]
     },
     "metadata": {
      "needs_background": "light"
     },
     "output_type": "display_data"
    }
   ],
   "source": [
    "labels=a\n",
    "for i in range(len(all2CO2)):\n",
    "    n, bins, patches = plt.hist(x=all2CO2[i], bins='auto', alpha=0.5, label=labels[i])\n",
    "    plt.legend(loc='best')\n",
    "    plt.title('CO2 Values Histogram')"
   ]
  },
  {
   "cell_type": "code",
   "execution_count": 11,
   "metadata": {},
   "outputs": [
    {
     "name": "stdout",
     "output_type": "stream",
     "text": [
      "Total avg = 455.1805018697798\n",
      "Total std = 21.67852171992724\n",
      "rms = 12.379216170409101\n"
     ]
    }
   ],
   "source": [
    "Total_mean = np.mean(np.array(b))\n",
    "Tmean = print('Total avg = {}'.format(Total_mean))\n",
    "Total_std = np.std(np.array(b))\n",
    "print('Total std = {}'.format(Total_std))\n",
    "Ins_rms = np.square(np.array(berr))\n",
    "Total_rms = np.sqrt(np.sum(Ins_rms))\n",
    "print('rms = {}'.format(Total_rms))"
   ]
  },
  {
   "cell_type": "code",
   "execution_count": 12,
   "metadata": {},
   "outputs": [
    {
     "data": {
      "image/png": "[encoded data removed]",
      "text/plain": [
       "<Figure size 432x288 with 1 Axes>"
      ]
     },
     "metadata": {
      "needs_background": "light"
     },
     "output_type": "display_data"
    }
   ],
   "source": [
    "plt.plot(a,berr)\n",
    "\n",
    "plt.xlabel('test')\n",
    "plt.ylabel('ppm')\n",
    "\n",
    "plt.title('Co2 Selective Time Standard Deviations')\n",
    "\n",
    "plt.show()"
   ]
  },
  {
   "cell_type": "code",
   "execution_count": 20,
   "metadata": {},
   "outputs": [
    {
     "data": {
      "text/plain": [
       "2.040822983069226"
      ]
     },
     "execution_count": 20,
     "metadata": {},
     "output_type": "execute_result"
    }
   ],
   "source": [
    "sps(np.array(b))"
   ]
  },
  {
   "cell_type": "code",
   "execution_count": null,
   "metadata": {},
   "outputs": [],
   "source": []
  },
  {
   "cell_type": "code",
   "execution_count": null,
   "metadata": {},
   "outputs": [],
   "source": []
  }
 ],
 "metadata": {
  "kernelspec": {
   "display_name": "Python 3",
   "language": "python",
   "name": "python3"
  },
  "language_info": {
   "codemirror_mode": {
    "name": "ipython",
    "version": 3
   },
   "file_extension": ".py",
   "mimetype": "text/x-python",
   "name": "python",
   "nbconvert_exporter": "python",
   "pygments_lexer": "ipython3",
   "version": "3.7.1"
  }
 },
 "nbformat": 4,
 "nbformat_minor": 2
}
